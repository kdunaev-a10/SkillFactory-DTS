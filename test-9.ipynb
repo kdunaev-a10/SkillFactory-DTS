{
 "cells": [
  {
   "cell_type": "code",
   "execution_count": 1,
   "metadata": {},
   "outputs": [],
   "source": [
    "from collections import deque"
   ]
  },
  {
   "cell_type": "code",
   "execution_count": 3,
   "metadata": {},
   "outputs": [
    {
     "name": "stdout",
     "output_type": "stream",
     "text": [
      "deque([6, 18, 4, 7, 8, 8, 5, 18, 12, 17, 13, 15, 6, 7, 9, 17, 18, 8, 4, 11, 10, 8, 2, 10, 6, 10, 10, 9])\n",
      "9\n"
     ]
    },
    {
     "data": {
      "text/plain": [
       "deque([6,\n",
       "       18,\n",
       "       4,\n",
       "       7,\n",
       "       8,\n",
       "       8,\n",
       "       5,\n",
       "       18,\n",
       "       12,\n",
       "       17,\n",
       "       13,\n",
       "       15,\n",
       "       6,\n",
       "       7,\n",
       "       9,\n",
       "       17,\n",
       "       18,\n",
       "       8,\n",
       "       4,\n",
       "       11,\n",
       "       10,\n",
       "       8,\n",
       "       2,\n",
       "       10,\n",
       "       6,\n",
       "       10,\n",
       "       10])"
      ]
     },
     "execution_count": 3,
     "metadata": {},
     "output_type": "execute_result"
    }
   ],
   "source": [
    "users = [6, 18, 4, 7, 8, 8, 5, 18, 12, 17, 13, 15, 6, 7, 9, 17, 18, 8, 4, 11, 10, 8, 2, 10, 6, 10, 10, 9]\n",
    "dq_users=deque(users)\n",
    "print(dq_users)\n",
    "print(dq_users.pop())\n"
   ]
  }
 ],
 "metadata": {
  "kernelspec": {
   "display_name": "Python 3.9.10 ('venv': venv)",
   "language": "python",
   "name": "python3"
  },
  "language_info": {
   "codemirror_mode": {
    "name": "ipython",
    "version": 3
   },
   "file_extension": ".py",
   "mimetype": "text/x-python",
   "name": "python",
   "nbconvert_exporter": "python",
   "pygments_lexer": "ipython3",
   "version": "3.9.10"
  },
  "orig_nbformat": 4,
  "vscode": {
   "interpreter": {
    "hash": "2741c0f151fcc1c598163fda889615f6748bf0880bdd6dd6aac269f3c712776d"
   }
  }
 },
 "nbformat": 4,
 "nbformat_minor": 2
}
