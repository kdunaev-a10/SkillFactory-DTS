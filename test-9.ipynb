{
 "cells": [
  {
   "cell_type": "code",
   "execution_count": null,
   "metadata": {},
   "outputs": [],
   "source": [
    "from collections import deque\n",
    "users = [6, 18, 4, 7, 8, 8, 5, 18, 12, 17, 13, 15, 6, 7, 9, 17, 18, 8, 4, 11, 10, 8, 2, 10, 6, 10, 10, 9]"
   ]
  },
  {
   "cell_type": "code",
   "execution_count": null,
   "metadata": {},
   "outputs": [],
   "source": [
    "\n",
    "dq_users=deque(users)\n",
    "print(dq_users)\n",
    "print(dq_users.popleft())\n",
    "print(dq_users)\n"
   ]
  },
  {
   "cell_type": "code",
   "execution_count": null,
   "metadata": {},
   "outputs": [],
   "source": [
    "dq_users.rotate(-5)\n",
    "print(dq_users)\n",
    "print(dq_users.pop())"
   ]
  },
  {
   "cell_type": "code",
   "execution_count": 23,
   "metadata": {},
   "outputs": [
    {
     "name": "stdout",
     "output_type": "stream",
     "text": [
      "2\n",
      "deque([])\n"
     ]
    },
    {
     "ename": "IndexError",
     "evalue": "pop from an empty deque",
     "output_type": "error",
     "traceback": [
      "\u001b[1;31m---------------------------------------------------------------------------\u001b[0m",
      "\u001b[1;31mIndexError\u001b[0m                                Traceback (most recent call last)",
      "\u001b[1;32mc:\\Users\\kot\\OneDrive\\Documents\\GitHub\\SkillFactory-DTS\\test-9.ipynb Cell 4\u001b[0m in \u001b[0;36m<cell line: 4>\u001b[1;34m()\u001b[0m\n\u001b[0;32m      <a href='vscode-notebook-cell:/c%3A/Users/kot/OneDrive/Documents/GitHub/SkillFactory-DTS/test-9.ipynb#ch0000006?line=1'>2</a>\u001b[0m dq_users\u001b[39m.\u001b[39mclear()\n\u001b[0;32m      <a href='vscode-notebook-cell:/c%3A/Users/kot/OneDrive/Documents/GitHub/SkillFactory-DTS/test-9.ipynb#ch0000006?line=2'>3</a>\u001b[0m \u001b[39mprint\u001b[39m(dq_users)\n\u001b[1;32m----> <a href='vscode-notebook-cell:/c%3A/Users/kot/OneDrive/Documents/GitHub/SkillFactory-DTS/test-9.ipynb#ch0000006?line=3'>4</a>\u001b[0m dq_users\u001b[39m.\u001b[39;49mpop()\n",
      "\u001b[1;31mIndexError\u001b[0m: pop from an empty deque"
     ]
    }
   ],
   "source": [
    "print(dq_users.count(8))\n",
    "dq_users.clear()\n",
    "print(dq_users)\n",
    "dq_users.pop()"
   ]
  },
  {
   "cell_type": "code",
   "execution_count": null,
   "metadata": {},
   "outputs": [],
   "source": []
  }
 ],
 "metadata": {
  "kernelspec": {
   "display_name": "Python 3.9.10 ('venv': venv)",
   "language": "python",
   "name": "python3"
  },
  "language_info": {
   "codemirror_mode": {
    "name": "ipython",
    "version": 3
   },
   "file_extension": ".py",
   "mimetype": "text/x-python",
   "name": "python",
   "nbconvert_exporter": "python",
   "pygments_lexer": "ipython3",
   "version": "3.9.10"
  },
  "orig_nbformat": 4,
  "vscode": {
   "interpreter": {
    "hash": "2741c0f151fcc1c598163fda889615f6748bf0880bdd6dd6aac269f3c712776d"
   }
  }
 },
 "nbformat": 4,
 "nbformat_minor": 2
}
