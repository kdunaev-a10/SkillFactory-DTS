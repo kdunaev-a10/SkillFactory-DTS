{
 "cells": [
  {
   "cell_type": "markdown",
   "metadata": {},
   "source": [
    "\n",
    "\n",
    "Области знаний, представленные в заданиях, необходимы для любого дата-сайентиста:\n",
    "\n",
    "        Python как язык программирования\n",
    "        Операторы\n",
    "        Типы данных\n",
    "        Строки\n",
    "        Циклы\n",
    "\n",
    "        Функции\n",
    "        Библиотека NumPy\n",
    "        Библиотека Pandas\n",
    "        Визуализация\n",
    "        Очистка данных\n",
    "\n",
    "Советуем вам ознакомиться со статьёй, где собрано 80 самых популярных вопросов по Python, которые задают на собеседованиях.\n",
    "\n",
    "https://nuancesprog.ru/p/11460/"
   ]
  },
  {
   "cell_type": "code",
   "execution_count": 52,
   "metadata": {},
   "outputs": [],
   "source": [
    "import numpy as np\n",
    "import requests # Импортируем библиотеку requests\n",
    "from pprint import pprint # Импортируем функцию pprint()\n",
    "from bs4 import BeautifulSoup # Импортируем библиотеку BeautifulSoup\n",
    "import time # Импортируем модуль time\n",
    "import schedule # Импортируем модуль schedule"
   ]
  },
  {
   "cell_type": "code",
   "execution_count": 14,
   "metadata": {},
   "outputs": [
    {
     "name": "stdout",
     "output_type": "stream",
     "text": [
      "      *\n",
      "     ***\n",
      "    *****\n",
      "   *******\n",
      "  *********\n",
      " ***********\n",
      "*************\n"
     ]
    }
   ],
   "source": [
    "def star_triangle(r):\n",
    "   for x in range(r):\n",
    "      #print(r-x-1)\n",
    "      #print(2*x+1)\n",
    "      print(' '*(r-x-1)+'*'*(2*x+1))\n",
    "\n",
    "star_triangle(7)"
   ]
  },
  {
   "cell_type": "code",
   "execution_count": 15,
   "metadata": {},
   "outputs": [
    {
     "name": "stdout",
     "output_type": "stream",
     "text": [
      "True True True False\n"
     ]
    }
   ],
   "source": [
    "a = [1,2,3]\n",
    "b = a\n",
    "c = [1,2,3]\n",
    "print(a == b, a == c, a is b, a is c)"
   ]
  },
  {
   "cell_type": "code",
   "execution_count": 20,
   "metadata": {},
   "outputs": [
    {
     "ename": "TypeError",
     "evalue": "can only concatenate list (not \"tuple\") to list",
     "output_type": "error",
     "traceback": [
      "\u001b[1;31m---------------------------------------------------------------------------\u001b[0m",
      "\u001b[1;31mTypeError\u001b[0m                                 Traceback (most recent call last)",
      "\u001b[1;32mc:\\Users\\kot\\OneDrive\\Documents\\GitHub\\SkillFactory-DTS\\module-python\\attestation.ipynb Cell 5\u001b[0m in \u001b[0;36m<cell line: 3>\u001b[1;34m()\u001b[0m\n\u001b[0;32m      <a href='vscode-notebook-cell:/c%3A/Users/kot/OneDrive/Documents/GitHub/SkillFactory-DTS/module-python/attestation.ipynb#W4sZmlsZQ%3D%3D?line=0'>1</a>\u001b[0m one \u001b[39m=\u001b[39m [\u001b[39m1\u001b[39m, \u001b[39m\"\u001b[39m\u001b[39m2\u001b[39m\u001b[39m\"\u001b[39m, \u001b[39m3\u001b[39m, \u001b[39m\"\u001b[39m\u001b[39m4\u001b[39m\u001b[39m\"\u001b[39m]\n\u001b[0;32m      <a href='vscode-notebook-cell:/c%3A/Users/kot/OneDrive/Documents/GitHub/SkillFactory-DTS/module-python/attestation.ipynb#W4sZmlsZQ%3D%3D?line=1'>2</a>\u001b[0m two \u001b[39m=\u001b[39m (\u001b[39m\"\u001b[39m\u001b[39ma\u001b[39m\u001b[39m\"\u001b[39m, \u001b[39m\"\u001b[39m\u001b[39mb\u001b[39m\u001b[39m\"\u001b[39m, \u001b[39m\"\u001b[39m\u001b[39mc\u001b[39m\u001b[39m\"\u001b[39m, \u001b[39m\"\u001b[39m\u001b[39md\u001b[39m\u001b[39m\"\u001b[39m)\n\u001b[1;32m----> <a href='vscode-notebook-cell:/c%3A/Users/kot/OneDrive/Documents/GitHub/SkillFactory-DTS/module-python/attestation.ipynb#W4sZmlsZQ%3D%3D?line=2'>3</a>\u001b[0m three \u001b[39m=\u001b[39m one \u001b[39m+\u001b[39;49m two\n",
      "\u001b[1;31mTypeError\u001b[0m: can only concatenate list (not \"tuple\") to list"
     ]
    }
   ],
   "source": [
    "one = [1, \"2\", 3, \"4\"]\n",
    "two = (\"a\", \"b\", \"c\", \"d\")\n",
    "three = one + two"
   ]
  },
  {
   "cell_type": "code",
   "execution_count": 33,
   "metadata": {},
   "outputs": [
    {
     "name": "stdout",
     "output_type": "stream",
     "text": [
      "[3, 2, 1]\n",
      "[3, 2, 1]\n"
     ]
    }
   ],
   "source": [
    "my_lst = [1,2,3]\n",
    "a = my_lst[::-1]\n",
    "print(a)\n",
    "my_lst.reverse()\n",
    "print(my_lst)"
   ]
  },
  {
   "cell_type": "code",
   "execution_count": 38,
   "metadata": {},
   "outputs": [
    {
     "name": "stdout",
     "output_type": "stream",
     "text": [
      "{0: 's', 1: 'a', 2: 'm', 3: 'p', 4: 'l', 5: 'e'}\n"
     ]
    },
    {
     "ename": "AttributeError",
     "evalue": "'dict' object has no attribute 'sort'",
     "output_type": "error",
     "traceback": [
      "\u001b[1;31m---------------------------------------------------------------------------\u001b[0m",
      "\u001b[1;31mAttributeError\u001b[0m                            Traceback (most recent call last)",
      "\u001b[1;32mc:\\Users\\kot\\OneDrive\\Documents\\GitHub\\SkillFactory-DTS\\module-python\\attestation.ipynb Cell 7\u001b[0m in \u001b[0;36m<cell line: 5>\u001b[1;34m()\u001b[0m\n\u001b[0;32m      <a href='vscode-notebook-cell:/c%3A/Users/kot/OneDrive/Documents/GitHub/SkillFactory-DTS/module-python/attestation.ipynb#W6sZmlsZQ%3D%3D?line=1'>2</a>\u001b[0m \u001b[39mprint\u001b[39m(my_dict)\n\u001b[0;32m      <a href='vscode-notebook-cell:/c%3A/Users/kot/OneDrive/Documents/GitHub/SkillFactory-DTS/module-python/attestation.ipynb#W6sZmlsZQ%3D%3D?line=3'>4</a>\u001b[0m \u001b[39m#my_dict = sorted(my_dict.keys())\u001b[39;00m\n\u001b[1;32m----> <a href='vscode-notebook-cell:/c%3A/Users/kot/OneDrive/Documents/GitHub/SkillFactory-DTS/module-python/attestation.ipynb#W6sZmlsZQ%3D%3D?line=4'>5</a>\u001b[0m \u001b[39mprint\u001b[39m(my_dict\u001b[39m.\u001b[39;49msort())\n",
      "\u001b[1;31mAttributeError\u001b[0m: 'dict' object has no attribute 'sort'"
     ]
    }
   ],
   "source": [
    "my_dict = {key:val for key, val in enumerate('sample')}\n",
    "print(my_dict)\n",
    "\n",
    "#my_dict = sorted(my_dict.keys())\n",
    "print(my_dict.sort())"
   ]
  },
  {
   "cell_type": "code",
   "execution_count": 43,
   "metadata": {},
   "outputs": [
    {
     "name": "stdout",
     "output_type": "stream",
     "text": [
      "{'access': True, 'login': 'some', 'password': 'some'}\n"
     ]
    }
   ],
   "source": [
    "config = {\n",
    "    \"server\": {\n",
    "        \"host\": \"127.0.0.1\",\n",
    "        \"port\": \"22\"\n",
    "    },\n",
    "    \"configuration\": {\n",
    "        \"ssh\": {\n",
    "            \"access\": True,\n",
    "            \"login\": \"some\",\n",
    "            \"password\": \"some\"\n",
    "        },\n",
    "        \"name\": \"2491Oaaf1414\"\n",
    "    }\n",
    "}\n",
    "\n",
    "print(config.get('configuration').get('ssh'))"
   ]
  },
  {
   "cell_type": "code",
   "execution_count": 46,
   "metadata": {},
   "outputs": [
    {
     "name": "stdout",
     "output_type": "stream",
     "text": [
      "AAABBBCCDEEE\n",
      "AAABBBCCDEEE\n",
      "True\n"
     ]
    }
   ],
   "source": [
    "s = 'AAA BBB CC D EEE'\n",
    "print(''.join(s.split(' ')))\n",
    "print(s.replace(' ', ''))\n",
    "\n",
    "\n",
    "n = '111222'\n",
    "print(n.isnumeric())"
   ]
  },
  {
   "cell_type": "code",
   "execution_count": 51,
   "metadata": {},
   "outputs": [
    {
     "name": "stdout",
     "output_type": "stream",
     "text": [
      "##ARRAYS\n",
      "[ 5  2  9 10]\n",
      "<class 'numpy.ndarray'>\n",
      "[0.375 0.    0.875 1.   ]\n",
      "[3.75 3.   4.75 5.  ]\n"
     ]
    }
   ],
   "source": [
    "\n",
    "\n",
    "def standart_z(values, new):\n",
    "    relative_value = (values - values.min()) / (values.max() - values.min())\n",
    "    print(relative_value)\n",
    "    scaled_value = new[0] + (new[1] - new[0]) * relative_value\n",
    "    return scaled_value\n",
    "\n",
    "####\n",
    "print('##ARRAYS')\n",
    "arr = np.array([5,2,9,10])\n",
    "print(arr)\n",
    "print(type(arr))\n",
    "\n",
    "print(standart_z(arr, (3,5)))"
   ]
  },
  {
   "cell_type": "code",
   "execution_count": 58,
   "metadata": {},
   "outputs": [
    {
     "name": "stdout",
     "output_type": "stream",
     "text": [
      "0\n"
     ]
    }
   ],
   "source": [
    "def read_data(input):\n",
    "    #data = open('war_peace_processed.txt', 'rt', encoding='utf-8').read()\n",
    "    data = input.split('\\n')\n",
    "    return data\n",
    "\n",
    "\n",
    "# Функция подсчёта частоты употребления слова в тексте\n",
    "def freq(target_word, data):  \n",
    "    new_dict = dict() \n",
    "    for i in data: # СТРОКА С ОШИБКОЙ\n",
    "        if i not in new_dict:\n",
    "            new_dict[i] = 1\n",
    "        else:\n",
    "            new_dict[i] = new_dict.get(i) + 1\n",
    "    return new_dict.get(target_word, 0) # Определяем адрес страницы\n",
    "\n",
    "\n",
    "url = 'https://lms.skillfactory.ru/assets/courseware/v1/4c5a80c60b5a00504915158c4e17fe20/asset-v1:SkillFactory+DST-3.0+28FEB2021+type@asset+block/war_peace_processed.txt' # Функция чтения данных\n",
    "response = requests.get(url)  # Выполняем GET-запрос\n",
    "#print(response.text)  # Выводим содержимое атрибута text\n",
    "data = read_data(response.text)\n",
    "print(freq('война', data))"
   ]
  },
  {
   "cell_type": "code",
   "execution_count": 64,
   "metadata": {},
   "outputs": [
    {
     "name": "stdout",
     "output_type": "stream",
     "text": [
      "bb\n"
     ]
    }
   ],
   "source": [
    "cities = ['aaa', 'bb', 'ccc']\n",
    "\n",
    "test = lambda arg: arg if arg in cities else 0\n",
    "print(test('bb'))"
   ]
  },
  {
   "cell_type": "code",
   "execution_count": 70,
   "metadata": {},
   "outputs": [
    {
     "name": "stdout",
     "output_type": "stream",
     "text": [
      "[[0. 0. 0. 0.]\n",
      " [0. 0. 0. 0.]\n",
      " [0. 0. 0. 0.]]\n"
     ]
    }
   ],
   "source": [
    "arr = np.linspace(1, 2, 6)\n",
    "arr1 = np.zeros((3,4))\n",
    "print(arr1)\n",
    "\n",
    "#numpy.zeros(n, m)"
   ]
  },
  {
   "cell_type": "code",
   "execution_count": 75,
   "metadata": {},
   "outputs": [
    {
     "name": "stdout",
     "output_type": "stream",
     "text": [
      "ortogonal:  0\n",
      "##8.6\n",
      "34\n",
      "4828\n",
      "68\n"
     ]
    }
   ],
   "source": [
    "x = np.array([1, 2])\n",
    "y = np.array([2, -1])\n",
    "print(\"ortogonal: \", np.dot(x, y))\n",
    "\n",
    "a = np.array([23, 34, 27])\n",
    "b = np.array([-54, 1,  46])\n",
    "c = np.array([46, 68, 54])\n",
    "\n",
    "###8.6\n",
    "print('##8.6')\n",
    "\n",
    "print(np.dot(a,b))\n",
    "print(np.dot(a,c))\n",
    "print(np.dot(c,b))"
   ]
  },
  {
   "cell_type": "markdown",
   "metadata": {},
   "source": [
    "Задание 2.1 (выполняется в codeboard ниже)\n",
    "\n",
    "?\n",
    "\n",
    "Вам предоставлен словарь products, ключами которого являются названия продуктов, а значениями — их цены. Затем вы получаете другой словарь (stocks), ключи которого — товары, а значения — скидки (в процентах) на товары.\n",
    "\n",
    "Напишите функцию apply_discounts(), которая снижает цену продуктов в словаре products на указанный в словаре stocks процент. Функция должна вернуть результирующий словарь, ключи которого — товары, а значения — новые цены. Если продукта из словаря products нет в словаре stocks, то скидка к нему не применяется. Цены округлите до второго знака после запятой.\n"
   ]
  },
  {
   "cell_type": "code",
   "execution_count": 98,
   "metadata": {},
   "outputs": [
    {
     "name": "stdout",
     "output_type": "stream",
     "text": [
      "{'Boiled sausage': 0.33, 'Juice J7 (orange)': 0.12, 'Trout (Seven Seas)': 0.18}\n",
      "{'Oranges (packaged)': 114.99, 'Candy (Rotfront)': 280.0, 'Boiled sausage': 133.99, 'Juice J7 (orange)': 105.59, 'Trout (Seven Seas)': 327.99}\n"
     ]
    }
   ],
   "source": [
    "def apply_discounts(products, stocks):\n",
    "    \"\"\"\n",
    "    Напишите функцию apply_discounts(), которая снижает цену продуктов в словаре products на указанный в словаре stocks процент. \n",
    "    Функция должна вернуть результирующий словарь, ключи которого — товары, а значения — новые цены.\n",
    "    Если продукта из словаря stocks нет в словаре products, то его необходимо пропустить. Цены округлите до второго знака после запятой.\n",
    "    \"\"\"\n",
    "    products_discount = {}\n",
    "    \n",
    "    for k in stocks.keys():\n",
    "        stocks[k] = round(float(stocks[k].replace('%',''))/100,2)\n",
    "        #stocks[k] = float(v)\n",
    "    print(stocks)\n",
    "    \n",
    "    for k,v in products.items():\n",
    "        if k in stocks:\n",
    "             products_discount[k] = round(v - (v * stocks[k]),2)\n",
    "        else:\n",
    "            products_discount[k] = v\n",
    "            \n",
    "    return products_discount\n",
    "\n",
    "    \n",
    "if __name__ == '__main__':\n",
    "    products={\n",
    "        \"Oranges (packaged)\": 114.99, \n",
    "        \"Candy (Rotfront)\": 280.00,\n",
    "        \"Boiled sausage\": 199.99,\n",
    "        \"Juice J7 (orange)\": 119.99,\n",
    "        \"Trout (Seven Seas)\": 399.99\n",
    "        }\n",
    "    stocks = {\n",
    "        \"Boiled sausage\": \"33%\",\n",
    "        \"Juice J7 (orange)\": \"12%\",\n",
    "        \"Trout (Seven Seas)\": \"18%\"\n",
    "    }\n",
    "    \n",
    "    new_products = apply_discounts(products, stocks)\n",
    "    print(new_products)"
   ]
  },
  {
   "cell_type": "markdown",
   "metadata": {},
   "source": [
    "Задание 2.2 (выполняется в codeboard ниже)\n",
    "\n",
    "?\n",
    "\n",
    "Вам даны два файла, bronze_top и silver_top (пути к ним заданы в Codeboard), в которых хранится информация о ТОП-5 стран по числу бронзовых и серебряных медалей соответственно. В каждой таблице два одинаковых столбца: Country — страна и Total — число медалей. \n",
    "\n",
    "Объедините две таблицы по странам таким образом, чтобы в результат вошли данные только о тех странах, которые попали в оба рейтинга. При этом в качестве суффиксов укажите строки \"_bronze\" и \"_silver\", чтобы столбцы таблиц, не участвовавших в объединении, можно было различать.\n",
    "\n",
    "Результат занесите в переменную merged.\n"
   ]
  },
  {
   "cell_type": "code",
   "execution_count": null,
   "metadata": {},
   "outputs": [],
   "source": [
    "\n",
    "import pandas as pd\n",
    "\n",
    "bronze_path = './Root/data/bronze_top.csv'\n",
    "silver_path = './Root/data/silver_top.csv'\n",
    "\"\"\"\n",
    "Объедините две таблицы по странам таким образом, чтобы в результат вошли данные только о тех странах, которые есть в обоих рейтингах. \n",
    "При этом в качестве суффиксов для столбца c числом медалей укажите строки \"_bronze\" и \"_silver\", чтобы столбцы можно было различать.\n",
    "Результат занесите в переменную merged.\n",
    "\"\"\"\n",
    "bronze_df = pd.read_table('./Root/data/bronze_top.csv', sep=',')# Загружаем данные из файла в переменную, создавая объект DataFrame\n",
    "#print(bronze_df) # Выводим содержимое DataFrame на экран\n",
    "silver_df = pd.read_table('./Root/data/silver_top.csv', sep=',')# Загружаем данные из файла в переменную, создавая объект DataFrame\n",
    "#print(silver_df) # Выводим содержимое DataFrame на экран\n",
    "\n",
    "merged = pd.merge(bronze_df, silver_df, how='inner', on='Country', suffixes=('_bronze', '_silver'))\n"
   ]
  },
  {
   "cell_type": "markdown",
   "metadata": {},
   "source": [
    "3. Практические задания в Jupyter Notebook\n",
    "\n",
    "✍ В данном блоке вам предстоит решить задачу, которую автор модуля когда-то решал на одном из собеседований.\n",
    "\n",
    "Дана таблица с данными о ежедневной выработке энергии солнечными батареями. Информация содержится в двух столбцах:\n",
    "\n",
    "        date — дата наблюдения;\n",
    "        cum_power — накопленная (кумулятивная) выработка энергии на указанный день.\n",
    "\n",
    "Таким образом, перед вами классический пример временного ряда — числовой показатель, зависящий от времени. Давайте с ним поработаем."
   ]
  },
  {
   "cell_type": "code",
   "execution_count": 130,
   "metadata": {},
   "outputs": [
    {
     "data": {
      "text/html": [
       "<div>\n",
       "<style scoped>\n",
       "    .dataframe tbody tr th:only-of-type {\n",
       "        vertical-align: middle;\n",
       "    }\n",
       "\n",
       "    .dataframe tbody tr th {\n",
       "        vertical-align: top;\n",
       "    }\n",
       "\n",
       "    .dataframe thead th {\n",
       "        text-align: right;\n",
       "    }\n",
       "</style>\n",
       "<table border=\"1\" class=\"dataframe\">\n",
       "  <thead>\n",
       "    <tr style=\"text-align: right;\">\n",
       "      <th></th>\n",
       "      <th>date</th>\n",
       "      <th>cum_power</th>\n",
       "    </tr>\n",
       "  </thead>\n",
       "  <tbody>\n",
       "    <tr>\n",
       "      <th>0</th>\n",
       "      <td>2017-01-01</td>\n",
       "      <td>20111.0</td>\n",
       "    </tr>\n",
       "    <tr>\n",
       "      <th>1</th>\n",
       "      <td>2017-01-02</td>\n",
       "      <td>20112.0</td>\n",
       "    </tr>\n",
       "    <tr>\n",
       "      <th>2</th>\n",
       "      <td>2017-01-03</td>\n",
       "      <td>20115.0</td>\n",
       "    </tr>\n",
       "    <tr>\n",
       "      <th>3</th>\n",
       "      <td>2017-01-04</td>\n",
       "      <td>20117.0</td>\n",
       "    </tr>\n",
       "    <tr>\n",
       "      <th>4</th>\n",
       "      <td>2017-01-05</td>\n",
       "      <td>20119.0</td>\n",
       "    </tr>\n",
       "  </tbody>\n",
       "</table>\n",
       "</div>"
      ],
      "text/plain": [
       "         date  cum_power\n",
       "0  2017-01-01    20111.0\n",
       "1  2017-01-02    20112.0\n",
       "2  2017-01-03    20115.0\n",
       "3  2017-01-04    20117.0\n",
       "4  2017-01-05    20119.0"
      ]
     },
     "metadata": {},
     "output_type": "display_data"
    },
    {
     "name": "stdout",
     "output_type": "stream",
     "text": [
      "<class 'pandas.core.frame.DataFrame'>\n",
      "RangeIndex: 664 entries, 0 to 663\n",
      "Data columns (total 2 columns):\n",
      " #   Column     Non-Null Count  Dtype  \n",
      "---  ------     --------------  -----  \n",
      " 0   date       664 non-null    object \n",
      " 1   cum_power  664 non-null    float64\n",
      "dtypes: float64(1), object(1)\n",
      "memory usage: 10.5+ KB\n"
     ]
    },
    {
     "data": {
      "text/plain": [
       "None"
      ]
     },
     "metadata": {},
     "output_type": "display_data"
    }
   ],
   "source": [
    "import pandas as pd\n",
    "\n",
    "solar_data = pd.read_csv('data/solarpower.csv')\n",
    "display(solar_data.head())\n",
    "display(solar_data.info())\n",
    "solar_df = solar_data.copy()\n"
   ]
  },
  {
   "cell_type": "markdown",
   "metadata": {},
   "source": [
    "3.1\n",
    "\n",
    "В нашем временном ряде есть несколько пропусков, они обозначены числом -1. Заполните пропуски средним арифметическим между двумя соседними наблюдениями:\n",
    "\n",
    "Совет: проще всего будет сделать это, используя цикл по индексам элементов столбца cum_power, но вы можете предложить более изящное решение.\n",
    "\n",
    "Чему равно среднее арифметическое в столбце cum_power после заполнения пропусков? Ответ округлите до целого.\n",
    "\n",
    "#null_col = ['Glucose', 'BloodPressure', 'SkinThickness', 'Insulin', 'BMI']\n",
    "values = {\n",
    "    'Glucose': diabet_data['Glucose'].mean().round(1),\n",
    "    'BloodPressure': diabet_data['BloodPressure'].mean().round(1),\n",
    "    'SkinThickness': diabet_data['SkinThickness'].mean().round(1),\n",
    "    'BMI': diabet_data['BMI'].mean().round(1)\n",
    "}\n",
    "\n",
    "diabet_data_fill = diabet_data1.fillna(value=values) \n",
    "display(diabet_data_fill.head(5))"
   ]
  },
  {
   "cell_type": "markdown",
   "metadata": {},
   "source": []
  },
  {
   "cell_type": "code",
   "execution_count": 152,
   "metadata": {},
   "outputs": [
    {
     "name": "stdout",
     "output_type": "stream",
     "text": [
      "[45, 647]\n"
     ]
    },
    {
     "data": {
      "text/plain": [
       "20248.0"
      ]
     },
     "metadata": {},
     "output_type": "display_data"
    },
    {
     "data": {
      "text/plain": [
       "20255.0"
      ]
     },
     "metadata": {},
     "output_type": "display_data"
    },
    {
     "data": {
      "text/plain": [
       "20262.0"
      ]
     },
     "metadata": {},
     "output_type": "display_data"
    },
    {
     "data": {
      "text/plain": [
       "27986.0"
      ]
     },
     "metadata": {},
     "output_type": "display_data"
    },
    {
     "data": {
      "text/plain": [
       "27998.0"
      ]
     },
     "metadata": {},
     "output_type": "display_data"
    },
    {
     "data": {
      "text/plain": [
       "28010.0"
      ]
     },
     "metadata": {},
     "output_type": "display_data"
    },
    {
     "name": "stdout",
     "output_type": "stream",
     "text": [
      "23848.0\n"
     ]
    }
   ],
   "source": [
    "solar_df = solar_data.copy()\n",
    "null_columns = list(solar_df[solar_df['cum_power'] == -1].index)\n",
    "print(null_columns)\n",
    "\n",
    "for ind in null_columns:\n",
    "    #solar_df.iloc[ind]['cum_power'] =  (solar_df.iloc[ind-1]['cum_power'] + solar_df.iloc[ind+1]['cum_power'])/2\n",
    "    solar_df.at[ind, 'cum_power'] = round((solar_df.iloc[ind-1]['cum_power'] + solar_df.iloc[ind+1]['cum_power'])/2,0)\n",
    "\n",
    "for i in [44,45,46,646,647,648]:\n",
    "    display(solar_df.at[i, 'cum_power'])\n",
    "\n",
    "\n",
    "print(round(solar_df['cum_power'].mean(), 0))\n",
    "\n",
    "\n"
   ]
  },
  {
   "cell_type": "code",
   "execution_count": 173,
   "metadata": {},
   "outputs": [
    {
     "data": {
      "text/html": [
       "<div>\n",
       "<style scoped>\n",
       "    .dataframe tbody tr th:only-of-type {\n",
       "        vertical-align: middle;\n",
       "    }\n",
       "\n",
       "    .dataframe tbody tr th {\n",
       "        vertical-align: top;\n",
       "    }\n",
       "\n",
       "    .dataframe thead th {\n",
       "        text-align: right;\n",
       "    }\n",
       "</style>\n",
       "<table border=\"1\" class=\"dataframe\">\n",
       "  <thead>\n",
       "    <tr style=\"text-align: right;\">\n",
       "      <th></th>\n",
       "      <th>date</th>\n",
       "      <th>cum_power</th>\n",
       "      <th>day_power</th>\n",
       "      <th>y-m</th>\n",
       "    </tr>\n",
       "  </thead>\n",
       "  <tbody>\n",
       "    <tr>\n",
       "      <th>0</th>\n",
       "      <td>2017-01-01</td>\n",
       "      <td>20111.0</td>\n",
       "      <td>NaN</td>\n",
       "      <td>2017-01</td>\n",
       "    </tr>\n",
       "    <tr>\n",
       "      <th>1</th>\n",
       "      <td>2017-01-02</td>\n",
       "      <td>20112.0</td>\n",
       "      <td>1.0</td>\n",
       "      <td>2017-01</td>\n",
       "    </tr>\n",
       "    <tr>\n",
       "      <th>2</th>\n",
       "      <td>2017-01-03</td>\n",
       "      <td>20115.0</td>\n",
       "      <td>3.0</td>\n",
       "      <td>2017-01</td>\n",
       "    </tr>\n",
       "    <tr>\n",
       "      <th>3</th>\n",
       "      <td>2017-01-04</td>\n",
       "      <td>20117.0</td>\n",
       "      <td>2.0</td>\n",
       "      <td>2017-01</td>\n",
       "    </tr>\n",
       "    <tr>\n",
       "      <th>4</th>\n",
       "      <td>2017-01-05</td>\n",
       "      <td>20119.0</td>\n",
       "      <td>2.0</td>\n",
       "      <td>2017-01</td>\n",
       "    </tr>\n",
       "    <tr>\n",
       "      <th>...</th>\n",
       "      <td>...</td>\n",
       "      <td>...</td>\n",
       "      <td>...</td>\n",
       "      <td>...</td>\n",
       "    </tr>\n",
       "    <tr>\n",
       "      <th>659</th>\n",
       "      <td>2018-10-22</td>\n",
       "      <td>28101.0</td>\n",
       "      <td>6.0</td>\n",
       "      <td>2018-10</td>\n",
       "    </tr>\n",
       "    <tr>\n",
       "      <th>660</th>\n",
       "      <td>2018-10-23</td>\n",
       "      <td>28109.0</td>\n",
       "      <td>8.0</td>\n",
       "      <td>2018-10</td>\n",
       "    </tr>\n",
       "    <tr>\n",
       "      <th>661</th>\n",
       "      <td>2018-10-24</td>\n",
       "      <td>28115.0</td>\n",
       "      <td>6.0</td>\n",
       "      <td>2018-10</td>\n",
       "    </tr>\n",
       "    <tr>\n",
       "      <th>662</th>\n",
       "      <td>2018-10-25</td>\n",
       "      <td>28117.0</td>\n",
       "      <td>2.0</td>\n",
       "      <td>2018-10</td>\n",
       "    </tr>\n",
       "    <tr>\n",
       "      <th>663</th>\n",
       "      <td>2018-10-26</td>\n",
       "      <td>28120.0</td>\n",
       "      <td>3.0</td>\n",
       "      <td>2018-10</td>\n",
       "    </tr>\n",
       "  </tbody>\n",
       "</table>\n",
       "<p>664 rows × 4 columns</p>\n",
       "</div>"
      ],
      "text/plain": [
       "           date  cum_power  day_power      y-m\n",
       "0    2017-01-01    20111.0        NaN  2017-01\n",
       "1    2017-01-02    20112.0        1.0  2017-01\n",
       "2    2017-01-03    20115.0        3.0  2017-01\n",
       "3    2017-01-04    20117.0        2.0  2017-01\n",
       "4    2017-01-05    20119.0        2.0  2017-01\n",
       "..          ...        ...        ...      ...\n",
       "659  2018-10-22    28101.0        6.0  2018-10\n",
       "660  2018-10-23    28109.0        8.0  2018-10\n",
       "661  2018-10-24    28115.0        6.0  2018-10\n",
       "662  2018-10-25    28117.0        2.0  2018-10\n",
       "663  2018-10-26    28120.0        3.0  2018-10\n",
       "\n",
       "[664 rows x 4 columns]"
      ]
     },
     "metadata": {},
     "output_type": "display_data"
    }
   ],
   "source": [
    "solar_df['day_power'] = solar_df['cum_power'].diff(1)\n",
    "display(solar_df)\n",
    "\n"
   ]
  },
  {
   "cell_type": "code",
   "execution_count": 167,
   "metadata": {},
   "outputs": [
    {
     "data": {
      "text/html": [
       "<div>\n",
       "<style scoped>\n",
       "    .dataframe tbody tr th:only-of-type {\n",
       "        vertical-align: middle;\n",
       "    }\n",
       "\n",
       "    .dataframe tbody tr th {\n",
       "        vertical-align: top;\n",
       "    }\n",
       "\n",
       "    .dataframe thead th {\n",
       "        text-align: right;\n",
       "    }\n",
       "</style>\n",
       "<table border=\"1\" class=\"dataframe\">\n",
       "  <thead>\n",
       "    <tr style=\"text-align: right;\">\n",
       "      <th></th>\n",
       "      <th>date</th>\n",
       "      <th>cum_power</th>\n",
       "      <th>day_power</th>\n",
       "      <th>y-m</th>\n",
       "    </tr>\n",
       "  </thead>\n",
       "  <tbody>\n",
       "    <tr>\n",
       "      <th>0</th>\n",
       "      <td>2017-01-01</td>\n",
       "      <td>20111.0</td>\n",
       "      <td>NaN</td>\n",
       "      <td>2017-01</td>\n",
       "    </tr>\n",
       "    <tr>\n",
       "      <th>1</th>\n",
       "      <td>2017-01-02</td>\n",
       "      <td>20112.0</td>\n",
       "      <td>1.0</td>\n",
       "      <td>2017-01</td>\n",
       "    </tr>\n",
       "    <tr>\n",
       "      <th>2</th>\n",
       "      <td>2017-01-03</td>\n",
       "      <td>20115.0</td>\n",
       "      <td>3.0</td>\n",
       "      <td>2017-01</td>\n",
       "    </tr>\n",
       "    <tr>\n",
       "      <th>3</th>\n",
       "      <td>2017-01-04</td>\n",
       "      <td>20117.0</td>\n",
       "      <td>2.0</td>\n",
       "      <td>2017-01</td>\n",
       "    </tr>\n",
       "    <tr>\n",
       "      <th>4</th>\n",
       "      <td>2017-01-05</td>\n",
       "      <td>20119.0</td>\n",
       "      <td>2.0</td>\n",
       "      <td>2017-01</td>\n",
       "    </tr>\n",
       "    <tr>\n",
       "      <th>...</th>\n",
       "      <td>...</td>\n",
       "      <td>...</td>\n",
       "      <td>...</td>\n",
       "      <td>...</td>\n",
       "    </tr>\n",
       "    <tr>\n",
       "      <th>659</th>\n",
       "      <td>2018-10-22</td>\n",
       "      <td>28101.0</td>\n",
       "      <td>6.0</td>\n",
       "      <td>2018-10</td>\n",
       "    </tr>\n",
       "    <tr>\n",
       "      <th>660</th>\n",
       "      <td>2018-10-23</td>\n",
       "      <td>28109.0</td>\n",
       "      <td>8.0</td>\n",
       "      <td>2018-10</td>\n",
       "    </tr>\n",
       "    <tr>\n",
       "      <th>661</th>\n",
       "      <td>2018-10-24</td>\n",
       "      <td>28115.0</td>\n",
       "      <td>6.0</td>\n",
       "      <td>2018-10</td>\n",
       "    </tr>\n",
       "    <tr>\n",
       "      <th>662</th>\n",
       "      <td>2018-10-25</td>\n",
       "      <td>28117.0</td>\n",
       "      <td>2.0</td>\n",
       "      <td>2018-10</td>\n",
       "    </tr>\n",
       "    <tr>\n",
       "      <th>663</th>\n",
       "      <td>2018-10-26</td>\n",
       "      <td>28120.0</td>\n",
       "      <td>3.0</td>\n",
       "      <td>2018-10</td>\n",
       "    </tr>\n",
       "  </tbody>\n",
       "</table>\n",
       "<p>664 rows × 4 columns</p>\n",
       "</div>"
      ],
      "text/plain": [
       "           date  cum_power  day_power      y-m\n",
       "0    2017-01-01    20111.0        NaN  2017-01\n",
       "1    2017-01-02    20112.0        1.0  2017-01\n",
       "2    2017-01-03    20115.0        3.0  2017-01\n",
       "3    2017-01-04    20117.0        2.0  2017-01\n",
       "4    2017-01-05    20119.0        2.0  2017-01\n",
       "..          ...        ...        ...      ...\n",
       "659  2018-10-22    28101.0        6.0  2018-10\n",
       "660  2018-10-23    28109.0        8.0  2018-10\n",
       "661  2018-10-24    28115.0        6.0  2018-10\n",
       "662  2018-10-25    28117.0        2.0  2018-10\n",
       "663  2018-10-26    28120.0        3.0  2018-10\n",
       "\n",
       "[664 rows x 4 columns]"
      ]
     },
     "metadata": {},
     "output_type": "display_data"
    }
   ],
   "source": [
    "solar_df['y-m'] = pd.to_datetime(solar_df['date'])\n",
    "solar_df['y-m'] = solar_df['y-m'].dt.to_period('M')\n",
    "display(solar_df)\n",
    "\n"
   ]
  },
  {
   "cell_type": "markdown",
   "metadata": {},
   "source": []
  },
  {
   "cell_type": "code",
   "execution_count": 178,
   "metadata": {},
   "outputs": [
    {
     "data": {
      "text/html": [
       "<div>\n",
       "<style scoped>\n",
       "    .dataframe tbody tr th:only-of-type {\n",
       "        vertical-align: middle;\n",
       "    }\n",
       "\n",
       "    .dataframe tbody tr th {\n",
       "        vertical-align: top;\n",
       "    }\n",
       "\n",
       "    .dataframe thead th {\n",
       "        text-align: right;\n",
       "    }\n",
       "</style>\n",
       "<table border=\"1\" class=\"dataframe\">\n",
       "  <thead>\n",
       "    <tr style=\"text-align: right;\">\n",
       "      <th></th>\n",
       "      <th>date</th>\n",
       "      <th>cum_power</th>\n",
       "      <th>day_power</th>\n",
       "      <th>y-m</th>\n",
       "    </tr>\n",
       "  </thead>\n",
       "  <tbody>\n",
       "    <tr>\n",
       "      <th>59</th>\n",
       "      <td>2017-03-01</td>\n",
       "      <td>20318.0</td>\n",
       "      <td>6.0</td>\n",
       "      <td>2017-03</td>\n",
       "    </tr>\n",
       "    <tr>\n",
       "      <th>60</th>\n",
       "      <td>2017-03-02</td>\n",
       "      <td>20323.0</td>\n",
       "      <td>5.0</td>\n",
       "      <td>2017-03</td>\n",
       "    </tr>\n",
       "    <tr>\n",
       "      <th>61</th>\n",
       "      <td>2017-03-03</td>\n",
       "      <td>20327.0</td>\n",
       "      <td>4.0</td>\n",
       "      <td>2017-03</td>\n",
       "    </tr>\n",
       "    <tr>\n",
       "      <th>62</th>\n",
       "      <td>2017-03-04</td>\n",
       "      <td>20331.0</td>\n",
       "      <td>4.0</td>\n",
       "      <td>2017-03</td>\n",
       "    </tr>\n",
       "    <tr>\n",
       "      <th>63</th>\n",
       "      <td>2017-03-05</td>\n",
       "      <td>20335.0</td>\n",
       "      <td>4.0</td>\n",
       "      <td>2017-03</td>\n",
       "    </tr>\n",
       "    <tr>\n",
       "      <th>64</th>\n",
       "      <td>2017-03-06</td>\n",
       "      <td>20337.0</td>\n",
       "      <td>2.0</td>\n",
       "      <td>2017-03</td>\n",
       "    </tr>\n",
       "    <tr>\n",
       "      <th>65</th>\n",
       "      <td>2017-03-07</td>\n",
       "      <td>20342.0</td>\n",
       "      <td>5.0</td>\n",
       "      <td>2017-03</td>\n",
       "    </tr>\n",
       "    <tr>\n",
       "      <th>66</th>\n",
       "      <td>2017-03-08</td>\n",
       "      <td>20352.0</td>\n",
       "      <td>10.0</td>\n",
       "      <td>2017-03</td>\n",
       "    </tr>\n",
       "    <tr>\n",
       "      <th>67</th>\n",
       "      <td>2017-03-09</td>\n",
       "      <td>20353.0</td>\n",
       "      <td>1.0</td>\n",
       "      <td>2017-03</td>\n",
       "    </tr>\n",
       "    <tr>\n",
       "      <th>68</th>\n",
       "      <td>2017-03-10</td>\n",
       "      <td>20362.0</td>\n",
       "      <td>9.0</td>\n",
       "      <td>2017-03</td>\n",
       "    </tr>\n",
       "    <tr>\n",
       "      <th>69</th>\n",
       "      <td>2017-03-11</td>\n",
       "      <td>20375.0</td>\n",
       "      <td>13.0</td>\n",
       "      <td>2017-03</td>\n",
       "    </tr>\n",
       "    <tr>\n",
       "      <th>70</th>\n",
       "      <td>2017-03-12</td>\n",
       "      <td>20383.0</td>\n",
       "      <td>8.0</td>\n",
       "      <td>2017-03</td>\n",
       "    </tr>\n",
       "    <tr>\n",
       "      <th>71</th>\n",
       "      <td>2017-03-13</td>\n",
       "      <td>20399.0</td>\n",
       "      <td>16.0</td>\n",
       "      <td>2017-03</td>\n",
       "    </tr>\n",
       "    <tr>\n",
       "      <th>72</th>\n",
       "      <td>2017-03-14</td>\n",
       "      <td>20411.0</td>\n",
       "      <td>12.0</td>\n",
       "      <td>2017-03</td>\n",
       "    </tr>\n",
       "    <tr>\n",
       "      <th>73</th>\n",
       "      <td>2017-03-15</td>\n",
       "      <td>20418.0</td>\n",
       "      <td>7.0</td>\n",
       "      <td>2017-03</td>\n",
       "    </tr>\n",
       "    <tr>\n",
       "      <th>74</th>\n",
       "      <td>2017-03-16</td>\n",
       "      <td>20433.0</td>\n",
       "      <td>15.0</td>\n",
       "      <td>2017-03</td>\n",
       "    </tr>\n",
       "    <tr>\n",
       "      <th>75</th>\n",
       "      <td>2017-03-17</td>\n",
       "      <td>20449.0</td>\n",
       "      <td>16.0</td>\n",
       "      <td>2017-03</td>\n",
       "    </tr>\n",
       "    <tr>\n",
       "      <th>76</th>\n",
       "      <td>2017-03-18</td>\n",
       "      <td>20461.0</td>\n",
       "      <td>12.0</td>\n",
       "      <td>2017-03</td>\n",
       "    </tr>\n",
       "    <tr>\n",
       "      <th>77</th>\n",
       "      <td>2017-03-19</td>\n",
       "      <td>20464.0</td>\n",
       "      <td>3.0</td>\n",
       "      <td>2017-03</td>\n",
       "    </tr>\n",
       "    <tr>\n",
       "      <th>78</th>\n",
       "      <td>2017-03-20</td>\n",
       "      <td>20468.0</td>\n",
       "      <td>4.0</td>\n",
       "      <td>2017-03</td>\n",
       "    </tr>\n",
       "    <tr>\n",
       "      <th>79</th>\n",
       "      <td>2017-03-21</td>\n",
       "      <td>20475.0</td>\n",
       "      <td>7.0</td>\n",
       "      <td>2017-03</td>\n",
       "    </tr>\n",
       "    <tr>\n",
       "      <th>80</th>\n",
       "      <td>2017-03-22</td>\n",
       "      <td>20487.0</td>\n",
       "      <td>12.0</td>\n",
       "      <td>2017-03</td>\n",
       "    </tr>\n",
       "    <tr>\n",
       "      <th>81</th>\n",
       "      <td>2017-03-23</td>\n",
       "      <td>20500.0</td>\n",
       "      <td>13.0</td>\n",
       "      <td>2017-03</td>\n",
       "    </tr>\n",
       "    <tr>\n",
       "      <th>82</th>\n",
       "      <td>2017-03-24</td>\n",
       "      <td>20518.0</td>\n",
       "      <td>18.0</td>\n",
       "      <td>2017-03</td>\n",
       "    </tr>\n",
       "    <tr>\n",
       "      <th>83</th>\n",
       "      <td>2017-03-25</td>\n",
       "      <td>20538.0</td>\n",
       "      <td>20.0</td>\n",
       "      <td>2017-03</td>\n",
       "    </tr>\n",
       "    <tr>\n",
       "      <th>84</th>\n",
       "      <td>2017-03-26</td>\n",
       "      <td>20558.0</td>\n",
       "      <td>20.0</td>\n",
       "      <td>2017-03</td>\n",
       "    </tr>\n",
       "    <tr>\n",
       "      <th>85</th>\n",
       "      <td>2017-03-27</td>\n",
       "      <td>20578.0</td>\n",
       "      <td>20.0</td>\n",
       "      <td>2017-03</td>\n",
       "    </tr>\n",
       "    <tr>\n",
       "      <th>86</th>\n",
       "      <td>2017-03-28</td>\n",
       "      <td>20599.0</td>\n",
       "      <td>21.0</td>\n",
       "      <td>2017-03</td>\n",
       "    </tr>\n",
       "    <tr>\n",
       "      <th>87</th>\n",
       "      <td>2017-03-29</td>\n",
       "      <td>20616.0</td>\n",
       "      <td>17.0</td>\n",
       "      <td>2017-03</td>\n",
       "    </tr>\n",
       "    <tr>\n",
       "      <th>88</th>\n",
       "      <td>2017-03-30</td>\n",
       "      <td>20626.0</td>\n",
       "      <td>10.0</td>\n",
       "      <td>2017-03</td>\n",
       "    </tr>\n",
       "    <tr>\n",
       "      <th>89</th>\n",
       "      <td>2017-03-31</td>\n",
       "      <td>20646.0</td>\n",
       "      <td>20.0</td>\n",
       "      <td>2017-03</td>\n",
       "    </tr>\n",
       "  </tbody>\n",
       "</table>\n",
       "</div>"
      ],
      "text/plain": [
       "          date  cum_power  day_power      y-m\n",
       "59  2017-03-01    20318.0        6.0  2017-03\n",
       "60  2017-03-02    20323.0        5.0  2017-03\n",
       "61  2017-03-03    20327.0        4.0  2017-03\n",
       "62  2017-03-04    20331.0        4.0  2017-03\n",
       "63  2017-03-05    20335.0        4.0  2017-03\n",
       "64  2017-03-06    20337.0        2.0  2017-03\n",
       "65  2017-03-07    20342.0        5.0  2017-03\n",
       "66  2017-03-08    20352.0       10.0  2017-03\n",
       "67  2017-03-09    20353.0        1.0  2017-03\n",
       "68  2017-03-10    20362.0        9.0  2017-03\n",
       "69  2017-03-11    20375.0       13.0  2017-03\n",
       "70  2017-03-12    20383.0        8.0  2017-03\n",
       "71  2017-03-13    20399.0       16.0  2017-03\n",
       "72  2017-03-14    20411.0       12.0  2017-03\n",
       "73  2017-03-15    20418.0        7.0  2017-03\n",
       "74  2017-03-16    20433.0       15.0  2017-03\n",
       "75  2017-03-17    20449.0       16.0  2017-03\n",
       "76  2017-03-18    20461.0       12.0  2017-03\n",
       "77  2017-03-19    20464.0        3.0  2017-03\n",
       "78  2017-03-20    20468.0        4.0  2017-03\n",
       "79  2017-03-21    20475.0        7.0  2017-03\n",
       "80  2017-03-22    20487.0       12.0  2017-03\n",
       "81  2017-03-23    20500.0       13.0  2017-03\n",
       "82  2017-03-24    20518.0       18.0  2017-03\n",
       "83  2017-03-25    20538.0       20.0  2017-03\n",
       "84  2017-03-26    20558.0       20.0  2017-03\n",
       "85  2017-03-27    20578.0       20.0  2017-03\n",
       "86  2017-03-28    20599.0       21.0  2017-03\n",
       "87  2017-03-29    20616.0       17.0  2017-03\n",
       "88  2017-03-30    20626.0       10.0  2017-03\n",
       "89  2017-03-31    20646.0       20.0  2017-03"
      ]
     },
     "metadata": {},
     "output_type": "display_data"
    },
    {
     "data": {
      "text/plain": [
       "y-m\n",
       "2017-01     3.233333\n",
       "2017-02     3.714286\n",
       "2017-03    10.774194\n",
       "2017-04    16.300000\n",
       "2017-05    19.000000\n",
       "2017-06    21.500000\n",
       "2017-07    18.129032\n",
       "2017-08    15.064516\n",
       "2017-09    11.533333\n",
       "2017-10     6.419355\n",
       "2017-11     3.233333\n",
       "2017-12     1.161290\n",
       "2018-01     2.064516\n",
       "2018-02     6.928571\n",
       "2018-03     8.709677\n",
       "2018-04    14.633333\n",
       "2018-05    21.032258\n",
       "2018-06    18.766667\n",
       "2018-07    22.000000\n",
       "2018-08    17.096774\n",
       "2018-09    13.866667\n",
       "2018-10     9.000000\n",
       "Freq: M, Name: day_power, dtype: float64"
      ]
     },
     "metadata": {},
     "output_type": "display_data"
    }
   ],
   "source": [
    "display(solar_df[solar_df['y-m'] == '2017-03'])\n",
    "display(solar_df.groupby('y-m')['day_power'].mean())\n",
    "\n"
   ]
  },
  {
   "cell_type": "code",
   "execution_count": 197,
   "metadata": {},
   "outputs": [
    {
     "data": {
      "text/plain": [
       "<AxesSubplot: title={'center': 'Динамика day_power'}, xlabel='y-m', ylabel='day_power'>"
      ]
     },
     "execution_count": 197,
     "metadata": {},
     "output_type": "execute_result"
    },
    {
     "data": {
      "image/png": "[encoded data removed]",
      "text/plain": [
       "<Figure size 640x480 with 1 Axes>"
      ]
     },
     "metadata": {},
     "output_type": "display_data"
    }
   ],
   "source": [
    "import matplotlib.pyplot as plt \n",
    "\n",
    "solar_df.groupby('y-m')['day_power'].mean().plot(title='Динамика day_power', \n",
    "                             xlabel='y-m', \n",
    "                             ylabel='day_power')\n"
   ]
  },
  {
   "cell_type": "code",
   "execution_count": 183,
   "metadata": {},
   "outputs": [
    {
     "name": "stdout",
     "output_type": "stream",
     "text": [
      "5.10.0\n"
     ]
    },
    {
     "ename": "TypeError",
     "evalue": "Object of type Period is not JSON serializable",
     "output_type": "error",
     "traceback": [
      "\u001b[1;31m---------------------------------------------------------------------------\u001b[0m",
      "\u001b[1;31mTypeError\u001b[0m                                 Traceback (most recent call last)",
      "\u001b[1;32mc:\\Users\\kot\\OneDrive\\Documents\\GitHub\\SkillFactory-DTS\\module-python\\attestation.ipynb Cell 29\u001b[0m in \u001b[0;36m<cell line: 18>\u001b[1;34m()\u001b[0m\n\u001b[0;32m      <a href='vscode-notebook-cell:/c%3A/Users/kot/OneDrive/Documents/GitHub/SkillFactory-DTS/module-python/attestation.ipynb#X40sZmlsZQ%3D%3D?line=8'>9</a>\u001b[0m line_data \u001b[39m=\u001b[39m solar_df\u001b[39m.\u001b[39mgroupby(\u001b[39m'\u001b[39m\u001b[39my-m\u001b[39m\u001b[39m'\u001b[39m, as_index\u001b[39m=\u001b[39m\u001b[39mFalse\u001b[39;00m)\u001b[39m.\u001b[39mmean()\n\u001b[0;32m     <a href='vscode-notebook-cell:/c%3A/Users/kot/OneDrive/Documents/GitHub/SkillFactory-DTS/module-python/attestation.ipynb#X40sZmlsZQ%3D%3D?line=9'>10</a>\u001b[0m fig \u001b[39m=\u001b[39m px\u001b[39m.\u001b[39mline(\n\u001b[0;32m     <a href='vscode-notebook-cell:/c%3A/Users/kot/OneDrive/Documents/GitHub/SkillFactory-DTS/module-python/attestation.ipynb#X40sZmlsZQ%3D%3D?line=10'>11</a>\u001b[0m     data_frame\u001b[39m=\u001b[39mline_data, \u001b[39m#DataFrame\u001b[39;00m\n\u001b[0;32m     <a href='vscode-notebook-cell:/c%3A/Users/kot/OneDrive/Documents/GitHub/SkillFactory-DTS/module-python/attestation.ipynb#X40sZmlsZQ%3D%3D?line=11'>12</a>\u001b[0m     x\u001b[39m=\u001b[39m\u001b[39m'\u001b[39m\u001b[39my-m\u001b[39m\u001b[39m'\u001b[39m, \u001b[39m#ось абсцисс\u001b[39;00m\n\u001b[1;32m   (...)\u001b[0m\n\u001b[0;32m     <a href='vscode-notebook-cell:/c%3A/Users/kot/OneDrive/Documents/GitHub/SkillFactory-DTS/module-python/attestation.ipynb#X40sZmlsZQ%3D%3D?line=15'>16</a>\u001b[0m     title\u001b[39m=\u001b[39m\u001b[39m'\u001b[39m\u001b[39mConfirmed, Recovered, Deaths, Active cases over Time\u001b[39m\u001b[39m'\u001b[39m \u001b[39m#заголовок\u001b[39;00m\n\u001b[0;32m     <a href='vscode-notebook-cell:/c%3A/Users/kot/OneDrive/Documents/GitHub/SkillFactory-DTS/module-python/attestation.ipynb#X40sZmlsZQ%3D%3D?line=16'>17</a>\u001b[0m )\n\u001b[1;32m---> <a href='vscode-notebook-cell:/c%3A/Users/kot/OneDrive/Documents/GitHub/SkillFactory-DTS/module-python/attestation.ipynb#X40sZmlsZQ%3D%3D?line=17'>18</a>\u001b[0m fig\u001b[39m.\u001b[39;49mshow()\n",
      "File \u001b[1;32mc:\\Users\\kot\\OneDrive\\Documents\\GitHub\\SkillFactory-DTS\\venv\\lib\\site-packages\\plotly\\basedatatypes.py:3398\u001b[0m, in \u001b[0;36mBaseFigure.show\u001b[1;34m(self, *args, **kwargs)\u001b[0m\n\u001b[0;32m   3365\u001b[0m \u001b[39m\"\"\"\u001b[39;00m\n\u001b[0;32m   3366\u001b[0m \u001b[39mShow a figure using either the default renderer(s) or the renderer(s)\u001b[39;00m\n\u001b[0;32m   3367\u001b[0m \u001b[39mspecified by the renderer argument\u001b[39;00m\n\u001b[1;32m   (...)\u001b[0m\n\u001b[0;32m   3394\u001b[0m \u001b[39mNone\u001b[39;00m\n\u001b[0;32m   3395\u001b[0m \u001b[39m\"\"\"\u001b[39;00m\n\u001b[0;32m   3396\u001b[0m \u001b[39mimport\u001b[39;00m \u001b[39mplotly\u001b[39;00m\u001b[39m.\u001b[39;00m\u001b[39mio\u001b[39;00m \u001b[39mas\u001b[39;00m \u001b[39mpio\u001b[39;00m\n\u001b[1;32m-> 3398\u001b[0m \u001b[39mreturn\u001b[39;00m pio\u001b[39m.\u001b[39mshow(\u001b[39mself\u001b[39m, \u001b[39m*\u001b[39margs, \u001b[39m*\u001b[39m\u001b[39m*\u001b[39mkwargs)\n",
      "File \u001b[1;32mc:\\Users\\kot\\OneDrive\\Documents\\GitHub\\SkillFactory-DTS\\venv\\lib\\site-packages\\plotly\\io\\_renderers.py:388\u001b[0m, in \u001b[0;36mshow\u001b[1;34m(fig, renderer, validate, **kwargs)\u001b[0m\n\u001b[0;32m    385\u001b[0m fig_dict \u001b[39m=\u001b[39m validate_coerce_fig_to_dict(fig, validate)\n\u001b[0;32m    387\u001b[0m \u001b[39m# Mimetype renderers\u001b[39;00m\n\u001b[1;32m--> 388\u001b[0m bundle \u001b[39m=\u001b[39m renderers\u001b[39m.\u001b[39m_build_mime_bundle(fig_dict, renderers_string\u001b[39m=\u001b[39mrenderer, \u001b[39m*\u001b[39m\u001b[39m*\u001b[39mkwargs)\n\u001b[0;32m    389\u001b[0m \u001b[39mif\u001b[39;00m bundle:\n\u001b[0;32m    390\u001b[0m     \u001b[39mif\u001b[39;00m \u001b[39mnot\u001b[39;00m ipython_display:\n",
      "File \u001b[1;32mc:\\Users\\kot\\OneDrive\\Documents\\GitHub\\SkillFactory-DTS\\venv\\lib\\site-packages\\plotly\\io\\_renderers.py:296\u001b[0m, in \u001b[0;36mRenderersConfig._build_mime_bundle\u001b[1;34m(self, fig_dict, renderers_string, **kwargs)\u001b[0m\n\u001b[0;32m    293\u001b[0m             \u001b[39mif\u001b[39;00m \u001b[39mhasattr\u001b[39m(renderer, k):\n\u001b[0;32m    294\u001b[0m                 \u001b[39msetattr\u001b[39m(renderer, k, v)\n\u001b[1;32m--> 296\u001b[0m         bundle\u001b[39m.\u001b[39mupdate(renderer\u001b[39m.\u001b[39;49mto_mimebundle(fig_dict))\n\u001b[0;32m    298\u001b[0m \u001b[39mreturn\u001b[39;00m bundle\n",
      "File \u001b[1;32mc:\\Users\\kot\\OneDrive\\Documents\\GitHub\\SkillFactory-DTS\\venv\\lib\\site-packages\\plotly\\io\\_base_renderers.py:95\u001b[0m, in \u001b[0;36mPlotlyRenderer.to_mimebundle\u001b[1;34m(self, fig_dict)\u001b[0m\n\u001b[0;32m     91\u001b[0m \u001b[39mif\u001b[39;00m config:\n\u001b[0;32m     92\u001b[0m     fig_dict[\u001b[39m\"\u001b[39m\u001b[39mconfig\u001b[39m\u001b[39m\"\u001b[39m] \u001b[39m=\u001b[39m config\n\u001b[0;32m     94\u001b[0m json_compatible_fig_dict \u001b[39m=\u001b[39m json\u001b[39m.\u001b[39mloads(\n\u001b[1;32m---> 95\u001b[0m     to_json(fig_dict, validate\u001b[39m=\u001b[39;49m\u001b[39mFalse\u001b[39;49;00m, remove_uids\u001b[39m=\u001b[39;49m\u001b[39mFalse\u001b[39;49;00m)\n\u001b[0;32m     96\u001b[0m )\n\u001b[0;32m     98\u001b[0m \u001b[39mreturn\u001b[39;00m {\u001b[39m\"\u001b[39m\u001b[39mapplication/vnd.plotly.v1+json\u001b[39m\u001b[39m\"\u001b[39m: json_compatible_fig_dict}\n",
      "File \u001b[1;32mc:\\Users\\kot\\OneDrive\\Documents\\GitHub\\SkillFactory-DTS\\venv\\lib\\site-packages\\plotly\\io\\_json.py:199\u001b[0m, in \u001b[0;36mto_json\u001b[1;34m(fig, validate, pretty, remove_uids, engine)\u001b[0m\n\u001b[0;32m    196\u001b[0m     \u001b[39mfor\u001b[39;00m trace \u001b[39min\u001b[39;00m fig_dict\u001b[39m.\u001b[39mget(\u001b[39m\"\u001b[39m\u001b[39mdata\u001b[39m\u001b[39m\"\u001b[39m, []):\n\u001b[0;32m    197\u001b[0m         trace\u001b[39m.\u001b[39mpop(\u001b[39m\"\u001b[39m\u001b[39muid\u001b[39m\u001b[39m\"\u001b[39m, \u001b[39mNone\u001b[39;00m)\n\u001b[1;32m--> 199\u001b[0m \u001b[39mreturn\u001b[39;00m to_json_plotly(fig_dict, pretty\u001b[39m=\u001b[39;49mpretty, engine\u001b[39m=\u001b[39;49mengine)\n",
      "File \u001b[1;32mc:\\Users\\kot\\OneDrive\\Documents\\GitHub\\SkillFactory-DTS\\venv\\lib\\site-packages\\plotly\\io\\_json.py:123\u001b[0m, in \u001b[0;36mto_json_plotly\u001b[1;34m(plotly_object, pretty, engine)\u001b[0m\n\u001b[0;32m    119\u001b[0m         opts[\u001b[39m\"\u001b[39m\u001b[39mseparators\u001b[39m\u001b[39m\"\u001b[39m] \u001b[39m=\u001b[39m (\u001b[39m\"\u001b[39m\u001b[39m,\u001b[39m\u001b[39m\"\u001b[39m, \u001b[39m\"\u001b[39m\u001b[39m:\u001b[39m\u001b[39m\"\u001b[39m)\n\u001b[0;32m    121\u001b[0m     \u001b[39mfrom\u001b[39;00m \u001b[39m_plotly_utils\u001b[39;00m\u001b[39m.\u001b[39;00m\u001b[39mutils\u001b[39;00m \u001b[39mimport\u001b[39;00m PlotlyJSONEncoder\n\u001b[1;32m--> 123\u001b[0m     \u001b[39mreturn\u001b[39;00m json\u001b[39m.\u001b[39mdumps(plotly_object, \u001b[39mcls\u001b[39m\u001b[39m=\u001b[39mPlotlyJSONEncoder, \u001b[39m*\u001b[39m\u001b[39m*\u001b[39mopts)\n\u001b[0;32m    124\u001b[0m \u001b[39melif\u001b[39;00m engine \u001b[39m==\u001b[39m \u001b[39m\"\u001b[39m\u001b[39morjson\u001b[39m\u001b[39m\"\u001b[39m:\n\u001b[0;32m    125\u001b[0m     JsonConfig\u001b[39m.\u001b[39mvalidate_orjson()\n",
      "File \u001b[1;32m~\\AppData\\Local\\Programs\\Python\\Python39\\lib\\json\\__init__.py:234\u001b[0m, in \u001b[0;36mdumps\u001b[1;34m(obj, skipkeys, ensure_ascii, check_circular, allow_nan, cls, indent, separators, default, sort_keys, **kw)\u001b[0m\n\u001b[0;32m    232\u001b[0m \u001b[39mif\u001b[39;00m \u001b[39mcls\u001b[39m \u001b[39mis\u001b[39;00m \u001b[39mNone\u001b[39;00m:\n\u001b[0;32m    233\u001b[0m     \u001b[39mcls\u001b[39m \u001b[39m=\u001b[39m JSONEncoder\n\u001b[1;32m--> 234\u001b[0m \u001b[39mreturn\u001b[39;00m \u001b[39mcls\u001b[39;49m(\n\u001b[0;32m    235\u001b[0m     skipkeys\u001b[39m=\u001b[39;49mskipkeys, ensure_ascii\u001b[39m=\u001b[39;49mensure_ascii,\n\u001b[0;32m    236\u001b[0m     check_circular\u001b[39m=\u001b[39;49mcheck_circular, allow_nan\u001b[39m=\u001b[39;49mallow_nan, indent\u001b[39m=\u001b[39;49mindent,\n\u001b[0;32m    237\u001b[0m     separators\u001b[39m=\u001b[39;49mseparators, default\u001b[39m=\u001b[39;49mdefault, sort_keys\u001b[39m=\u001b[39;49msort_keys,\n\u001b[0;32m    238\u001b[0m     \u001b[39m*\u001b[39;49m\u001b[39m*\u001b[39;49mkw)\u001b[39m.\u001b[39;49mencode(obj)\n",
      "File \u001b[1;32mc:\\Users\\kot\\OneDrive\\Documents\\GitHub\\SkillFactory-DTS\\venv\\lib\\site-packages\\_plotly_utils\\utils.py:59\u001b[0m, in \u001b[0;36mPlotlyJSONEncoder.encode\u001b[1;34m(self, o)\u001b[0m\n\u001b[0;32m     52\u001b[0m \u001b[39m\"\"\"\u001b[39;00m\n\u001b[0;32m     53\u001b[0m \u001b[39mLoad and then dump the result using parse_constant kwarg\u001b[39;00m\n\u001b[0;32m     54\u001b[0m \n\u001b[0;32m     55\u001b[0m \u001b[39mNote that setting invalid separators will cause a failure at this step.\u001b[39;00m\n\u001b[0;32m     56\u001b[0m \n\u001b[0;32m     57\u001b[0m \u001b[39m\"\"\"\u001b[39;00m\n\u001b[0;32m     58\u001b[0m \u001b[39m# this will raise errors in a normal-expected way\u001b[39;00m\n\u001b[1;32m---> 59\u001b[0m encoded_o \u001b[39m=\u001b[39m \u001b[39msuper\u001b[39;49m(PlotlyJSONEncoder, \u001b[39mself\u001b[39;49m)\u001b[39m.\u001b[39;49mencode(o)\n\u001b[0;32m     60\u001b[0m \u001b[39m# Brute force guessing whether NaN or Infinity values are in the string\u001b[39;00m\n\u001b[0;32m     61\u001b[0m \u001b[39m# We catch false positive cases (e.g. strings such as titles, labels etc.)\u001b[39;00m\n\u001b[0;32m     62\u001b[0m \u001b[39m# but this is ok since the intention is to skip the decoding / reencoding\u001b[39;00m\n\u001b[0;32m     63\u001b[0m \u001b[39m# step when it's completely safe\u001b[39;00m\n\u001b[0;32m     65\u001b[0m \u001b[39mif\u001b[39;00m \u001b[39mnot\u001b[39;00m (\u001b[39m\"\u001b[39m\u001b[39mNaN\u001b[39m\u001b[39m\"\u001b[39m \u001b[39min\u001b[39;00m encoded_o \u001b[39mor\u001b[39;00m \u001b[39m\"\u001b[39m\u001b[39mInfinity\u001b[39m\u001b[39m\"\u001b[39m \u001b[39min\u001b[39;00m encoded_o):\n",
      "File \u001b[1;32m~\\AppData\\Local\\Programs\\Python\\Python39\\lib\\json\\encoder.py:199\u001b[0m, in \u001b[0;36mJSONEncoder.encode\u001b[1;34m(self, o)\u001b[0m\n\u001b[0;32m    195\u001b[0m         \u001b[39mreturn\u001b[39;00m encode_basestring(o)\n\u001b[0;32m    196\u001b[0m \u001b[39m# This doesn't pass the iterator directly to ''.join() because the\u001b[39;00m\n\u001b[0;32m    197\u001b[0m \u001b[39m# exceptions aren't as detailed.  The list call should be roughly\u001b[39;00m\n\u001b[0;32m    198\u001b[0m \u001b[39m# equivalent to the PySequence_Fast that ''.join() would do.\u001b[39;00m\n\u001b[1;32m--> 199\u001b[0m chunks \u001b[39m=\u001b[39m \u001b[39mself\u001b[39;49m\u001b[39m.\u001b[39;49miterencode(o, _one_shot\u001b[39m=\u001b[39;49m\u001b[39mTrue\u001b[39;49;00m)\n\u001b[0;32m    200\u001b[0m \u001b[39mif\u001b[39;00m \u001b[39mnot\u001b[39;00m \u001b[39misinstance\u001b[39m(chunks, (\u001b[39mlist\u001b[39m, \u001b[39mtuple\u001b[39m)):\n\u001b[0;32m    201\u001b[0m     chunks \u001b[39m=\u001b[39m \u001b[39mlist\u001b[39m(chunks)\n",
      "File \u001b[1;32m~\\AppData\\Local\\Programs\\Python\\Python39\\lib\\json\\encoder.py:257\u001b[0m, in \u001b[0;36mJSONEncoder.iterencode\u001b[1;34m(self, o, _one_shot)\u001b[0m\n\u001b[0;32m    252\u001b[0m \u001b[39melse\u001b[39;00m:\n\u001b[0;32m    253\u001b[0m     _iterencode \u001b[39m=\u001b[39m _make_iterencode(\n\u001b[0;32m    254\u001b[0m         markers, \u001b[39mself\u001b[39m\u001b[39m.\u001b[39mdefault, _encoder, \u001b[39mself\u001b[39m\u001b[39m.\u001b[39mindent, floatstr,\n\u001b[0;32m    255\u001b[0m         \u001b[39mself\u001b[39m\u001b[39m.\u001b[39mkey_separator, \u001b[39mself\u001b[39m\u001b[39m.\u001b[39mitem_separator, \u001b[39mself\u001b[39m\u001b[39m.\u001b[39msort_keys,\n\u001b[0;32m    256\u001b[0m         \u001b[39mself\u001b[39m\u001b[39m.\u001b[39mskipkeys, _one_shot)\n\u001b[1;32m--> 257\u001b[0m \u001b[39mreturn\u001b[39;00m _iterencode(o, \u001b[39m0\u001b[39;49m)\n",
      "File \u001b[1;32mc:\\Users\\kot\\OneDrive\\Documents\\GitHub\\SkillFactory-DTS\\venv\\lib\\site-packages\\_plotly_utils\\utils.py:136\u001b[0m, in \u001b[0;36mPlotlyJSONEncoder.default\u001b[1;34m(self, obj)\u001b[0m\n\u001b[0;32m    134\u001b[0m     \u001b[39mexcept\u001b[39;00m NotEncodable:\n\u001b[0;32m    135\u001b[0m         \u001b[39mpass\u001b[39;00m\n\u001b[1;32m--> 136\u001b[0m \u001b[39mreturn\u001b[39;00m _json\u001b[39m.\u001b[39;49mJSONEncoder\u001b[39m.\u001b[39;49mdefault(\u001b[39mself\u001b[39;49m, obj)\n",
      "File \u001b[1;32m~\\AppData\\Local\\Programs\\Python\\Python39\\lib\\json\\encoder.py:179\u001b[0m, in \u001b[0;36mJSONEncoder.default\u001b[1;34m(self, o)\u001b[0m\n\u001b[0;32m    160\u001b[0m \u001b[39mdef\u001b[39;00m \u001b[39mdefault\u001b[39m(\u001b[39mself\u001b[39m, o):\n\u001b[0;32m    161\u001b[0m     \u001b[39m\"\"\"Implement this method in a subclass such that it returns\u001b[39;00m\n\u001b[0;32m    162\u001b[0m \u001b[39m    a serializable object for ``o``, or calls the base implementation\u001b[39;00m\n\u001b[0;32m    163\u001b[0m \u001b[39m    (to raise a ``TypeError``).\u001b[39;00m\n\u001b[1;32m   (...)\u001b[0m\n\u001b[0;32m    177\u001b[0m \n\u001b[0;32m    178\u001b[0m \u001b[39m    \"\"\"\u001b[39;00m\n\u001b[1;32m--> 179\u001b[0m     \u001b[39mraise\u001b[39;00m \u001b[39mTypeError\u001b[39;00m(\u001b[39mf\u001b[39m\u001b[39m'\u001b[39m\u001b[39mObject of type \u001b[39m\u001b[39m{\u001b[39;00mo\u001b[39m.\u001b[39m\u001b[39m__class__\u001b[39m\u001b[39m.\u001b[39m\u001b[39m__name__\u001b[39m\u001b[39m}\u001b[39;00m\u001b[39m \u001b[39m\u001b[39m'\u001b[39m\n\u001b[0;32m    180\u001b[0m                     \u001b[39mf\u001b[39m\u001b[39m'\u001b[39m\u001b[39mis not JSON serializable\u001b[39m\u001b[39m'\u001b[39m)\n",
      "\u001b[1;31mTypeError\u001b[0m: Object of type Period is not JSON serializable"
     ]
    }
   ],
   "source": [
    "import plotly\n",
    "import plotly.express as px\n",
    "print(plotly.__version__)\n",
    "\n",
    "\n",
    "line_data = solar_df.groupby('y-m', as_index=False).mean()\n",
    "fig = px.line(\n",
    "    data_frame=line_data, #DataFrame\n",
    "    x='y-m', #ось абсцисс\n",
    "    y = 'day_power',\n",
    "    height=500, #высота\n",
    "    width=800, #ширина\n",
    "    title='Confirmed, Recovered, Deaths, Active cases over Time' #заголовок\n",
    ")\n",
    "fig.show()"
   ]
  }
 ],
 "metadata": {
  "kernelspec": {
   "display_name": "Python 3.9.10 ('venv': venv)",
   "language": "python",
   "name": "python3"
  },
  "language_info": {
   "codemirror_mode": {
    "name": "ipython",
    "version": 3
   },
   "file_extension": ".py",
   "mimetype": "text/x-python",
   "name": "python",
   "nbconvert_exporter": "python",
   "pygments_lexer": "ipython3",
   "version": "3.9.10"
  },
  "orig_nbformat": 4,
  "vscode": {
   "interpreter": {
    "hash": "2741c0f151fcc1c598163fda889615f6748bf0880bdd6dd6aac269f3c712776d"
   }
  }
 },
 "nbformat": 4,
 "nbformat_minor": 2
}
