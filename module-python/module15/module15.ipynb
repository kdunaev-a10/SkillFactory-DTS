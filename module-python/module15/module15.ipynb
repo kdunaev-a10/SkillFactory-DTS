{
 "cells": [
  {
   "cell_type": "code",
   "execution_count": null,
   "metadata": {},
   "outputs": [],
   "source": [
    "class DepartmentReport():\n",
    "    def __init__(self, company):  \n",
    "        self.revenues = []  \n",
    "        self.company = company \n",
    "        \n",
    "    def add_revenue(self, amount):\n",
    "        \"\"\"\n",
    "        Метод для добавления выручки отдела в список revenues.\n",
    "        Если атрибута revenues ещё не существует, метод должен создавать пустой список перед добавлением выручки.\n",
    "        \"\"\"\n",
    "#        if not hasattr(self, 'revenues'):  \n",
    "#            self.revenues = []  \n",
    "        # Добавим текущую сделку  \n",
    "        self.revenues.append(amount)  \n",
    "    \n",
    "    def average_revenue(self):\n",
    "        \"\"\"\n",
    "        Метод возвращает среднюю выручку по отделам.\n",
    "        \"\"\"\n",
    "        average = round(sum(self.revenues)  / len(self.revenues))\n",
    "        return 'Average department revenue for {}: {}'.format(self.company,average)\n",
    "      \n",
    "    def print_report(self):  \n",
    "        \"\"\"_summary_\n",
    "        \"\"\"\n",
    "        print(\"Average department revenue for {}: {}\".format(self.company, self.average_revenue())) \n",
    "\n",
    "\n",
    "report = DepartmentReport('test')\n",
    "report.add_revenue(1_000_000)\n",
    "report.add_revenue(400_000)\n",
    "print(report.revenues)\n",
    "print(report.average_revenue())\n",
    "\n",
    "report1 = DepartmentReport(\"Danon\")\n",
    "report1.add_revenue(1_000_000)\n",
    "report1.add_revenue(400_000)\n",
    "print(report1.average_revenue())\n",
    "\n"
   ]
  },
  {
   "cell_type": "code",
   "execution_count": 3,
   "metadata": {},
   "outputs": [
    {
     "name": "stdout",
     "output_type": "stream",
     "text": [
      "Employee:  Ivan Semenov\n",
      "Total sales: [120000, 250000, 20000]\n",
      "Average sales: 100\n",
      "Companies: ['SkyEng', 'PepsiCo']\n"
     ]
    }
   ],
   "source": [
    "class SalesReport():  \n",
    "    def __init__(self, employee_name):  \n",
    "        self.deals = []  \n",
    "        self.employee_name = employee_name  \n",
    "      \n",
    "    def add_deal(self, company, amount):   \n",
    "        self.deals.append({'company': company, 'amount': amount})  \n",
    "          \n",
    "    def total_amount(self):  \n",
    "        #return sum([deal['amount'] for deal in self.deals])  \n",
    "        return [deal['amount'] for deal in self.deals]\n",
    "      \n",
    "    def average_deal(self):  \n",
    "        #return self.total_amount()/len(self.deals)  \n",
    "        return 100\n",
    "      \n",
    "    def all_companies(self):  \n",
    "        return list(set([deal['company'] for deal in self.deals]))  \n",
    "      \n",
    "    def print_report(self):  \n",
    "        print(\"Employee: \", self.employee_name)  \n",
    "        print(\"Total sales:\", self.total_amount())  \n",
    "        print(\"Average sales:\", self.average_deal())  \n",
    "        print(\"Companies:\", self.all_companies())  \n",
    "\n",
    "report = SalesReport(\"Ivan Semenov\")  \n",
    "  \n",
    "report.add_deal(\"PepsiCo\", 120_000)  \n",
    "report.add_deal(\"SkyEng\", 250_000)  \n",
    "report.add_deal(\"PepsiCo\", 20_000)  \n",
    "  \n",
    "report.print_report()  "
   ]
  },
  {
   "cell_type": "code",
   "execution_count": 2,
   "metadata": {},
   "outputs": [
    {
     "name": "stdout",
     "output_type": "stream",
     "text": [
      "Order price for max@gmail.com is 100\n",
      "Order price for lova@yandex.ru is 180.0\n",
      "Order price for german@sberbank.ru is 500\n",
      "Order price for german@sberbank.ru is 450.0\n"
     ]
    }
   ],
   "source": [
    "class Client():  \n",
    "    # Базовые данные  \n",
    "    def __init__(self, email, order_num, registration_year):  \n",
    "        self.email = email  \n",
    "        self.order_num = order_num  \n",
    "        self.registration_year = registration_year  \n",
    "        self.discount = 0  \n",
    "          \n",
    "    # Оформление заказа  \n",
    "    def make_order(self, price):  \n",
    "        self.update_discount()  \n",
    "        self.order_num += 1  \n",
    "        # Здесь было бы оформление заказа, но мы просто выведем его цену  \n",
    "        discounted_price = price * (1 - self.discount)   \n",
    "        print(f\"Order price for {self.email} is {discounted_price}\")  \n",
    "              \n",
    "    # Назначение скидки  \n",
    "    def update_discount(self):   \n",
    "        if self.registration_year < 2018 and self.order_num >= 5:  \n",
    "            self.discount = 0.1   \n",
    "\n",
    "# Сделаем подобие базы  \n",
    "client_db = [   \n",
    "    Client(\"max@gmail.com\", 2, 2019),  \n",
    "    Client(\"lova@yandex.ru\", 10, 2015),  \n",
    "    Client(\"german@sberbank.ru\", 4, 2017)  \n",
    "]  \n",
    "  \n",
    "  \n",
    "# Сгенерируем заказы  \n",
    "client_db[0].make_order(100)  \n",
    "# => Order price for max@gmail.com is 100  \n",
    "  \n",
    "client_db[1].make_order(200)  \n",
    "# => Order price for lova@yandex.ru is 180.0  \n",
    "  \n",
    "client_db[2].make_order(500)  \n",
    "# => Order price for german@sberbank.ru is 500  \n",
    "  \n",
    "client_db[2].make_order(500)  \n",
    "# => Order price for german@sberbank.ru is 450.0 "
   ]
  },
  {
   "cell_type": "code",
   "execution_count": 14,
   "metadata": {},
   "outputs": [
    {
     "name": "stdout",
     "output_type": "stream",
     "text": [
      "False\n",
      "True\n",
      "19700\n"
     ]
    }
   ],
   "source": [
    "class User():  \n",
    "    # Базовые данные  \n",
    "    def __init__(self, email, password, balance):  \n",
    "        self.email = email  \n",
    "        self.password = password  \n",
    "        self.balance = balance  \n",
    "          \n",
    "    # login  \n",
    "    def login(self, email, password):  \n",
    "        if self.email == email and self.password == password:\n",
    "            return True\n",
    "        else:\n",
    "            return False\n",
    "              \n",
    "    # Назначение update_balance  \n",
    "    def update_balance(self, amount):   \n",
    "        self.balance += amount\n",
    "        \n",
    "user = User(\"gosha@roskino.org\", \"qwerty\", 20_000)\n",
    "print(user.login(\"gosha@roskino.org\", \"qwerty123\"))\n",
    "print(user.login(\"gosha@roskino.org\", \"qwerty\"))\n",
    "user.update_balance(200)\n",
    "user.update_balance(-500)\n",
    "print(user.balance)"
   ]
  },
  {
   "cell_type": "markdown",
   "metadata": {},
   "source": [
    "## Задание 5.2 "
   ]
  },
  {
   "cell_type": "code",
   "execution_count": 17,
   "metadata": {},
   "outputs": [
    {
     "name": "stdout",
     "output_type": "stream",
     "text": [
      "5\n",
      "4\n"
     ]
    }
   ],
   "source": [
    "class IntDataFrame():  \n",
    "    def __init__(self, column, fill_value=0):  \n",
    "        # Инициализируем атрибуты  \n",
    "        self.column = column  \n",
    "        self.fill_value = fill_value  \n",
    "        # Заполним пропуски  \n",
    "        self.fill_missed()  \n",
    "        # Конвертируем все элементы в числа  \n",
    "        self.to_int()  \n",
    "          \n",
    "    def fill_missed(self):  \n",
    "        for i, value in enumerate(self.column):  \n",
    "            if value is None or value == '':  \n",
    "                self.column[i] = self.fill_value  \n",
    "                  \n",
    "    def to_int(self):  \n",
    "        self.column = [int(value) for value in self.column]  \n",
    "      \n",
    "    def count(self):  \n",
    "        count_nonull = 0\n",
    "        for i in self.column:\n",
    "            if i:\n",
    "                count_nonull += 1\n",
    "        return count_nonull  \n",
    "      \n",
    "    def unique(self):  \n",
    "        return len(set(self.column))\n",
    "\n",
    "df = IntDataFrame([4.7, 4, 3, 0, 2.4, 0.3, 4])\n",
    "\n",
    "print(df.count())\n",
    "print(df.unique())\n"
   ]
  },
  {
   "cell_type": "markdown",
   "metadata": {},
   "source": [
    "Представим, вы делаете обработку данных и в конце каждого дня сохраняете результат в архив. Вы хотите, чтобы данные каждого дня лежали в отдельном файле для этого дня, при этом можно было бы получить данные за произвольный день. \n",
    "\n"
   ]
  },
  {
   "cell_type": "code",
   "execution_count": 19,
   "metadata": {},
   "outputs": [
    {
     "name": "stdout",
     "output_type": "stream",
     "text": [
      "{'perfomance': [10, 20, 10], 'clients': {'Romashka': 10, 'Vector': 34}}\n"
     ]
    }
   ],
   "source": [
    "import pickle  \n",
    "from datetime import datetime  \n",
    "from os import path  \n",
    "  \n",
    "class Dumper():  \n",
    "    def __init__(self, archive_dir=\"archive/\"):  \n",
    "        self.archive_dir = archive_dir  \n",
    "          \n",
    "    def dump(self, data):  \n",
    "        # Библиотека pickle позволяет доставать и класть объекты в файл  \n",
    "        with open(self.get_file_name(), 'wb') as file:  \n",
    "            pickle.dump(data, file)  \n",
    "              \n",
    "    def load_for_day(self, day):  \n",
    "        file_name = path.join(self.archive_dir, day + \".pkl\")   \n",
    "        with open(file_name, 'rb') as file:  \n",
    "            sets = pickle.load(file)  \n",
    "        return sets  \n",
    "          \n",
    "    # возвращает корректное имя для файла   \n",
    "    def get_file_name(self):   \n",
    "        today = datetime.now().strftime(\"%y-%m-%d\")   \n",
    "        return path.join(self.archive_dir, today + \".pkl\")  \n",
    "    \n",
    "\n",
    "data = {  \n",
    "    'perfomance': [10, 20, 10],  \n",
    "    'clients': {\"Romashka\": 10, \"Vector\": 34}  \n",
    "}  \n",
    "    \n",
    "dumper = Dumper()  \n",
    "  \n",
    "# Сохраним данные  \n",
    "dumper.dump(data)  \n",
    "  \n",
    "# Восстановим для сегодняшней даты  \n",
    "file_name = datetime.now().strftime(\"%y-%m-%d\")\n",
    "restored_data = dumper.load_for_day(file_name)\n",
    "print(restored_data)  \n",
    "\n"
   ]
  },
  {
   "cell_type": "markdown",
   "metadata": {},
   "source": [
    " Задание 5.3\n",
    "1 point possible (ungraded)\n",
    "\n",
    "Напишите класс сборщика технических сообщений OwnLogger.\n",
    "\n",
    "    У него должен быть метод log(message, level), который записывает сообщения. Здесь сообщение message может быть любым, а level — один из \"info\", \"warning\", \"error\".\n",
    "    Также примените метод show_last(level), где level может быть \"info\", \"warning\", \"error\", \"all\". Для \"all\" он просто возвращает последнее добавленное сообщение, а для остальных — последнее поступившее сообщение соответствующего уровня.\n",
    "    При этом по умолчанию значение именно \"all\". Если подходящего сообщения нет, возвращает None.\n"
   ]
  },
  {
   "cell_type": "code",
   "execution_count": 28,
   "metadata": {},
   "outputs": [
    {
     "name": "stdout",
     "output_type": "stream",
     "text": [
      "[]\n",
      "Connection lost\n",
      "['System started', 'System started1']\n",
      "System started1\n"
     ]
    }
   ],
   "source": [
    "class OwnLogger():  \n",
    "    def __init__(self):  \n",
    "        # Инициализируем атрибуты  \n",
    "        #self.msgDict = {\"info\": None, \"warning\": None, \"error\": None, \"all\": None}  \n",
    "        self.msgDict = {\"info\": [], \"warning\": [], \"error\": [], \"all\": None}\n",
    "           \n",
    "    def log(self, message, level):  \n",
    "        self.msgDict[level].append(message)\n",
    "        self.msgDict['all'] = message\n",
    "                  \n",
    "    def show_last(self, level='all'):  \n",
    "        return self.msgDict[level]\n",
    "\n",
    "logger = OwnLogger()\n",
    "logger.log(\"System started\", \"info\")\n",
    "print(logger.show_last(\"error\"))\n",
    "logger.log(\"Connection instable\", \"warning\")\n",
    "logger.log(\"Connection lost\", \"error\")\n",
    "print(logger.show_last())\n",
    "logger.log(\"System started1\", \"info\")\n",
    "print(logger.show_last(\"info\"))\n",
    "print(logger.show_last())"
   ]
  },
  {
   "cell_type": "code",
   "execution_count": 29,
   "metadata": {},
   "outputs": [],
   "source": [
    "class Dog():    \n",
    "    def bark(*args):\n",
    "        return 'Bark!'\n",
    "    \n",
    "    def give_paw(*args):\n",
    "        return 'Paw'\n",
    "\n"
   ]
  },
  {
   "cell_type": "code",
   "execution_count": 44,
   "metadata": {},
   "outputs": [
    {
     "name": "stdout",
     "output_type": "stream",
     "text": [
      "c:\\Users\\kot\\OneDrive\\Documents\\GitHub\\SkillFactory-DTS\\module-python\\module15\n",
      "testfile.tmp\n",
      "c:\\Users\\kot\\OneDrive\\Documents\\GitHub\\SkillFactory-DTS\\module-python\\module15\\testfile.tmp\n",
      "True\n",
      "Current dir: .\n",
      "directories: ['archive', 'helpes']\n",
      "---\n",
      "list of files: ['module15-1.py', 'module15.ipynb', 'testfile.tmp']\n",
      "---\n",
      "Current dir: archive\n",
      "no directories\n",
      "---\n",
      "list of files: ['22-10-07.pkl']\n",
      "---\n",
      "Current dir: helpes\n",
      "no directories\n",
      "---\n",
      "list of files: ['client.py', 'data_frame.py', 'dumper.py', '__init__.py']\n",
      "---\n",
      "\n",
      "\n",
      "c:\\Users\\kot\\OneDrive\\Documents\\GitHub\\SkillFactory-DTS\\module-python\\module15\n",
      "c:\\Users\\kot\\OneDrive\\Documents\\GitHub\\SkillFactory-DTS\\module-python\n",
      "c:\\Users\\kot\\OneDrive\\Documents\\GitHub\\SkillFactory-DTS\\module-python\\module15\n",
      "['archive', 'helpes', 'module15-1.py', 'module15.ipynb', 'testfile.tmp']\n",
      "Файл отсутствует в данной директории\n",
      "c:\\Users\\kot\\OneDrive\\Documents\\GitHub\\SkillFactory-DTS\\module-python\\module15\n",
      "c:\\Users\\kot\\OneDrive\\Documents\\GitHub\\SkillFactory-DTS\\module-python\\module15\\test\n"
     ]
    }
   ],
   "source": [
    "print(os.path.dirname(\"c:\\\\Users\\\\kot\\\\OneDrive\\\\Documents\\\\GitHub\\\\SkillFactory-DTS\\\\module-python\\\\module15\\\\testfile.tmp\"))\n",
    "print(os.path.basename(\"c:\\\\Users\\\\kot\\\\OneDrive\\\\Documents\\\\GitHub\\\\SkillFactory-DTS\\\\module-python\\\\module15\\\\testfile.tmp\"))\n",
    "print(os.path.normpath(\"c:\\\\Users\\\\kot\\\\OneDrive\\\\Documents\\\\GitHub\\\\SkillFactory-DTS\\\\module-python\\\\module15\\\\testfile.tmp\"))\n",
    "print(os.path.exists(\"c:\\\\Users\\\\kot\\\\OneDrive\\\\Documents\\\\GitHub\\\\SkillFactory-DTS\\\\module-python\\\\module16\\\\..\\\\module15\\\\testfile.tmp\"))\n",
    "\n",
    "\n",
    "print()\n",
    "\n",
    "print(os.path.dirname('.'))\n",
    "start_path = os.getcwd()\n",
    "print(start_path) # /home/nbuser/library\n",
    "os.chdir(\"..\") # подняться на один уровень выше\n",
    "print(os.getcwd())\n",
    "os.chdir(start_path)\n",
    "print(os.getcwd())\n",
    "\n",
    "print(os.listdir())\n",
    "\n",
    "if 'tmp.py' not in os.listdir():\n",
    "    print(\"Файл отсутствует в данной директории\")\n",
    "    \n",
    "print(start_path)\n",
    "print(os.path.join(start_path, 'test'))"
   ]
  },
  {
   "cell_type": "code",
   "execution_count": 61,
   "metadata": {},
   "outputs": [
    {
     "name": "stdout",
     "output_type": "stream",
     "text": [
      "Current dir: c:\\Users\\kot\\OneDrive\\Documents\\GitHub\\SkillFactory-DTS\\module-python\\module15\n",
      "all paths:\n",
      "file: c:\\Users\\kot\\OneDrive\\Documents\\GitHub\\SkillFactory-DTS\\module-python\\module15\\module15-1.py\n",
      "file: c:\\Users\\kot\\OneDrive\\Documents\\GitHub\\SkillFactory-DTS\\module-python\\module15\\module15.ipynb\n",
      "file: c:\\Users\\kot\\OneDrive\\Documents\\GitHub\\SkillFactory-DTS\\module-python\\module15\\testfile.tmp\n",
      "---\n",
      "directories: c:\\Users\\kot\\OneDrive\\Documents\\GitHub\\SkillFactory-DTS\\module-python\\module15\\archive\n",
      "directories: c:\\Users\\kot\\OneDrive\\Documents\\GitHub\\SkillFactory-DTS\\module-python\\module15\\helpes\n",
      "===\n",
      "Current dir: c:\\Users\\kot\\OneDrive\\Documents\\GitHub\\SkillFactory-DTS\\module-python\\module15\\archive\n",
      "file: c:\\Users\\kot\\OneDrive\\Documents\\GitHub\\SkillFactory-DTS\\module-python\\module15\\archive\\22-10-07.pkl\n",
      "---\n",
      "===\n",
      "Current dir: c:\\Users\\kot\\OneDrive\\Documents\\GitHub\\SkillFactory-DTS\\module-python\\module15\\helpes\n",
      "file: c:\\Users\\kot\\OneDrive\\Documents\\GitHub\\SkillFactory-DTS\\module-python\\module15\\helpes\\client.py\n",
      "file: c:\\Users\\kot\\OneDrive\\Documents\\GitHub\\SkillFactory-DTS\\module-python\\module15\\helpes\\data_frame.py\n",
      "file: c:\\Users\\kot\\OneDrive\\Documents\\GitHub\\SkillFactory-DTS\\module-python\\module15\\helpes\\dumper.py\n",
      "file: c:\\Users\\kot\\OneDrive\\Documents\\GitHub\\SkillFactory-DTS\\module-python\\module15\\helpes\\__init__.py\n",
      "---\n",
      "===\n"
     ]
    }
   ],
   "source": [
    "def WalkDir(path = None):\n",
    "    path_tmp = path if path is not None else os.getcwd()\n",
    "        \n",
    "    for root, dirs, files in os.walk(path_tmp):\n",
    "\n",
    "        print(\"Current dir: {}\".format(os.path.normpath(root)))\n",
    "        #if dirs: \n",
    "        #    print(\"directories: {}\".format(dirs))\n",
    "        #else:\n",
    "        #    print('no directories')\n",
    "        #print('---')\n",
    "        #if files: \n",
    "        #    print('list of files: {}'.format(files))\n",
    "        #else:\n",
    "        #    print('no files')\n",
    "        #print('---')\n",
    "        \n",
    "        if files and dirs:\n",
    "            print('all paths:')\n",
    "        for f in files:\n",
    "                print(\"file: {}\".format(os.path.join(root, f)))\n",
    "        print('---')\n",
    "        for d in dirs:\n",
    "                print(\"directories: {}\".format(os.path.join(root, d)))\n",
    "        print(\"===\")\n",
    "            \n",
    "\n",
    "WalkDir()\n"
   ]
  },
  {
   "cell_type": "markdown",
   "metadata": {},
   "source": []
  },
  {
   "cell_type": "code",
   "execution_count": 67,
   "metadata": {},
   "outputs": [
    {
     "name": "stdout",
     "output_type": "stream",
     "text": [
      "0\n",
      "13\n",
      "14\n",
      "29\n"
     ]
    }
   ],
   "source": [
    "f = open('testfile.tmp', 'w', encoding='utf8')\n",
    "print(f.tell())\n",
    "print(f.write('this is test\\n'))\n",
    "print(f.write('this is line2\\n'))\n",
    "print(f.tell())\n",
    "f.close()"
   ]
  },
  {
   "cell_type": "code",
   "execution_count": 81,
   "metadata": {},
   "outputs": [
    {
     "name": "stdout",
     "output_type": "stream",
     "text": [
      "0\n",
      "this is te\n",
      "10\n",
      "st\n",
      "this is line2\n",
      "\n",
      "29\n",
      "2\n",
      "2\n",
      "\n",
      "10\n",
      "19\n",
      "b'is line2\\r\\n'\n"
     ]
    }
   ],
   "source": [
    "f = open('testfile.tmp', 'r', encoding='utf8')\n",
    "print(f.tell())\n",
    "print(f.read(10))\n",
    "print(f.tell())\n",
    "print(f.read())\n",
    "print(f.tell())\n",
    "print(f.seek(2))\n",
    "print(f.tell())\n",
    "f.close()\n",
    "\n",
    "print()\n",
    "f = open('testfile.tmp', 'rb')\n",
    "print(f.seek(10))\n",
    "print(f.seek(-10, 2)) #0 - from the begin, 1 - current position, 2 - from the end only for binary\n",
    "print(f.read())\n",
    "f.close()"
   ]
  },
  {
   "cell_type": "code",
   "execution_count": 83,
   "metadata": {},
   "outputs": [],
   "source": [
    "f = open('testfile.tmp', 'a', encoding='utf8')\n",
    "seq = ['line3\\n', 'long line4\\n', 'last line']\n",
    "f.writelines(seq)\n",
    "f.close()"
   ]
  },
  {
   "cell_type": "code",
   "execution_count": 85,
   "metadata": {},
   "outputs": [
    {
     "name": "stdout",
     "output_type": "stream",
     "text": [
      "['this is test\\n', 'this is line2\\n', 'line3\\n', 'long line4\\n', 'last line']\n"
     ]
    }
   ],
   "source": [
    "f = open('testfile.tmp', 'r', encoding='utf8')\n",
    "print(f.readlines())\n",
    "f.close()\n"
   ]
  },
  {
   "cell_type": "code",
   "execution_count": 94,
   "metadata": {},
   "outputs": [
    {
     "name": "stdout",
     "output_type": "stream",
     "text": [
      "this is test\n",
      "\n",
      "thi\n",
      "17\n",
      "s is line2\n",
      "\n",
      "this is test\n",
      "this is line2\n",
      "line3\n",
      "long line4\n",
      "last line\n",
      "\n",
      "this is test\n",
      "this is line2\n",
      "line3\n",
      "long line4\n",
      "last line"
     ]
    }
   ],
   "source": [
    "f = open('testfile.tmp', 'r', encoding='utf8')\n",
    "print(f.readline())\n",
    "print(f.read(3))\n",
    "print(f.tell())\n",
    "print(f.readline())\n",
    "f.close()\n",
    "\n",
    "f = open('testfile.tmp', 'r', encoding='utf8')\n",
    "for line in f:\n",
    "    print(line.strip())\n",
    "print()\n",
    "f.seek(0)\n",
    "for line in f:\n",
    "    print(line, end='')"
   ]
  },
  {
   "cell_type": "code",
   "execution_count": 91,
   "metadata": {},
   "outputs": [
    {
     "name": "stdout",
     "output_type": "stream",
     "text": [
      "this is test\n",
      "\n",
      "this is line2\n",
      "\n"
     ]
    }
   ],
   "source": [
    "with open('testfile.tmp', 'r') as f:\n",
    "    print(f.readline())\n",
    "    print(f.readline())\n",
    "#print(f.readline())"
   ]
  },
  {
   "cell_type": "code",
   "execution_count": 100,
   "metadata": {},
   "outputs": [],
   "source": [
    "with open('output.txt', 'w') as f_out:\n",
    "    with open('testfile.tmp', 'r') as f:\n",
    "        for line in f:\n",
    "            f_out.writelines(line)\n"
   ]
  },
  {
   "cell_type": "code",
   "execution_count": 113,
   "metadata": {},
   "outputs": [
    {
     "name": "stdout",
     "output_type": "stream",
     "text": [
      "1.2\n",
      "5.6\n",
      "8.9\n",
      "3.4\n",
      "7.8[1.2, 3.4, 5.6, 7.8, 8.9]\n",
      "10.1\n"
     ]
    }
   ],
   "source": [
    "numbers=[]\n",
    "with open('number.txt', 'r') as f:\n",
    "    for line in f:\n",
    "        print(line, end='')\n",
    "        numbers.append(float(line.strip()))\n",
    "numbers.sort()\n",
    "print(numbers)\n",
    "print(numbers[-1] + numbers[0])\n",
    "\n",
    "with open('number_out.txt', 'w') as f:\n",
    "    f.write(str(numbers[-1] + numbers[0]))"
   ]
  },
  {
   "cell_type": "code",
   "execution_count": 117,
   "metadata": {},
   "outputs": [
    {
     "name": "stdout",
     "output_type": "stream",
     "text": [
      "10.1\n"
     ]
    }
   ],
   "source": [
    "with open('number.txt', 'r') as f:\n",
    "    min_ = max_ = float(f.readline())\n",
    "    for line in f:\n",
    "        #print(line, end='')\n",
    "        num = float(line)\n",
    "        if num > max_:\n",
    "            max_ = num\n",
    "        if num < min_:\n",
    "            min_ = num\n",
    "    sum = min_ + max_\n",
    "    \n",
    "print(sum)\n",
    "                     \n",
    "with open('number_out.txt', 'w') as f:\n",
    "    f.write(str(numbers[-1] + numbers[0]))"
   ]
  },
  {
   "cell_type": "code",
   "execution_count": 125,
   "metadata": {},
   "outputs": [
    {
     "name": "stdout",
     "output_type": "stream",
     "text": [
      "total students with grade less then 3 is 4\n"
     ]
    }
   ],
   "source": [
    "with open('grades.txt', 'r', encoding='utf8') as f:\n",
    "    sum_grades = 0\n",
    "    for line in f:\n",
    "        #print(line, end='')\n",
    "        #l_name, f_name, grade = line.strip().split()\n",
    "        grade = int(line.strip().split()[-1])\n",
    "        #print(\"last name {}, fist name {}, garde {}\".format(l_name, f_name, grade))\n",
    "        if grade < 3:\n",
    "            sum_grades += 1\n",
    "print(\"total students with grade less then 3 is {}\".format(sum_grades))\n",
    "        \n"
   ]
  },
  {
   "cell_type": "code",
   "execution_count": 138,
   "metadata": {},
   "outputs": [],
   "source": [
    "with open('grades_revers.txt', 'w', encoding='utf8') as f_out:\n",
    "    with open('grades.txt', 'r', encoding='utf8') as f_in:\n",
    "        for line in reversed(f_in.readlines()):\n",
    "            f_out.writelines(line)\n",
    "      \n",
    "            \n",
    "\n",
    "    "
   ]
  },
  {
   "cell_type": "code",
   "execution_count": 141,
   "metadata": {},
   "outputs": [
    {
     "name": "stdout",
     "output_type": "stream",
     "text": [
      "before exception\n",
      "4.0\n",
      "it went well\n",
      "after final\n"
     ]
    }
   ],
   "source": [
    "try:\n",
    "    print('before exception')\n",
    "    a = 4\n",
    "    b = 1\n",
    "    c = a/b\n",
    "    print(c)\n",
    "except ZeroDivisionError as e:\n",
    "    print(e)\n",
    "    print('after exception')\n",
    "else:\n",
    "    print('it went well')\n",
    "finally:\n",
    "    print('after final')\n",
    "    "
   ]
  },
  {
   "cell_type": "code",
   "execution_count": 146,
   "metadata": {},
   "outputs": [
    {
     "name": "stdout",
     "output_type": "stream",
     "text": [
      "wrong 101 age\n"
     ]
    }
   ],
   "source": [
    "try: \n",
    "    \n",
    "    age = 101\n",
    "    \n",
    "    if age > 100 or age <= 0:\n",
    "        raise ValueError(\"Тебе не может быть столько лет\")\n",
    "    \n",
    "    print(f\"Тебе {age} лет!\") # Возраст выводится только если пользователь ввёл правильный возраст.\n",
    "    \n",
    "except ValueError as e:\n",
    "    print(f'wrong {age} age')\n",
    "    \n",
    "\n"
   ]
  },
  {
   "cell_type": "code",
   "execution_count": 148,
   "metadata": {},
   "outputs": [
    {
     "ename": "ValueError",
     "evalue": "invalid literal for int() with base 10: 'razdv'",
     "output_type": "error",
     "traceback": [
      "\u001b[1;31m---------------------------------------------------------------------------\u001b[0m",
      "\u001b[1;31mValueError\u001b[0m                                Traceback (most recent call last)",
      "\u001b[1;32mc:\\Users\\kot\\OneDrive\\Documents\\GitHub\\SkillFactory-DTS\\module-python\\module15\\module15.ipynb Cell 28\u001b[0m in \u001b[0;36m<cell line: 2>\u001b[1;34m()\u001b[0m\n\u001b[0;32m      <a href='vscode-notebook-cell:/c%3A/Users/kot/OneDrive/Documents/GitHub/SkillFactory-DTS/module-python/module15/module15.ipynb#X41sZmlsZQ%3D%3D?line=0'>1</a>\u001b[0m string \u001b[39m=\u001b[39m \u001b[39m'\u001b[39m\u001b[39mrazdv\u001b[39m\u001b[39m'\u001b[39m\n\u001b[1;32m----> <a href='vscode-notebook-cell:/c%3A/Users/kot/OneDrive/Documents/GitHub/SkillFactory-DTS/module-python/module15/module15.ipynb#X41sZmlsZQ%3D%3D?line=1'>2</a>\u001b[0m \u001b[39mprint\u001b[39m(\u001b[39mint\u001b[39;49m(string))\n",
      "\u001b[1;31mValueError\u001b[0m: invalid literal for int() with base 10: 'razdv'"
     ]
    }
   ],
   "source": [
    "string = 'razdv'\n",
    "print(int(string))"
   ]
  },
  {
   "cell_type": "code",
   "execution_count": 160,
   "metadata": {},
   "outputs": [
    {
     "name": "stdout",
     "output_type": "stream",
     "text": [
      "wrong 101aa value, with exception invalid literal for int() with base 10: '101aa'\n",
      "end of program\n"
     ]
    }
   ],
   "source": [
    "try: \n",
    "    \n",
    "    string = '101aa'\n",
    "    print(f\"the number  {int(string)} !\")\n",
    "    \n",
    "except ValueError as e:\n",
    "    print(f'wrong {string} value, with exception {e}')\n",
    "else:\n",
    "    print(f'the number is correct {string}')\n",
    "finally:\n",
    "    print('end of program')"
   ]
  },
  {
   "cell_type": "code",
   "execution_count": 157,
   "metadata": {},
   "outputs": [
    {
     "name": "stdout",
     "output_type": "stream",
     "text": [
      "Hello from arithmetic error\n",
      "Zero division error\n"
     ]
    }
   ],
   "source": [
    "try:\n",
    "    raise ZeroDivisionError  # возбуждаем исключение ZeroDivisionError\n",
    "except ArithmeticError:  # ловим его родителя\n",
    "    print(\"Hello from arithmetic error\")\n",
    "    \n"
   ]
  },
  {
   "cell_type": "code",
   "execution_count": 158,
   "metadata": {},
   "outputs": [
    {
     "name": "stdout",
     "output_type": "stream",
     "text": [
      "Zero division error\n"
     ]
    }
   ],
   "source": [
    "try:\n",
    "    raise ZeroDivisionError\n",
    "except ZeroDivisionError:  # сначала пытаемся поймать потомка\n",
    "    print(\"Zero division error\")\n",
    "except ArithmeticError:  # потом ловим родителя\n",
    "    print(\"Arithmetic error\")"
   ]
  },
  {
   "cell_type": "code",
   "execution_count": 162,
   "metadata": {},
   "outputs": [
    {
     "name": "stdout",
     "output_type": "stream",
     "text": [
      "exception message\n"
     ]
    }
   ],
   "source": [
    "class ParentException(Exception):\n",
    "    pass\n",
    "\n",
    "class ChildException(ParentException):\n",
    "    pass\n",
    "\n",
    "try:\n",
    "    raise ChildException('exception message')\n",
    "except ParentException as e:\n",
    "    print(e)"
   ]
  },
  {
   "cell_type": "code",
   "execution_count": 165,
   "metadata": {},
   "outputs": [
    {
     "name": "stdout",
     "output_type": "stream",
     "text": [
      "Errors: crit error\n",
      "exception message\n"
     ]
    }
   ],
   "source": [
    "class ParentException(Exception):\n",
    "    def __init__(self, message, error):  # допишем к нашему пустому классу конструктор, который будет печатать дополнительно в консоль информацию об ошибке.\n",
    "        super().__init__(message)  # помним про вызов конструктора родительского класса\n",
    "        print(f\"Errors: {error}\")  # печатаем ошибку\n",
    "\n",
    " \n",
    "class ChildException(ParentException): # создаём пустой класс исключения-потомка, наследуемся от ParentException\n",
    "    def __init__(self, message, error):\n",
    "        super().__init__(message, error)\n",
    "        \n",
    "\n",
    "try:\n",
    "    raise ChildException('exception message', \"crit error\")\n",
    "except ParentException as e:\n",
    "    print(e)\n",
    "    "
   ]
  },
  {
   "cell_type": "code",
   "execution_count": 179,
   "metadata": {},
   "outputs": [
    {
     "ename": "NonPositiveDigitException",
     "evalue": "the side is negative or 0",
     "output_type": "error",
     "traceback": [
      "\u001b[1;31m---------------------------------------------------------------------------\u001b[0m",
      "\u001b[1;31mNonPositiveDigitException\u001b[0m                 Traceback (most recent call last)",
      "\u001b[1;32mc:\\Users\\kot\\OneDrive\\Documents\\GitHub\\SkillFactory-DTS\\module-python\\module15\\module15.ipynb Cell 34\u001b[0m in \u001b[0;36m<cell line: 18>\u001b[1;34m()\u001b[0m\n\u001b[0;32m     <a href='vscode-notebook-cell:/c%3A/Users/kot/OneDrive/Documents/GitHub/SkillFactory-DTS/module-python/module15/module15.ipynb#X46sZmlsZQ%3D%3D?line=11'>12</a>\u001b[0m     \u001b[39mdef\u001b[39;00m \u001b[39maround\u001b[39m(\u001b[39mself\u001b[39m):\n\u001b[0;32m     <a href='vscode-notebook-cell:/c%3A/Users/kot/OneDrive/Documents/GitHub/SkillFactory-DTS/module-python/module15/module15.ipynb#X46sZmlsZQ%3D%3D?line=12'>13</a>\u001b[0m         \u001b[39mreturn\u001b[39;00m (\u001b[39m4\u001b[39m \u001b[39m*\u001b[39m \u001b[39mself\u001b[39m\u001b[39m.\u001b[39mside)\n\u001b[1;32m---> <a href='vscode-notebook-cell:/c%3A/Users/kot/OneDrive/Documents/GitHub/SkillFactory-DTS/module-python/module15/module15.ipynb#X46sZmlsZQ%3D%3D?line=17'>18</a>\u001b[0m sq \u001b[39m=\u001b[39m Square(\u001b[39m-\u001b[39;49m\u001b[39m4\u001b[39;49m)\n\u001b[0;32m     <a href='vscode-notebook-cell:/c%3A/Users/kot/OneDrive/Documents/GitHub/SkillFactory-DTS/module-python/module15/module15.ipynb#X46sZmlsZQ%3D%3D?line=18'>19</a>\u001b[0m \u001b[39mprint\u001b[39m(sq\u001b[39m.\u001b[39mflat())\n",
      "\u001b[1;32mc:\\Users\\kot\\OneDrive\\Documents\\GitHub\\SkillFactory-DTS\\module-python\\module15\\module15.ipynb Cell 34\u001b[0m in \u001b[0;36mSquare.__init__\u001b[1;34m(self, side)\u001b[0m\n\u001b[0;32m      <a href='vscode-notebook-cell:/c%3A/Users/kot/OneDrive/Documents/GitHub/SkillFactory-DTS/module-python/module15/module15.ipynb#X46sZmlsZQ%3D%3D?line=5'>6</a>\u001b[0m \u001b[39mdef\u001b[39;00m \u001b[39m__init__\u001b[39m(\u001b[39mself\u001b[39m, side):\n\u001b[0;32m      <a href='vscode-notebook-cell:/c%3A/Users/kot/OneDrive/Documents/GitHub/SkillFactory-DTS/module-python/module15/module15.ipynb#X46sZmlsZQ%3D%3D?line=6'>7</a>\u001b[0m     \u001b[39mif\u001b[39;00m side \u001b[39m<\u001b[39m \u001b[39m0\u001b[39m:\n\u001b[1;32m----> <a href='vscode-notebook-cell:/c%3A/Users/kot/OneDrive/Documents/GitHub/SkillFactory-DTS/module-python/module15/module15.ipynb#X46sZmlsZQ%3D%3D?line=7'>8</a>\u001b[0m         \u001b[39mraise\u001b[39;00m NonPositiveDigitException(\u001b[39m'\u001b[39m\u001b[39mthe side is negative or 0\u001b[39m\u001b[39m'\u001b[39m)\n\u001b[0;32m      <a href='vscode-notebook-cell:/c%3A/Users/kot/OneDrive/Documents/GitHub/SkillFactory-DTS/module-python/module15/module15.ipynb#X46sZmlsZQ%3D%3D?line=8'>9</a>\u001b[0m     \u001b[39mself\u001b[39m\u001b[39m.\u001b[39mside \u001b[39m=\u001b[39m side\n",
      "\u001b[1;31mNonPositiveDigitException\u001b[0m: the side is negative or 0"
     ]
    }
   ],
   "source": [
    "class NonPositiveDigitException(ValueError): #создаём пустой класс исключения-потомка, наследуемся от ValueError\n",
    "    pass\n",
    "\n",
    " \n",
    "class Square: \n",
    "    def __init__(self, side):\n",
    "        if side < 0:\n",
    "            raise NonPositiveDigitException('the side is negative or 0')\n",
    "        self.side = side\n",
    "    def flat(self):\n",
    "        return (self.side * self.side)\n",
    "    def around(self):\n",
    "        return (4 * self.side)\n",
    "        \n",
    "        \n",
    "\n",
    "        \n",
    "sq = Square(-4)\n",
    "print(sq.flat())"
   ]
  }
 ],
 "metadata": {
  "kernelspec": {
   "display_name": "Python 3.9.10 ('venv': venv)",
   "language": "python",
   "name": "python3"
  },
  "language_info": {
   "codemirror_mode": {
    "name": "ipython",
    "version": 3
   },
   "file_extension": ".py",
   "mimetype": "text/x-python",
   "name": "python",
   "nbconvert_exporter": "python",
   "pygments_lexer": "ipython3",
   "version": "3.9.10"
  },
  "orig_nbformat": 4,
  "vscode": {
   "interpreter": {
    "hash": "2741c0f151fcc1c598163fda889615f6748bf0880bdd6dd6aac269f3c712776d"
   }
  }
 },
 "nbformat": 4,
 "nbformat_minor": 2
}
