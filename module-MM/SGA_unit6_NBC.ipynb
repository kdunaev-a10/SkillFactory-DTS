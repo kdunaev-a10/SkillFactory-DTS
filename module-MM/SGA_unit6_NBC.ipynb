{
  "cells": [
    {
      "cell_type": "markdown",
      "id": "00009cca",
      "metadata": {
        "id": "00009cca"
      },
      "source": [
        "# Классификация текстов с использованием Наивного Байесовского Классификатора"
      ]
    },
    {
      "cell_type": "markdown",
      "id": "a52414b8",
      "metadata": {
        "id": "a52414b8"
      },
      "source": [
        "## Задание 1 (1 балл)"
      ]
    },
    {
      "cell_type": "markdown",
      "id": "f5f27b43",
      "metadata": {
        "id": "f5f27b43"
      },
      "source": [
        "Откройте данные. Узнайте, сколько в них спам- и не спам-писем. Визуализируйте полученные соотношение подходящим образом."
      ]
    },
    {
      "cell_type": "code",
      "execution_count": 246,
      "id": "d9cb83c9",
      "metadata": {},
      "outputs": [],
      "source": [
        "import numpy as np\n",
        "import pandas as pd\n",
        "\n",
        "import matplotlib.pyplot as plt\n",
        "import seaborn as sns\n",
        "\n",
        "%matplotlib inline\n",
        "plt.style.use('default')\n",
        "\n",
        "from sklearn.feature_extraction.text import CountVectorizer\n",
        "from sklearn.metrics import accuracy_score\n",
        "from sklearn.model_selection import train_test_split\n",
        "from sklearn.naive_bayes import MultinomialNB"
      ]
    },
    {
      "cell_type": "code",
      "execution_count": 230,
      "id": "ac369274",
      "metadata": {
        "id": "ac369274"
      },
      "outputs": [
        {
          "data": {
            "text/html": [
              "<div>\n",
              "<style scoped>\n",
              "    .dataframe tbody tr th:only-of-type {\n",
              "        vertical-align: middle;\n",
              "    }\n",
              "\n",
              "    .dataframe tbody tr th {\n",
              "        vertical-align: top;\n",
              "    }\n",
              "\n",
              "    .dataframe thead th {\n",
              "        text-align: right;\n",
              "    }\n",
              "</style>\n",
              "<table border=\"1\" class=\"dataframe\">\n",
              "  <thead>\n",
              "    <tr style=\"text-align: right;\">\n",
              "      <th></th>\n",
              "      <th>email</th>\n",
              "      <th>label</th>\n",
              "    </tr>\n",
              "  </thead>\n",
              "  <tbody>\n",
              "    <tr>\n",
              "      <th>0</th>\n",
              "      <td>date wed NUMBER aug NUMBER NUMBER NUMBER NUMB...</td>\n",
              "      <td>0</td>\n",
              "    </tr>\n",
              "    <tr>\n",
              "      <th>1</th>\n",
              "      <td>martin a posted tassos papadopoulos the greek ...</td>\n",
              "      <td>0</td>\n",
              "    </tr>\n",
              "    <tr>\n",
              "      <th>2</th>\n",
              "      <td>man threatens explosion in moscow thursday aug...</td>\n",
              "      <td>0</td>\n",
              "    </tr>\n",
              "    <tr>\n",
              "      <th>3</th>\n",
              "      <td>klez the virus that won t die already the most...</td>\n",
              "      <td>0</td>\n",
              "    </tr>\n",
              "    <tr>\n",
              "      <th>4</th>\n",
              "      <td>in adding cream to spaghetti carbonara which ...</td>\n",
              "      <td>0</td>\n",
              "    </tr>\n",
              "  </tbody>\n",
              "</table>\n",
              "</div>"
            ],
            "text/plain": [
              "                                               email  label\n",
              "0   date wed NUMBER aug NUMBER NUMBER NUMBER NUMB...      0\n",
              "1  martin a posted tassos papadopoulos the greek ...      0\n",
              "2  man threatens explosion in moscow thursday aug...      0\n",
              "3  klez the virus that won t die already the most...      0\n",
              "4   in adding cream to spaghetti carbonara which ...      0"
            ]
          },
          "execution_count": 230,
          "metadata": {},
          "output_type": "execute_result"
        }
      ],
      "source": [
        "# откройте данные: ваш код здесь\n",
        "df = pd.read_csv(\n",
        "    \"data/spam_or_not_spam.csv\", sep=',')\n",
        "\n",
        "df.head()"
      ]
    },
    {
      "cell_type": "code",
      "execution_count": 231,
      "id": "f4231781",
      "metadata": {
        "id": "f4231781"
      },
      "outputs": [
        {
          "name": "stdout",
          "output_type": "stream",
          "text": [
            "<class 'pandas.core.frame.DataFrame'>\n",
            "RangeIndex: 3000 entries, 0 to 2999\n",
            "Data columns (total 2 columns):\n",
            " #   Column  Non-Null Count  Dtype \n",
            "---  ------  --------------  ----- \n",
            " 0   email   2999 non-null   object\n",
            " 1   label   3000 non-null   int64 \n",
            "dtypes: int64(1), object(1)\n",
            "memory usage: 47.0+ KB\n"
          ]
        },
        {
          "data": {
            "text/plain": [
              "None"
            ]
          },
          "metadata": {},
          "output_type": "display_data"
        },
        {
          "data": {
            "text/plain": [
              "label\n",
              "0    2500\n",
              "1     500\n",
              "Name: label, dtype: int64"
            ]
          },
          "metadata": {},
          "output_type": "display_data"
        },
        {
          "data": {
            "text/plain": [
              "label\n",
              "0    83.333333\n",
              "1    16.666667\n",
              "Name: proportion, dtype: float64"
            ]
          },
          "metadata": {},
          "output_type": "display_data"
        }
      ],
      "source": [
        "# рассчитайте частоты для классов : ваш код здесь\n",
        "display(df.info())\n",
        "#display(df.shape)\n",
        "display(df.groupby('label')['label'].count())\n",
        "\n",
        "display(df['label'].value_counts(normalize=True) * 100)\n",
        "\n",
        "#display(df[df['label'] == 1].count())"
      ]
    },
    {
      "cell_type": "code",
      "execution_count": 232,
      "id": "9b871636",
      "metadata": {
        "id": "9b871636"
      },
      "outputs": [
        {
          "name": "stdout",
          "output_type": "stream",
          "text": [
            "['not spam' 'spam']\n"
          ]
        },
        {
          "data": {
            "image/png": "[encoded data removed]",
            "text/plain": [
              "<Figure size 640x480 with 1 Axes>"
            ]
          },
          "metadata": {},
          "output_type": "display_data"
        }
      ],
      "source": [
        "# визуализируйте результат: ваш код здесь\n",
        "\n",
        "fig, ax = plt.subplots(layout='constrained')\n",
        "labels = df['label'].apply(lambda x: 'spam' if x else 'not spam').unique()\n",
        "print(labels)\n",
        "\n",
        "bar_container = ax.bar(labels, df['label'].value_counts(normalize=True)*100, label=labels, color=['green', 'red'])\n",
        "ax.set(ylabel='persantage', xlabel=\"label\",  title='not spam/spam', ylim=(0, 100))\n",
        "ax.bar_label(bar_container, fmt='{:,.2f}')\n",
        "ax.legend(loc='upper left', ncols=3)\n",
        "plt.show()"
      ]
    },
    {
      "cell_type": "markdown",
      "id": "b161614b",
      "metadata": {
        "id": "b161614b"
      },
      "source": [
        "## Задание 2 (2 балла)"
      ]
    },
    {
      "cell_type": "markdown",
      "id": "dd29763b",
      "metadata": {
        "id": "dd29763b"
      },
      "source": [
        "Вам необходимо предобработать ваши данные и перевести их в векторный вид. Подгрузим необходимый модуль:"
      ]
    },
    {
      "cell_type": "code",
      "execution_count": 233,
      "id": "382eac9c",
      "metadata": {
        "id": "382eac9c"
      },
      "outputs": [],
      "source": [
        "from sklearn.feature_extraction.text import CountVectorizer"
      ]
    },
    {
      "cell_type": "markdown",
      "id": "89546b95",
      "metadata": {
        "id": "89546b95"
      },
      "source": [
        "Замените в данных все пустые строки и строки, состоящие из пробелов, на пропуски (NaN). После этого удалите из данных все строки, в которых наблюдаются пропущенные значения."
      ]
    },
    {
      "cell_type": "code",
      "execution_count": 234,
      "id": "45180f82",
      "metadata": {
        "id": "45180f82"
      },
      "outputs": [
        {
          "name": "stderr",
          "output_type": "stream",
          "text": [
            "<>:4: SyntaxWarning: invalid escape sequence '\\s'\n",
            "<>:4: SyntaxWarning: invalid escape sequence '\\s'\n",
            "C:\\Users\\ciber\\AppData\\Local\\Temp\\ipykernel_31996\\4061115850.py:4: SyntaxWarning: invalid escape sequence '\\s'\n",
            "  df['email'] = df['email'].str.replace('\\s+', ' ', regex=True).str.strip()\n"
          ]
        },
        {
          "data": {
            "text/plain": [
              "email    1\n",
              "label    0\n",
              "dtype: int64"
            ]
          },
          "metadata": {},
          "output_type": "display_data"
        },
        {
          "data": {
            "text/html": [
              "<div>\n",
              "<style scoped>\n",
              "    .dataframe tbody tr th:only-of-type {\n",
              "        vertical-align: middle;\n",
              "    }\n",
              "\n",
              "    .dataframe tbody tr th {\n",
              "        vertical-align: top;\n",
              "    }\n",
              "\n",
              "    .dataframe thead th {\n",
              "        text-align: right;\n",
              "    }\n",
              "</style>\n",
              "<table border=\"1\" class=\"dataframe\">\n",
              "  <thead>\n",
              "    <tr style=\"text-align: right;\">\n",
              "      <th></th>\n",
              "      <th>email</th>\n",
              "      <th>label</th>\n",
              "    </tr>\n",
              "  </thead>\n",
              "  <tbody>\n",
              "  </tbody>\n",
              "</table>\n",
              "</div>"
            ],
            "text/plain": [
              "Empty DataFrame\n",
              "Columns: [email, label]\n",
              "Index: []"
            ]
          },
          "metadata": {},
          "output_type": "display_data"
        }
      ],
      "source": [
        "#ваш код здесь\n",
        "display(df.isnull().sum())\n",
        "df[\"email\"] = df[\"email\"].str.replace(r\"\\W+\", \" \", regex=True).str.lower()\n",
        "df['email'] = df['email'].str.replace('\\s+', ' ', regex=True).str.strip()\n",
        "df = df.replace('', np.nan)\n",
        "df = df.dropna()\n",
        "\n",
        "display(df[df['email'] == ''])"
      ]
    },
    {
      "cell_type": "code",
      "execution_count": 235,
      "id": "d6445936",
      "metadata": {},
      "outputs": [
        {
          "name": "stdout",
          "output_type": "stream",
          "text": [
            "<class 'pandas.core.frame.DataFrame'>\n",
            "Index: 2997 entries, 0 to 2999\n",
            "Data columns (total 2 columns):\n",
            " #   Column  Non-Null Count  Dtype \n",
            "---  ------  --------------  ----- \n",
            " 0   email   2997 non-null   object\n",
            " 1   label   2997 non-null   int64 \n",
            "dtypes: int64(1), object(1)\n",
            "memory usage: 70.2+ KB\n"
          ]
        },
        {
          "data": {
            "text/plain": [
              "None"
            ]
          },
          "metadata": {},
          "output_type": "display_data"
        }
      ],
      "source": [
        "display(df.info())"
      ]
    },
    {
      "cell_type": "markdown",
      "id": "2ca2fe88",
      "metadata": {
        "id": "2ca2fe88"
      },
      "source": [
        "Переводим данные в векторный вид:"
      ]
    },
    {
      "cell_type": "code",
      "execution_count": 237,
      "id": "29e9a37b",
      "metadata": {
        "id": "29e9a37b"
      },
      "outputs": [],
      "source": [
        "vectorizer = CountVectorizer()\n",
        "X = vectorizer.fit_transform(df[\"email\"])"
      ]
    },
    {
      "cell_type": "markdown",
      "id": "88c8b726",
      "metadata": {
        "id": "88c8b726"
      },
      "source": [
        "Определите, сколько теперь признаков в нашем наборе данных:"
      ]
    },
    {
      "cell_type": "code",
      "execution_count": 243,
      "id": "f19c2a02",
      "metadata": {
        "id": "f19c2a02"
      },
      "outputs": [
        {
          "data": {
            "text/plain": [
              "(2997, 34116)"
            ]
          },
          "metadata": {},
          "output_type": "display_data"
        }
      ],
      "source": [
        "#ваш код здесь\n",
        "display(X.shape)\n"
      ]
    },
    {
      "cell_type": "markdown",
      "id": "1803f282",
      "metadata": {
        "id": "1803f282"
      },
      "source": [
        "## Задание 3 (2 балла)"
      ]
    },
    {
      "cell_type": "markdown",
      "id": "39f400b7",
      "metadata": {
        "id": "39f400b7"
      },
      "source": [
        "Определите целевую переменную и признаки:"
      ]
    },
    {
      "cell_type": "code",
      "execution_count": 244,
      "id": "31f1acb6",
      "metadata": {
        "id": "31f1acb6"
      },
      "outputs": [
        {
          "name": "stdout",
          "output_type": "stream",
          "text": [
            "(2997, 34116) (2997,)\n"
          ]
        }
      ],
      "source": [
        "#ваш код здесь\n",
        "y = df[\"label\"]\n",
        "\n",
        "print(X.shape, y.shape)"
      ]
    },
    {
      "cell_type": "markdown",
      "id": "b20f273e",
      "metadata": {
        "id": "b20f273e"
      },
      "source": [
        "Разделите выборку на обучающую и тестовую, используя стратифицированное разбиение (параметр `stratify` установите в значение вектора ответов y) размер тестовой выборки (`test_size`) возьмите как 0.25, параметр `random_state` определите со значением 42:"
      ]
    },
    {
      "cell_type": "code",
      "execution_count": 317,
      "id": "96538fb6",
      "metadata": {
        "id": "96538fb6"
      },
      "outputs": [],
      "source": [
        "#ваш код здесь\n",
        "from sklearn.model_selection import train_test_split\n",
        "from sklearn.metrics import accuracy_score\n",
        "from sklearn.naive_bayes import MultinomialNB\n",
        "from sklearn.naive_bayes import ComplementNB\n",
        "from sklearn import metrics #метрики\n",
        "\n",
        "X_train, X_test, y_train, y_test = train_test_split(X, y, test_size=0.25, stratify=y, random_state=42)"
      ]
    },
    {
      "cell_type": "markdown",
      "id": "139dac3d",
      "metadata": {
        "id": "139dac3d"
      },
      "source": [
        "Рассчитайте среднее значение целевой переменной по тестовой выборке:"
      ]
    },
    {
      "cell_type": "code",
      "execution_count": 318,
      "id": "e9baf72d",
      "metadata": {
        "id": "e9baf72d"
      },
      "outputs": [
        {
          "data": {
            "text/plain": [
              "0.165"
            ]
          },
          "metadata": {},
          "output_type": "display_data"
        }
      ],
      "source": [
        "#ваш код здесь\n",
        "display(round(y_test.mean(), 3))"
      ]
    },
    {
      "cell_type": "markdown",
      "id": "710e0e94",
      "metadata": {
        "id": "710e0e94"
      },
      "source": [
        "## Задание 4 (3 балла)"
      ]
    },
    {
      "cell_type": "markdown",
      "id": "26cf6885",
      "metadata": {
        "id": "26cf6885"
      },
      "source": [
        "Определите и обучите подходящий алгоритм с параметром alpha = 0.01"
      ]
    },
    {
      "cell_type": "code",
      "execution_count": 352,
      "id": "4865dd78",
      "metadata": {
        "id": "4865dd78"
      },
      "outputs": [],
      "source": [
        "#ваш код здесь\n",
        "#clf = MultinomialNB(alpha=0.01)\n",
        "clf = ComplementNB(alpha=0.01)\n",
        "clf.fit(X_train, y_train)\n",
        "\n",
        "y_test_pred = clf.predict(X_test)\n",
        "\n"
      ]
    },
    {
      "cell_type": "markdown",
      "id": "d803fbe3",
      "metadata": {
        "id": "d803fbe3"
      },
      "source": [
        "Оцените результат с точки зрения всех известных вам метрик (не менее трёх):"
      ]
    },
    {
      "cell_type": "code",
      "execution_count": 350,
      "id": "e64aa97e",
      "metadata": {},
      "outputs": [
        {
          "name": "stdout",
          "output_type": "stream",
          "text": [
            "              precision    recall  f1-score   support\n",
            "\n",
            "           0      0.995     0.998     0.997       626\n",
            "           1      0.992     0.976     0.984       124\n",
            "\n",
            "    accuracy                          0.995       750\n",
            "   macro avg      0.994     0.987     0.990       750\n",
            "weighted avg      0.995     0.995     0.995       750\n",
            "\n"
          ]
        }
      ],
      "source": [
        "#ваш код здесь\n",
        "#print(f\"Accuracy: {accuracy_score(y_test, y_test_pred)}\")\n",
        "print(metrics.classification_report(y_test, y_test_pred, digits=3))\n",
        "\n"
      ]
    },
    {
      "cell_type": "markdown",
      "id": "c85976d1",
      "metadata": {
        "id": "c85976d1"
      },
      "source": [
        "Нарисуйте ROC-кривую:"
      ]
    },
    {
      "cell_type": "code",
      "execution_count": 321,
      "id": "b4195126",
      "metadata": {
        "id": "b4195126"
      },
      "outputs": [
        {
          "data": {
            "text/html": [
              "<div>\n",
              "<style scoped>\n",
              "    .dataframe tbody tr th:only-of-type {\n",
              "        vertical-align: middle;\n",
              "    }\n",
              "\n",
              "    .dataframe tbody tr th {\n",
              "        vertical-align: top;\n",
              "    }\n",
              "\n",
              "    .dataframe thead th {\n",
              "        text-align: right;\n",
              "    }\n",
              "</style>\n",
              "<table border=\"1\" class=\"dataframe\">\n",
              "  <thead>\n",
              "    <tr style=\"text-align: right;\">\n",
              "      <th></th>\n",
              "      <th>0</th>\n",
              "      <th>1</th>\n",
              "    </tr>\n",
              "  </thead>\n",
              "  <tbody>\n",
              "    <tr>\n",
              "      <th>0</th>\n",
              "      <td>626</td>\n",
              "      <td>0</td>\n",
              "    </tr>\n",
              "    <tr>\n",
              "      <th>1</th>\n",
              "      <td>9</td>\n",
              "      <td>115</td>\n",
              "    </tr>\n",
              "  </tbody>\n",
              "</table>\n",
              "</div>"
            ],
            "text/plain": [
              "     0    1\n",
              "0  626    0\n",
              "1    9  115"
            ]
          },
          "metadata": {},
          "output_type": "display_data"
        },
        {
          "data": {
            "image/png": "[encoded data removed]",
            "text/plain": [
              "<Figure size 700x700 with 1 Axes>"
            ]
          },
          "metadata": {},
          "output_type": "display_data"
        }
      ],
      "source": [
        "#ваш код здесь\n",
        "\n",
        "from sklearn.metrics import roc_curve\n",
        "from sklearn.metrics import confusion_matrix\n",
        "\n",
        "display(pd.DataFrame(confusion_matrix(y_test, y_test_pred)))\n",
        "#display(y_test_pred)\n",
        "\n",
        "false_positive_rates, true_positive_rates, threshold = roc_curve(y_test, y_test_pred)\n",
        "\n",
        "\n",
        "# создаём график\n",
        "plt.figure(figsize=(7, 7))\n",
        "\n",
        "# рисуем кривую\n",
        "plt.plot(false_positive_rates, true_positive_rates, \n",
        "         label='Сглаженные значения ROC-AUC')\n",
        "\n",
        "# кривая, соответствующая случайному угадыванию\n",
        "plt.plot([0, 1], [0, 1], color='k', lw=2, linestyle=':', \n",
        "         label='Модель, выдающая случайное значение')\n",
        "\n",
        "plt.title('ROC curve')\n",
        "plt.xlabel('False Positive Rate')\n",
        "plt.ylabel('True Positive Rate')\n",
        "\n",
        "plt.fill_between(false_positive_rates, true_positive_rates, step=\"pre\", \n",
        "                 alpha=0.5, label='Площадь под кривой (ROC-AUC)')\n",
        "plt.legend()\n",
        "plt.show()\n",
        "\n"
      ]
    },
    {
      "cell_type": "code",
      "execution_count": 322,
      "id": "ab3ec7ee",
      "metadata": {},
      "outputs": [
        {
          "name": "stdout",
          "output_type": "stream",
          "text": [
            "ROC-AUC на тестовой выборке: 0.964\n"
          ]
        }
      ],
      "source": [
        "from sklearn.metrics import roc_auc_score\n",
        "roc_auc = roc_auc_score(y_test, y_test_pred).round(3)\n",
        "print(\"ROC-AUC на тестовой выборке:\", roc_auc_score(y_test, y_test_pred).round(3)) \n",
        "\n"
      ]
    },
    {
      "cell_type": "markdown",
      "id": "cf0bb49b",
      "metadata": {
        "id": "cf0bb49b"
      },
      "source": [
        "## Задание 5 (3 балла)"
      ]
    },
    {
      "cell_type": "markdown",
      "id": "30b7a0ae",
      "metadata": {
        "id": "30b7a0ae"
      },
      "source": [
        "Переберите несколько значений alpha с помощью кросс-валидации. Оцените, зависит ли от этого параметра качество классификации."
      ]
    },
    {
      "cell_type": "code",
      "execution_count": 378,
      "id": "3513d907",
      "metadata": {
        "id": "3513d907"
      },
      "outputs": [
        {
          "name": "stdout",
          "output_type": "stream",
          "text": [
            "CPU times: total: 375 ms\n",
            "Wall time: 7.76 s\n",
            "accuracy на train наборе: 0.999\n",
            "accuracy на тестовом наборе: 0.995\n",
            "Наилучшие значения параметров: {'alpha': 0.4}\n"
          ]
        }
      ],
      "source": [
        "#ваш код здесь\n",
        "from sklearn.model_selection import RandomizedSearchCV\n",
        "\n",
        "param_grid = [\n",
        "              {'alpha': list(np.linspace(0.01, 1, 100, dtype=float))}, # уровень альфа\n",
        "              \n",
        "]\n",
        "\n",
        "random_search = RandomizedSearchCV(\n",
        "    estimator=ComplementNB(),\n",
        "    param_distributions=param_grid,\n",
        "    cv=5, \n",
        "    n_iter=10,\n",
        "    n_jobs=-1,\n",
        "    random_state=42\n",
        ")\n",
        "\n",
        "%time random_search.fit(X_train, y_train)\n",
        "y_test_pred = random_search.predict(X_test)\n",
        "\n",
        "print(\"accuracy на train наборе: {:.3f}\".format(random_search.score(X_train, y_train)))\n",
        "print(\"accuracy на тестовом наборе: {:.3f}\".format(metrics.accuracy_score(y_test, y_test_pred)))\n",
        "print(\"Наилучшие значения параметров: {}\".format(random_search.best_params_))\n"
      ]
    },
    {
      "cell_type": "code",
      "execution_count": 375,
      "id": "cd691b35",
      "metadata": {},
      "outputs": [
        {
          "name": "stderr",
          "output_type": "stream",
          "text": [
            "[I 2023-10-10 00:33:41,118] A new study created in memory with name: ComplementNB\n",
            "[I 2023-10-10 00:33:41,140] Trial 0 finished with value: 0.9982198486871384 and parameters: {'alpha': 0.7000000000000001}. Best is trial 0 with value: 0.9982198486871384.\n",
            "[I 2023-10-10 00:33:41,160] Trial 1 finished with value: 0.9982198486871384 and parameters: {'alpha': 0.7000000000000001}. Best is trial 0 with value: 0.9982198486871384.\n",
            "[I 2023-10-10 00:33:41,188] Trial 2 finished with value: 0.9991099243435692 and parameters: {'alpha': 0.2}. Best is trial 2 with value: 0.9991099243435692.\n",
            "[I 2023-10-10 00:33:41,209] Trial 3 finished with value: 0.9991099243435692 and parameters: {'alpha': 0.30000000000000004}. Best is trial 2 with value: 0.9991099243435692.\n",
            "[I 2023-10-10 00:33:41,227] Trial 4 finished with value: 0.9982198486871384 and parameters: {'alpha': 0.7000000000000001}. Best is trial 2 with value: 0.9991099243435692.\n",
            "[I 2023-10-10 00:33:41,247] Trial 5 finished with value: 0.9986648865153538 and parameters: {'alpha': 0.5}. Best is trial 2 with value: 0.9991099243435692.\n",
            "[I 2023-10-10 00:33:41,262] Trial 6 finished with value: 0.9986648865153538 and parameters: {'alpha': 0.6}. Best is trial 2 with value: 0.9991099243435692.\n",
            "[I 2023-10-10 00:33:41,292] Trial 7 finished with value: 0.9986648865153538 and parameters: {'alpha': 0.5}. Best is trial 2 with value: 0.9991099243435692.\n"
          ]
        },
        {
          "name": "stdout",
          "output_type": "stream",
          "text": [
            "Версия Optuna: 3.3.0\n",
            "CPU times: total: 0 ns\n",
            "Wall time: 0 ns\n"
          ]
        },
        {
          "name": "stderr",
          "output_type": "stream",
          "text": [
            "[I 2023-10-10 00:33:41,317] Trial 8 finished with value: 0.9986648865153538 and parameters: {'alpha': 0.4}. Best is trial 2 with value: 0.9991099243435692.\n",
            "[I 2023-10-10 00:33:41,336] Trial 9 finished with value: 0.9991099243435692 and parameters: {'alpha': 0.30000000000000004}. Best is trial 2 with value: 0.9991099243435692.\n",
            "[I 2023-10-10 00:33:41,370] Trial 10 finished with value: 0.9991099243435692 and parameters: {'alpha': 0.1}. Best is trial 2 with value: 0.9991099243435692.\n",
            "[I 2023-10-10 00:33:41,414] Trial 11 finished with value: 0.9991099243435692 and parameters: {'alpha': 0.1}. Best is trial 2 with value: 0.9991099243435692.\n",
            "[I 2023-10-10 00:33:41,449] Trial 12 finished with value: 0.9991099243435692 and parameters: {'alpha': 0.30000000000000004}. Best is trial 2 with value: 0.9991099243435692.\n",
            "[I 2023-10-10 00:33:41,488] Trial 13 finished with value: 0.9973297730307076 and parameters: {'alpha': 1.0}. Best is trial 2 with value: 0.9991099243435692.\n",
            "[I 2023-10-10 00:33:41,540] Trial 14 finished with value: 0.9991099243435692 and parameters: {'alpha': 0.2}. Best is trial 2 with value: 0.9991099243435692.\n",
            "[I 2023-10-10 00:33:41,578] Trial 15 finished with value: 0.9991099243435692 and parameters: {'alpha': 0.30000000000000004}. Best is trial 2 with value: 0.9991099243435692.\n",
            "[I 2023-10-10 00:33:41,620] Trial 16 finished with value: 0.9991099243435692 and parameters: {'alpha': 0.2}. Best is trial 2 with value: 0.9991099243435692.\n",
            "[I 2023-10-10 00:33:41,655] Trial 17 finished with value: 0.9986648865153538 and parameters: {'alpha': 0.4}. Best is trial 2 with value: 0.9991099243435692.\n",
            "[I 2023-10-10 00:33:41,691] Trial 18 finished with value: 0.9973297730307076 and parameters: {'alpha': 0.9}. Best is trial 2 with value: 0.9991099243435692.\n",
            "[I 2023-10-10 00:33:41,763] Trial 19 finished with value: 0.9991099243435692 and parameters: {'alpha': 0.2}. Best is trial 2 with value: 0.9991099243435692.\n"
          ]
        }
      ],
      "source": [
        "import optuna\n",
        "\n",
        "print(\"Версия Optuna: {}\".format(optuna.__version__))\n",
        "\n",
        "\n",
        "def optuna_CNB(trial):\n",
        "  # задаем пространства поиска гиперпараметров\n",
        "  alpha = trial.suggest_float('alpha',  0.1, 1, step=0.1)\n",
        "\n",
        "  # создаем модель\n",
        "  model = ComplementNB(\n",
        "    alpha=alpha\n",
        ")\n",
        "  # обучаем модель\n",
        "  model.fit(X_train, y_train)\n",
        "  score = metrics.accuracy_score(y_train, model.predict(X_train))\n",
        "\n",
        "  return score\n",
        "\n",
        "\n",
        "%time\n",
        "# cоздаем объект исследования\n",
        "# можем напрямую указать, что нам необходимо максимизировать метрику direction=\"maximize\"\n",
        "study_CNB = optuna.create_study(study_name=\"ComplementNB\", direction=\"maximize\")\n",
        "# ищем лучшую комбинацию гиперпараметров n_trials раз\n",
        "study_CNB.optimize(optuna_CNB, n_trials=20)\n"
      ]
    },
    {
      "cell_type": "code",
      "execution_count": 387,
      "id": "03074c26",
      "metadata": {},
      "outputs": [
        {
          "name": "stdout",
          "output_type": "stream",
          "text": [
            "Наилучшие значения гиперпараметров {'alpha': 0.2}\n",
            "accuracyна обучающем наборе: 0.9991\n",
            "accuracy на train наборе: 0.9947\n",
            "accuracy на тестовом наборе: 0.9947\n"
          ]
        }
      ],
      "source": [
        "# выводим результаты на обучающей выборке\n",
        "print(\"Наилучшие значения гиперпараметров {}\".format(study_CNB.best_params))\n",
        "print(\"accuracyна обучающем наборе: {:.4f}\".format(study_CNB.best_value))\n",
        "\n",
        "# рассчитаем точность для тестовой выборки\n",
        "model = ComplementNB(**study_CNB.best_params)\n",
        "model.fit(X_train, y_train)\n",
        "print(\"accuracy на train наборе: {:.4f}\".format(model.score(X_test, y_test)))\n",
        "y_test_pred = model.predict(X_test)\n",
        "print(\"accuracy на тестовом наборе: {:.4f}\".format(metrics.accuracy_score(y_test, y_test_pred)))\n",
        "\n",
        "\n"
      ]
    }
  ],
  "metadata": {
    "colab": {
      "name": "SGA_unit6_NBC.ipynb",
      "provenance": []
    },
    "kernelspec": {
      "display_name": "Python 3 (ipykernel)",
      "language": "python",
      "name": "python3"
    },
    "language_info": {
      "codemirror_mode": {
        "name": "ipython",
        "version": 3
      },
      "file_extension": ".py",
      "mimetype": "text/x-python",
      "name": "python",
      "nbconvert_exporter": "python",
      "pygments_lexer": "ipython3",
      "version": "3.12.0"
    }
  },
  "nbformat": 4,
  "nbformat_minor": 5
}
