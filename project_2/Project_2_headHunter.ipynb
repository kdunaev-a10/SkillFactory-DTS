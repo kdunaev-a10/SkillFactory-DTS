{
 "cells": [
  {
   "cell_type": "code",
   "execution_count": 2,
   "metadata": {},
   "outputs": [
    {
     "ename": "NameError",
     "evalue": "name 'user' is not defined",
     "output_type": "error",
     "traceback": [
      "\u001b[1;31m---------------------------------------------------------------------------\u001b[0m",
      "\u001b[1;31mNameError\u001b[0m                                 Traceback (most recent call last)",
      "\u001b[1;32mc:\\Users\\kot\\OneDrive\\Documents\\GitHub\\SkillFactory-DTS\\project_2\\Project_2_headHunter.ipynb Cell 1\u001b[0m in \u001b[0;36m<cell line: 2>\u001b[1;34m()\u001b[0m\n\u001b[0;32m      <a href='vscode-notebook-cell:/c%3A/Users/kot/OneDrive/Documents/GitHub/SkillFactory-DTS/project_2/Project_2_headHunter.ipynb#W0sZmlsZQ%3D%3D?line=0'>1</a>\u001b[0m \u001b[39mfrom\u001b[39;00m \u001b[39msqlalchemy\u001b[39;00m \u001b[39mimport\u001b[39;00m create_engine\n\u001b[1;32m----> <a href='vscode-notebook-cell:/c%3A/Users/kot/OneDrive/Documents/GitHub/SkillFactory-DTS/project_2/Project_2_headHunter.ipynb#W0sZmlsZQ%3D%3D?line=1'>2</a>\u001b[0m connection \u001b[39m=\u001b[39m create_engine(\u001b[39mf\u001b[39m\u001b[39m'\u001b[39m\u001b[39mpostgresql+psycopg2://\u001b[39m\u001b[39m{\u001b[39;00muser\u001b[39m}\u001b[39;00m\u001b[39m:\u001b[39m\u001b[39m{\u001b[39;00mpassword\u001b[39m}\u001b[39;00m\u001b[39m@\u001b[39m\u001b[39m{\u001b[39;00mhost\u001b[39m}\u001b[39;00m\u001b[39m:\u001b[39m\u001b[39m{\u001b[39;00mport\u001b[39m}\u001b[39;00m\u001b[39m/\u001b[39m\u001b[39m{\u001b[39;00mdbname\u001b[39m}\u001b[39;00m\u001b[39m'\u001b[39m)\n\u001b[0;32m      <a href='vscode-notebook-cell:/c%3A/Users/kot/OneDrive/Documents/GitHub/SkillFactory-DTS/project_2/Project_2_headHunter.ipynb#W0sZmlsZQ%3D%3D?line=2'>3</a>\u001b[0m query \u001b[39m=\u001b[39m \u001b[39mf\u001b[39m\u001b[39m'''\u001b[39m\u001b[39mselect * \u001b[39m\n\u001b[0;32m      <a href='vscode-notebook-cell:/c%3A/Users/kot/OneDrive/Documents/GitHub/SkillFactory-DTS/project_2/Project_2_headHunter.ipynb#W0sZmlsZQ%3D%3D?line=3'>4</a>\u001b[0m \u001b[39m            from sql.pokemon \u001b[39m\n\u001b[0;32m      <a href='vscode-notebook-cell:/c%3A/Users/kot/OneDrive/Documents/GitHub/SkillFactory-DTS/project_2/Project_2_headHunter.ipynb#W0sZmlsZQ%3D%3D?line=4'>5</a>\u001b[0m \u001b[39m         \u001b[39m\u001b[39m'''\u001b[39m\n\u001b[0;32m      <a href='vscode-notebook-cell:/c%3A/Users/kot/OneDrive/Documents/GitHub/SkillFactory-DTS/project_2/Project_2_headHunter.ipynb#W0sZmlsZQ%3D%3D?line=5'>6</a>\u001b[0m df \u001b[39m=\u001b[39m pd\u001b[39m.\u001b[39mread_sql_query(query, connection)\n",
      "\u001b[1;31mNameError\u001b[0m: name 'user' is not defined"
     ]
    }
   ],
   "source": [
    "from sqlalchemy import create_engine\n",
    "connection = create_engine(f'postgresql+psycopg2://{user}:{password}@{host}:{port}/{dbname}')\n",
    "query = f'''select * \n",
    "            from sql.pokemon \n",
    "         '''\n",
    "df = pd.read_sql_query(query, connection)\n"
   ]
  }
 ],
 "metadata": {
  "kernelspec": {
   "display_name": "Python 3.9.10 ('venv': venv)",
   "language": "python",
   "name": "python3"
  },
  "language_info": {
   "codemirror_mode": {
    "name": "ipython",
    "version": 3
   },
   "file_extension": ".py",
   "mimetype": "text/x-python",
   "name": "python",
   "nbconvert_exporter": "python",
   "pygments_lexer": "ipython3",
   "version": "3.9.10"
  },
  "orig_nbformat": 4,
  "vscode": {
   "interpreter": {
    "hash": "2741c0f151fcc1c598163fda889615f6748bf0880bdd6dd6aac269f3c712776d"
   }
  }
 },
 "nbformat": 4,
 "nbformat_minor": 2
}
