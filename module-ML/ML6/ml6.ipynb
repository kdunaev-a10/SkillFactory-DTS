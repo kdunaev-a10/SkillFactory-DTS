{
 "cells": [
  {
   "cell_type": "code",
   "execution_count": 152,
   "metadata": {},
   "outputs": [
    {
     "name": "stderr",
     "output_type": "stream",
     "text": [
      "C:\\Users\\kot\\AppData\\Local\\Temp\\ipykernel_43344\\598800705.py:18: MatplotlibDeprecationWarning: The seaborn styles shipped by Matplotlib are deprecated since 3.6, as they no longer correspond to the styles shipped by seaborn. However, they will remain available as 'seaborn-v0_8-<style>'. Alternatively, directly use the seaborn API instead.\n",
      "  plt.style.use('seaborn') #стиль отрисовки seaborn\n"
     ]
    }
   ],
   "source": [
    "import numpy as np #для матричных вычислений\n",
    "import pandas as pd #для анализа и предобработки данных\n",
    "import matplotlib.pyplot as plt #для визуализации\n",
    "import seaborn as sns #для визуализации\n",
    " \n",
    "from sklearn import metrics #метрики\n",
    "from sklearn import model_selection #методы разделения и валидации\n",
    "from sklearn import linear_model #линейные модели\n",
    "from sklearn import tree #деревья решений\n",
    "from sklearn import ensemble #ансамбли\n",
    "from sklearn.preprocessing import LabelBinarizer\n",
    "from sklearn.preprocessing import OneHotEncoder\n",
    "from sklearn.metrics import mean_absolute_error\n",
    "\n",
    "from sklearn.metrics import r2_score\n",
    "from sklearn.model_selection import train_test_split\n",
    "\n",
    "plt.style.use('seaborn') #стиль отрисовки seaborn\n",
    "%matplotlib inline"
   ]
  },
  {
   "cell_type": "code",
   "execution_count": 2,
   "metadata": {},
   "outputs": [],
   "source": [
    "%%capture\n",
    "!wget https://www.dropbox.com/s/64ol9q9ssggz6f1/data_ford_price.xlsx"
   ]
  },
  {
   "cell_type": "code",
   "execution_count": 12,
   "metadata": {},
   "outputs": [
    {
     "name": "stdout",
     "output_type": "stream",
     "text": [
      "<class 'pandas.core.frame.DataFrame'>\n",
      "RangeIndex: 7017 entries, 0 to 7016\n",
      "Data columns (total 12 columns):\n",
      " #   Column        Non-Null Count  Dtype  \n",
      "---  ------        --------------  -----  \n",
      " 0   price         7017 non-null   int64  \n",
      " 1   year          7017 non-null   int64  \n",
      " 2   condition     7017 non-null   int64  \n",
      " 3   cylinders     7017 non-null   int64  \n",
      " 4   odometer      7017 non-null   int64  \n",
      " 5   title_status  7017 non-null   object \n",
      " 6   transmission  7017 non-null   object \n",
      " 7   drive         6626 non-null   object \n",
      " 8   size          5453 non-null   object \n",
      " 9   lat           7017 non-null   float64\n",
      " 10  long          7017 non-null   float64\n",
      " 11  weather       6837 non-null   float64\n",
      "dtypes: float64(3), int64(5), object(4)\n",
      "memory usage: 658.0+ KB\n"
     ]
    },
    {
     "data": {
      "text/plain": [
       "None"
      ]
     },
     "metadata": {},
     "output_type": "display_data"
    }
   ],
   "source": [
    "data = pd.read_excel('data/data_ford_price.xlsx') \n",
    "display(data.info())"
   ]
  },
  {
   "cell_type": "code",
   "execution_count": 5,
   "metadata": {},
   "outputs": [],
   "source": [
    "y = data['price']\n",
    "X = data.drop(columns='price')"
   ]
  },
  {
   "cell_type": "code",
   "execution_count": 7,
   "metadata": {},
   "outputs": [
    {
     "ename": "ValueError",
     "evalue": "could not convert string to float: 'clean'",
     "output_type": "error",
     "traceback": [
      "\u001b[1;31m---------------------------------------------------------------------------\u001b[0m",
      "\u001b[1;31mValueError\u001b[0m                                Traceback (most recent call last)",
      "\u001b[1;32mc:\\Users\\kot\\OneDrive\\Documents\\GitHub\\SkillFactory-DTS\\module-ML\\ML6\\ml6.ipynb Cell 5\u001b[0m in \u001b[0;36m<cell line: 2>\u001b[1;34m()\u001b[0m\n\u001b[0;32m      <a href='vscode-notebook-cell:/c%3A/Users/kot/OneDrive/Documents/GitHub/SkillFactory-DTS/module-ML/ML6/ml6.ipynb#W4sZmlsZQ%3D%3D?line=0'>1</a>\u001b[0m lr \u001b[39m=\u001b[39m linear_model\u001b[39m.\u001b[39mLinearRegression()\n\u001b[1;32m----> <a href='vscode-notebook-cell:/c%3A/Users/kot/OneDrive/Documents/GitHub/SkillFactory-DTS/module-ML/ML6/ml6.ipynb#W4sZmlsZQ%3D%3D?line=1'>2</a>\u001b[0m lr\u001b[39m.\u001b[39;49mfit(X,y)\n",
      "File \u001b[1;32mc:\\Users\\kot\\OneDrive\\Documents\\GitHub\\SkillFactory-DTS\\venv\\lib\\site-packages\\sklearn\\linear_model\\_base.py:648\u001b[0m, in \u001b[0;36mLinearRegression.fit\u001b[1;34m(self, X, y, sample_weight)\u001b[0m\n\u001b[0;32m    644\u001b[0m n_jobs_ \u001b[39m=\u001b[39m \u001b[39mself\u001b[39m\u001b[39m.\u001b[39mn_jobs\n\u001b[0;32m    646\u001b[0m accept_sparse \u001b[39m=\u001b[39m \u001b[39mFalse\u001b[39;00m \u001b[39mif\u001b[39;00m \u001b[39mself\u001b[39m\u001b[39m.\u001b[39mpositive \u001b[39melse\u001b[39;00m [\u001b[39m\"\u001b[39m\u001b[39mcsr\u001b[39m\u001b[39m\"\u001b[39m, \u001b[39m\"\u001b[39m\u001b[39mcsc\u001b[39m\u001b[39m\"\u001b[39m, \u001b[39m\"\u001b[39m\u001b[39mcoo\u001b[39m\u001b[39m\"\u001b[39m]\n\u001b[1;32m--> 648\u001b[0m X, y \u001b[39m=\u001b[39m \u001b[39mself\u001b[39;49m\u001b[39m.\u001b[39;49m_validate_data(\n\u001b[0;32m    649\u001b[0m     X, y, accept_sparse\u001b[39m=\u001b[39;49maccept_sparse, y_numeric\u001b[39m=\u001b[39;49m\u001b[39mTrue\u001b[39;49;00m, multi_output\u001b[39m=\u001b[39;49m\u001b[39mTrue\u001b[39;49;00m\n\u001b[0;32m    650\u001b[0m )\n\u001b[0;32m    652\u001b[0m sample_weight \u001b[39m=\u001b[39m _check_sample_weight(\n\u001b[0;32m    653\u001b[0m     sample_weight, X, dtype\u001b[39m=\u001b[39mX\u001b[39m.\u001b[39mdtype, only_non_negative\u001b[39m=\u001b[39m\u001b[39mTrue\u001b[39;00m\n\u001b[0;32m    654\u001b[0m )\n\u001b[0;32m    656\u001b[0m X, y, X_offset, y_offset, X_scale \u001b[39m=\u001b[39m _preprocess_data(\n\u001b[0;32m    657\u001b[0m     X,\n\u001b[0;32m    658\u001b[0m     y,\n\u001b[1;32m   (...)\u001b[0m\n\u001b[0;32m    661\u001b[0m     sample_weight\u001b[39m=\u001b[39msample_weight,\n\u001b[0;32m    662\u001b[0m )\n",
      "File \u001b[1;32mc:\\Users\\kot\\OneDrive\\Documents\\GitHub\\SkillFactory-DTS\\venv\\lib\\site-packages\\sklearn\\base.py:565\u001b[0m, in \u001b[0;36mBaseEstimator._validate_data\u001b[1;34m(self, X, y, reset, validate_separately, **check_params)\u001b[0m\n\u001b[0;32m    563\u001b[0m         y \u001b[39m=\u001b[39m check_array(y, input_name\u001b[39m=\u001b[39m\u001b[39m\"\u001b[39m\u001b[39my\u001b[39m\u001b[39m\"\u001b[39m, \u001b[39m*\u001b[39m\u001b[39m*\u001b[39mcheck_y_params)\n\u001b[0;32m    564\u001b[0m     \u001b[39melse\u001b[39;00m:\n\u001b[1;32m--> 565\u001b[0m         X, y \u001b[39m=\u001b[39m check_X_y(X, y, \u001b[39m*\u001b[39m\u001b[39m*\u001b[39mcheck_params)\n\u001b[0;32m    566\u001b[0m     out \u001b[39m=\u001b[39m X, y\n\u001b[0;32m    568\u001b[0m \u001b[39mif\u001b[39;00m \u001b[39mnot\u001b[39;00m no_val_X \u001b[39mand\u001b[39;00m check_params\u001b[39m.\u001b[39mget(\u001b[39m\"\u001b[39m\u001b[39mensure_2d\u001b[39m\u001b[39m\"\u001b[39m, \u001b[39mTrue\u001b[39;00m):\n",
      "File \u001b[1;32mc:\\Users\\kot\\OneDrive\\Documents\\GitHub\\SkillFactory-DTS\\venv\\lib\\site-packages\\sklearn\\utils\\validation.py:1106\u001b[0m, in \u001b[0;36mcheck_X_y\u001b[1;34m(X, y, accept_sparse, accept_large_sparse, dtype, order, copy, force_all_finite, ensure_2d, allow_nd, multi_output, ensure_min_samples, ensure_min_features, y_numeric, estimator)\u001b[0m\n\u001b[0;32m   1101\u001b[0m         estimator_name \u001b[39m=\u001b[39m _check_estimator_name(estimator)\n\u001b[0;32m   1102\u001b[0m     \u001b[39mraise\u001b[39;00m \u001b[39mValueError\u001b[39;00m(\n\u001b[0;32m   1103\u001b[0m         \u001b[39mf\u001b[39m\u001b[39m\"\u001b[39m\u001b[39m{\u001b[39;00mestimator_name\u001b[39m}\u001b[39;00m\u001b[39m requires y to be passed, but the target y is None\u001b[39m\u001b[39m\"\u001b[39m\n\u001b[0;32m   1104\u001b[0m     )\n\u001b[1;32m-> 1106\u001b[0m X \u001b[39m=\u001b[39m check_array(\n\u001b[0;32m   1107\u001b[0m     X,\n\u001b[0;32m   1108\u001b[0m     accept_sparse\u001b[39m=\u001b[39;49maccept_sparse,\n\u001b[0;32m   1109\u001b[0m     accept_large_sparse\u001b[39m=\u001b[39;49maccept_large_sparse,\n\u001b[0;32m   1110\u001b[0m     dtype\u001b[39m=\u001b[39;49mdtype,\n\u001b[0;32m   1111\u001b[0m     order\u001b[39m=\u001b[39;49morder,\n\u001b[0;32m   1112\u001b[0m     copy\u001b[39m=\u001b[39;49mcopy,\n\u001b[0;32m   1113\u001b[0m     force_all_finite\u001b[39m=\u001b[39;49mforce_all_finite,\n\u001b[0;32m   1114\u001b[0m     ensure_2d\u001b[39m=\u001b[39;49mensure_2d,\n\u001b[0;32m   1115\u001b[0m     allow_nd\u001b[39m=\u001b[39;49mallow_nd,\n\u001b[0;32m   1116\u001b[0m     ensure_min_samples\u001b[39m=\u001b[39;49mensure_min_samples,\n\u001b[0;32m   1117\u001b[0m     ensure_min_features\u001b[39m=\u001b[39;49mensure_min_features,\n\u001b[0;32m   1118\u001b[0m     estimator\u001b[39m=\u001b[39;49mestimator,\n\u001b[0;32m   1119\u001b[0m     input_name\u001b[39m=\u001b[39;49m\u001b[39m\"\u001b[39;49m\u001b[39mX\u001b[39;49m\u001b[39m\"\u001b[39;49m,\n\u001b[0;32m   1120\u001b[0m )\n\u001b[0;32m   1122\u001b[0m y \u001b[39m=\u001b[39m _check_y(y, multi_output\u001b[39m=\u001b[39mmulti_output, y_numeric\u001b[39m=\u001b[39my_numeric, estimator\u001b[39m=\u001b[39mestimator)\n\u001b[0;32m   1124\u001b[0m check_consistent_length(X, y)\n",
      "File \u001b[1;32mc:\\Users\\kot\\OneDrive\\Documents\\GitHub\\SkillFactory-DTS\\venv\\lib\\site-packages\\sklearn\\utils\\validation.py:879\u001b[0m, in \u001b[0;36mcheck_array\u001b[1;34m(array, accept_sparse, accept_large_sparse, dtype, order, copy, force_all_finite, ensure_2d, allow_nd, ensure_min_samples, ensure_min_features, estimator, input_name)\u001b[0m\n\u001b[0;32m    877\u001b[0m         array \u001b[39m=\u001b[39m xp\u001b[39m.\u001b[39mastype(array, dtype, copy\u001b[39m=\u001b[39m\u001b[39mFalse\u001b[39;00m)\n\u001b[0;32m    878\u001b[0m     \u001b[39melse\u001b[39;00m:\n\u001b[1;32m--> 879\u001b[0m         array \u001b[39m=\u001b[39m _asarray_with_order(array, order\u001b[39m=\u001b[39;49morder, dtype\u001b[39m=\u001b[39;49mdtype, xp\u001b[39m=\u001b[39;49mxp)\n\u001b[0;32m    880\u001b[0m \u001b[39mexcept\u001b[39;00m ComplexWarning \u001b[39mas\u001b[39;00m complex_warning:\n\u001b[0;32m    881\u001b[0m     \u001b[39mraise\u001b[39;00m \u001b[39mValueError\u001b[39;00m(\n\u001b[0;32m    882\u001b[0m         \u001b[39m\"\u001b[39m\u001b[39mComplex data not supported\u001b[39m\u001b[39m\\n\u001b[39;00m\u001b[39m{}\u001b[39;00m\u001b[39m\\n\u001b[39;00m\u001b[39m\"\u001b[39m\u001b[39m.\u001b[39mformat(array)\n\u001b[0;32m    883\u001b[0m     ) \u001b[39mfrom\u001b[39;00m \u001b[39mcomplex_warning\u001b[39;00m\n",
      "File \u001b[1;32mc:\\Users\\kot\\OneDrive\\Documents\\GitHub\\SkillFactory-DTS\\venv\\lib\\site-packages\\sklearn\\utils\\_array_api.py:185\u001b[0m, in \u001b[0;36m_asarray_with_order\u001b[1;34m(array, dtype, order, copy, xp)\u001b[0m\n\u001b[0;32m    182\u001b[0m     xp, _ \u001b[39m=\u001b[39m get_namespace(array)\n\u001b[0;32m    183\u001b[0m \u001b[39mif\u001b[39;00m xp\u001b[39m.\u001b[39m\u001b[39m__name__\u001b[39m \u001b[39min\u001b[39;00m {\u001b[39m\"\u001b[39m\u001b[39mnumpy\u001b[39m\u001b[39m\"\u001b[39m, \u001b[39m\"\u001b[39m\u001b[39mnumpy.array_api\u001b[39m\u001b[39m\"\u001b[39m}:\n\u001b[0;32m    184\u001b[0m     \u001b[39m# Use NumPy API to support order\u001b[39;00m\n\u001b[1;32m--> 185\u001b[0m     array \u001b[39m=\u001b[39m numpy\u001b[39m.\u001b[39;49masarray(array, order\u001b[39m=\u001b[39;49morder, dtype\u001b[39m=\u001b[39;49mdtype)\n\u001b[0;32m    186\u001b[0m     \u001b[39mreturn\u001b[39;00m xp\u001b[39m.\u001b[39masarray(array, copy\u001b[39m=\u001b[39mcopy)\n\u001b[0;32m    187\u001b[0m \u001b[39melse\u001b[39;00m:\n",
      "File \u001b[1;32mc:\\Users\\kot\\OneDrive\\Documents\\GitHub\\SkillFactory-DTS\\venv\\lib\\site-packages\\pandas\\core\\generic.py:2070\u001b[0m, in \u001b[0;36mNDFrame.__array__\u001b[1;34m(self, dtype)\u001b[0m\n\u001b[0;32m   2069\u001b[0m \u001b[39mdef\u001b[39;00m \u001b[39m__array__\u001b[39m(\u001b[39mself\u001b[39m, dtype: npt\u001b[39m.\u001b[39mDTypeLike \u001b[39m|\u001b[39m \u001b[39mNone\u001b[39;00m \u001b[39m=\u001b[39m \u001b[39mNone\u001b[39;00m) \u001b[39m-\u001b[39m\u001b[39m>\u001b[39m np\u001b[39m.\u001b[39mndarray:\n\u001b[1;32m-> 2070\u001b[0m     \u001b[39mreturn\u001b[39;00m np\u001b[39m.\u001b[39;49masarray(\u001b[39mself\u001b[39;49m\u001b[39m.\u001b[39;49m_values, dtype\u001b[39m=\u001b[39;49mdtype)\n",
      "\u001b[1;31mValueError\u001b[0m: could not convert string to float: 'clean'"
     ]
    }
   ],
   "source": [
    "lr = linear_model.LinearRegression()\n",
    "lr.fit(X,y)\n"
   ]
  },
  {
   "cell_type": "code",
   "execution_count": 11,
   "metadata": {},
   "outputs": [
    {
     "name": "stdout",
     "output_type": "stream",
     "text": [
      "категории: ['BSc' 'MSc' 'PhD' 'начальное' 'нет' 'среднее']\n"
     ]
    },
    {
     "data": {
      "text/plain": [
       "array([[0, 0, 0, 0, 1, 0],\n",
       "       [0, 1, 0, 0, 0, 0],\n",
       "       [0, 0, 0, 0, 0, 1]])"
      ]
     },
     "execution_count": 11,
     "metadata": {},
     "output_type": "execute_result"
    }
   ],
   "source": [
    "\n",
    "lb = LabelBinarizer()\n",
    " \n",
    "education = ['нет', 'начальное', 'среднее', 'BSc', 'MSc', 'начальное', 'PhD']\n",
    " \n",
    "lb.fit(education)\n",
    " \n",
    "print('категории:', lb.classes_)\n",
    " \n",
    "lb.transform(['нет', 'MSc', 'среднее'])"
   ]
  },
  {
   "cell_type": "code",
   "execution_count": 16,
   "metadata": {},
   "outputs": [
    {
     "data": {
      "image/png": "[encoded data removed]",
      "text/plain": [
       "<Figure size 800x550 with 1 Axes>"
      ]
     },
     "metadata": {},
     "output_type": "display_data"
    }
   ],
   "source": [
    "data['cylinders'].hist();\n"
   ]
  },
  {
   "cell_type": "code",
   "execution_count": 15,
   "metadata": {},
   "outputs": [
    {
     "data": {
      "text/plain": [
       "<AxesSubplot: >"
      ]
     },
     "execution_count": 15,
     "metadata": {},
     "output_type": "execute_result"
    },
    {
     "data": {
      "image/png": "[encoded data removed]",
      "text/plain": [
       "<Figure size 800x550 with 1 Axes>"
      ]
     },
     "metadata": {},
     "output_type": "display_data"
    }
   ],
   "source": [
    "data['condition'].hist()"
   ]
  },
  {
   "cell_type": "code",
   "execution_count": 19,
   "metadata": {},
   "outputs": [
    {
     "name": "stdout",
     "output_type": "stream",
     "text": [
      "Число уникальных значений признака cylinders 6: \n",
      "Число уникальных значений признака title_status 5: \n",
      "Число уникальных значений признака transmission 3: \n",
      "Число уникальных значений признака drive 3: \n",
      "Число уникальных значений признака size 4: \n"
     ]
    }
   ],
   "source": [
    "columns_to_change = ['cylinders', 'title_status', 'transmission', 'drive', 'size']\n",
    "for column in columns_to_change:\n",
    "    print('Число уникальных значений признака {} {}: '.format(column, data[column].nunique()))"
   ]
  },
  {
   "cell_type": "markdown",
   "metadata": {},
   "source": [
    "Итак, нам подходит однократное кодирование. Применим его к выбранным столбцам. Так как у нас нет отдельной тестовой выборки, то мы используем только один метод — fit_transform(). В качестве аргумента передаём таблицу с выбранными для преобразования признаками.\n",
    "\n",
    "С помощью метода get_feature_names() получим список новых названий колонок:"
   ]
  },
  {
   "cell_type": "code",
   "execution_count": 23,
   "metadata": {},
   "outputs": [
    {
     "name": "stdout",
     "output_type": "stream",
     "text": [
      "['cylinders_3' 'cylinders_4' 'cylinders_5' 'cylinders_6' 'cylinders_8'\n",
      " 'cylinders_10' 'title_status_clean' 'title_status_lien'\n",
      " 'title_status_missing' 'title_status_rebuilt' 'title_status_salvage'\n",
      " 'transmission_automatic' 'transmission_manual' 'transmission_other'\n",
      " 'drive_4wd' 'drive_fwd' 'drive_rwd' 'drive_nan' 'size_compact'\n",
      " 'size_full-size' 'size_mid-size' 'size_sub-compact' 'size_nan']\n"
     ]
    }
   ],
   "source": [
    "one_hot_encoder = OneHotEncoder()\n",
    "\n",
    "# 'учим' и сразу применяем преобразование к выборке, результат переводим в массив\n",
    "data_onehot = one_hot_encoder.fit_transform(data[columns_to_change]).toarray()\n",
    "\n",
    "# запишем полученные названия новых колонок в отдельную переменную\n",
    "column_names = one_hot_encoder.get_feature_names_out(columns_to_change)\n",
    "print(column_names)"
   ]
  },
  {
   "cell_type": "code",
   "execution_count": 26,
   "metadata": {},
   "outputs": [
    {
     "name": "stdout",
     "output_type": "stream",
     "text": [
      "(7017, 12)\n",
      "(7017, 23)\n"
     ]
    }
   ],
   "source": [
    "print(data.shape)\n",
    "print(data_onehot.shape)"
   ]
  },
  {
   "cell_type": "markdown",
   "metadata": {},
   "source": [
    " Задание 3.7\n",
    "1 point possible (graded)\n",
    "\n",
    "Какая форма (количество строк и столбцов) будет у нашего датасета о стоимости автомобилей после кодировки номинальных признаков однократным методом?"
   ]
  },
  {
   "cell_type": "code",
   "execution_count": 28,
   "metadata": {},
   "outputs": [
    {
     "data": {
      "text/html": [
       "<div>\n",
       "<style scoped>\n",
       "    .dataframe tbody tr th:only-of-type {\n",
       "        vertical-align: middle;\n",
       "    }\n",
       "\n",
       "    .dataframe tbody tr th {\n",
       "        vertical-align: top;\n",
       "    }\n",
       "\n",
       "    .dataframe thead th {\n",
       "        text-align: right;\n",
       "    }\n",
       "</style>\n",
       "<table border=\"1\" class=\"dataframe\">\n",
       "  <thead>\n",
       "    <tr style=\"text-align: right;\">\n",
       "      <th></th>\n",
       "      <th>cylinders_3</th>\n",
       "      <th>cylinders_4</th>\n",
       "      <th>cylinders_5</th>\n",
       "      <th>cylinders_6</th>\n",
       "      <th>cylinders_8</th>\n",
       "      <th>cylinders_10</th>\n",
       "      <th>title_status_clean</th>\n",
       "      <th>title_status_lien</th>\n",
       "      <th>title_status_missing</th>\n",
       "      <th>title_status_rebuilt</th>\n",
       "      <th>...</th>\n",
       "      <th>transmission_other</th>\n",
       "      <th>drive_4wd</th>\n",
       "      <th>drive_fwd</th>\n",
       "      <th>drive_rwd</th>\n",
       "      <th>drive_nan</th>\n",
       "      <th>size_compact</th>\n",
       "      <th>size_full-size</th>\n",
       "      <th>size_mid-size</th>\n",
       "      <th>size_sub-compact</th>\n",
       "      <th>size_nan</th>\n",
       "    </tr>\n",
       "  </thead>\n",
       "  <tbody>\n",
       "    <tr>\n",
       "      <th>0</th>\n",
       "      <td>0.0</td>\n",
       "      <td>0.0</td>\n",
       "      <td>0.0</td>\n",
       "      <td>1.0</td>\n",
       "      <td>0.0</td>\n",
       "      <td>0.0</td>\n",
       "      <td>1.0</td>\n",
       "      <td>0.0</td>\n",
       "      <td>0.0</td>\n",
       "      <td>0.0</td>\n",
       "      <td>...</td>\n",
       "      <td>0.0</td>\n",
       "      <td>1.0</td>\n",
       "      <td>0.0</td>\n",
       "      <td>0.0</td>\n",
       "      <td>0.0</td>\n",
       "      <td>0.0</td>\n",
       "      <td>1.0</td>\n",
       "      <td>0.0</td>\n",
       "      <td>0.0</td>\n",
       "      <td>0.0</td>\n",
       "    </tr>\n",
       "    <tr>\n",
       "      <th>1</th>\n",
       "      <td>0.0</td>\n",
       "      <td>0.0</td>\n",
       "      <td>0.0</td>\n",
       "      <td>0.0</td>\n",
       "      <td>1.0</td>\n",
       "      <td>0.0</td>\n",
       "      <td>1.0</td>\n",
       "      <td>0.0</td>\n",
       "      <td>0.0</td>\n",
       "      <td>0.0</td>\n",
       "      <td>...</td>\n",
       "      <td>0.0</td>\n",
       "      <td>1.0</td>\n",
       "      <td>0.0</td>\n",
       "      <td>0.0</td>\n",
       "      <td>0.0</td>\n",
       "      <td>0.0</td>\n",
       "      <td>1.0</td>\n",
       "      <td>0.0</td>\n",
       "      <td>0.0</td>\n",
       "      <td>0.0</td>\n",
       "    </tr>\n",
       "    <tr>\n",
       "      <th>2</th>\n",
       "      <td>0.0</td>\n",
       "      <td>0.0</td>\n",
       "      <td>0.0</td>\n",
       "      <td>0.0</td>\n",
       "      <td>1.0</td>\n",
       "      <td>0.0</td>\n",
       "      <td>1.0</td>\n",
       "      <td>0.0</td>\n",
       "      <td>0.0</td>\n",
       "      <td>0.0</td>\n",
       "      <td>...</td>\n",
       "      <td>0.0</td>\n",
       "      <td>1.0</td>\n",
       "      <td>0.0</td>\n",
       "      <td>0.0</td>\n",
       "      <td>0.0</td>\n",
       "      <td>0.0</td>\n",
       "      <td>1.0</td>\n",
       "      <td>0.0</td>\n",
       "      <td>0.0</td>\n",
       "      <td>0.0</td>\n",
       "    </tr>\n",
       "    <tr>\n",
       "      <th>3</th>\n",
       "      <td>0.0</td>\n",
       "      <td>0.0</td>\n",
       "      <td>0.0</td>\n",
       "      <td>0.0</td>\n",
       "      <td>1.0</td>\n",
       "      <td>0.0</td>\n",
       "      <td>0.0</td>\n",
       "      <td>0.0</td>\n",
       "      <td>0.0</td>\n",
       "      <td>1.0</td>\n",
       "      <td>...</td>\n",
       "      <td>0.0</td>\n",
       "      <td>1.0</td>\n",
       "      <td>0.0</td>\n",
       "      <td>0.0</td>\n",
       "      <td>0.0</td>\n",
       "      <td>0.0</td>\n",
       "      <td>1.0</td>\n",
       "      <td>0.0</td>\n",
       "      <td>0.0</td>\n",
       "      <td>0.0</td>\n",
       "    </tr>\n",
       "    <tr>\n",
       "      <th>4</th>\n",
       "      <td>0.0</td>\n",
       "      <td>0.0</td>\n",
       "      <td>0.0</td>\n",
       "      <td>0.0</td>\n",
       "      <td>1.0</td>\n",
       "      <td>0.0</td>\n",
       "      <td>1.0</td>\n",
       "      <td>0.0</td>\n",
       "      <td>0.0</td>\n",
       "      <td>0.0</td>\n",
       "      <td>...</td>\n",
       "      <td>0.0</td>\n",
       "      <td>1.0</td>\n",
       "      <td>0.0</td>\n",
       "      <td>0.0</td>\n",
       "      <td>0.0</td>\n",
       "      <td>0.0</td>\n",
       "      <td>0.0</td>\n",
       "      <td>0.0</td>\n",
       "      <td>0.0</td>\n",
       "      <td>1.0</td>\n",
       "    </tr>\n",
       "    <tr>\n",
       "      <th>...</th>\n",
       "      <td>...</td>\n",
       "      <td>...</td>\n",
       "      <td>...</td>\n",
       "      <td>...</td>\n",
       "      <td>...</td>\n",
       "      <td>...</td>\n",
       "      <td>...</td>\n",
       "      <td>...</td>\n",
       "      <td>...</td>\n",
       "      <td>...</td>\n",
       "      <td>...</td>\n",
       "      <td>...</td>\n",
       "      <td>...</td>\n",
       "      <td>...</td>\n",
       "      <td>...</td>\n",
       "      <td>...</td>\n",
       "      <td>...</td>\n",
       "      <td>...</td>\n",
       "      <td>...</td>\n",
       "      <td>...</td>\n",
       "      <td>...</td>\n",
       "    </tr>\n",
       "    <tr>\n",
       "      <th>7012</th>\n",
       "      <td>0.0</td>\n",
       "      <td>0.0</td>\n",
       "      <td>0.0</td>\n",
       "      <td>1.0</td>\n",
       "      <td>0.0</td>\n",
       "      <td>0.0</td>\n",
       "      <td>1.0</td>\n",
       "      <td>0.0</td>\n",
       "      <td>0.0</td>\n",
       "      <td>0.0</td>\n",
       "      <td>...</td>\n",
       "      <td>0.0</td>\n",
       "      <td>0.0</td>\n",
       "      <td>0.0</td>\n",
       "      <td>1.0</td>\n",
       "      <td>0.0</td>\n",
       "      <td>0.0</td>\n",
       "      <td>1.0</td>\n",
       "      <td>0.0</td>\n",
       "      <td>0.0</td>\n",
       "      <td>0.0</td>\n",
       "    </tr>\n",
       "    <tr>\n",
       "      <th>7013</th>\n",
       "      <td>0.0</td>\n",
       "      <td>0.0</td>\n",
       "      <td>0.0</td>\n",
       "      <td>0.0</td>\n",
       "      <td>1.0</td>\n",
       "      <td>0.0</td>\n",
       "      <td>1.0</td>\n",
       "      <td>0.0</td>\n",
       "      <td>0.0</td>\n",
       "      <td>0.0</td>\n",
       "      <td>...</td>\n",
       "      <td>0.0</td>\n",
       "      <td>0.0</td>\n",
       "      <td>0.0</td>\n",
       "      <td>1.0</td>\n",
       "      <td>0.0</td>\n",
       "      <td>0.0</td>\n",
       "      <td>1.0</td>\n",
       "      <td>0.0</td>\n",
       "      <td>0.0</td>\n",
       "      <td>0.0</td>\n",
       "    </tr>\n",
       "    <tr>\n",
       "      <th>7014</th>\n",
       "      <td>0.0</td>\n",
       "      <td>0.0</td>\n",
       "      <td>0.0</td>\n",
       "      <td>0.0</td>\n",
       "      <td>1.0</td>\n",
       "      <td>0.0</td>\n",
       "      <td>1.0</td>\n",
       "      <td>0.0</td>\n",
       "      <td>0.0</td>\n",
       "      <td>0.0</td>\n",
       "      <td>...</td>\n",
       "      <td>0.0</td>\n",
       "      <td>0.0</td>\n",
       "      <td>0.0</td>\n",
       "      <td>0.0</td>\n",
       "      <td>1.0</td>\n",
       "      <td>0.0</td>\n",
       "      <td>1.0</td>\n",
       "      <td>0.0</td>\n",
       "      <td>0.0</td>\n",
       "      <td>0.0</td>\n",
       "    </tr>\n",
       "    <tr>\n",
       "      <th>7015</th>\n",
       "      <td>0.0</td>\n",
       "      <td>0.0</td>\n",
       "      <td>0.0</td>\n",
       "      <td>0.0</td>\n",
       "      <td>1.0</td>\n",
       "      <td>0.0</td>\n",
       "      <td>1.0</td>\n",
       "      <td>0.0</td>\n",
       "      <td>0.0</td>\n",
       "      <td>0.0</td>\n",
       "      <td>...</td>\n",
       "      <td>0.0</td>\n",
       "      <td>1.0</td>\n",
       "      <td>0.0</td>\n",
       "      <td>0.0</td>\n",
       "      <td>0.0</td>\n",
       "      <td>0.0</td>\n",
       "      <td>1.0</td>\n",
       "      <td>0.0</td>\n",
       "      <td>0.0</td>\n",
       "      <td>0.0</td>\n",
       "    </tr>\n",
       "    <tr>\n",
       "      <th>7016</th>\n",
       "      <td>0.0</td>\n",
       "      <td>0.0</td>\n",
       "      <td>0.0</td>\n",
       "      <td>0.0</td>\n",
       "      <td>1.0</td>\n",
       "      <td>0.0</td>\n",
       "      <td>1.0</td>\n",
       "      <td>0.0</td>\n",
       "      <td>0.0</td>\n",
       "      <td>0.0</td>\n",
       "      <td>...</td>\n",
       "      <td>0.0</td>\n",
       "      <td>1.0</td>\n",
       "      <td>0.0</td>\n",
       "      <td>0.0</td>\n",
       "      <td>0.0</td>\n",
       "      <td>0.0</td>\n",
       "      <td>1.0</td>\n",
       "      <td>0.0</td>\n",
       "      <td>0.0</td>\n",
       "      <td>0.0</td>\n",
       "    </tr>\n",
       "  </tbody>\n",
       "</table>\n",
       "<p>7017 rows × 23 columns</p>\n",
       "</div>"
      ],
      "text/plain": [
       "      cylinders_3  cylinders_4  cylinders_5  cylinders_6  cylinders_8  \\\n",
       "0             0.0          0.0          0.0          1.0          0.0   \n",
       "1             0.0          0.0          0.0          0.0          1.0   \n",
       "2             0.0          0.0          0.0          0.0          1.0   \n",
       "3             0.0          0.0          0.0          0.0          1.0   \n",
       "4             0.0          0.0          0.0          0.0          1.0   \n",
       "...           ...          ...          ...          ...          ...   \n",
       "7012          0.0          0.0          0.0          1.0          0.0   \n",
       "7013          0.0          0.0          0.0          0.0          1.0   \n",
       "7014          0.0          0.0          0.0          0.0          1.0   \n",
       "7015          0.0          0.0          0.0          0.0          1.0   \n",
       "7016          0.0          0.0          0.0          0.0          1.0   \n",
       "\n",
       "      cylinders_10  title_status_clean  title_status_lien  \\\n",
       "0              0.0                 1.0                0.0   \n",
       "1              0.0                 1.0                0.0   \n",
       "2              0.0                 1.0                0.0   \n",
       "3              0.0                 0.0                0.0   \n",
       "4              0.0                 1.0                0.0   \n",
       "...            ...                 ...                ...   \n",
       "7012           0.0                 1.0                0.0   \n",
       "7013           0.0                 1.0                0.0   \n",
       "7014           0.0                 1.0                0.0   \n",
       "7015           0.0                 1.0                0.0   \n",
       "7016           0.0                 1.0                0.0   \n",
       "\n",
       "      title_status_missing  title_status_rebuilt  ...  transmission_other  \\\n",
       "0                      0.0                   0.0  ...                 0.0   \n",
       "1                      0.0                   0.0  ...                 0.0   \n",
       "2                      0.0                   0.0  ...                 0.0   \n",
       "3                      0.0                   1.0  ...                 0.0   \n",
       "4                      0.0                   0.0  ...                 0.0   \n",
       "...                    ...                   ...  ...                 ...   \n",
       "7012                   0.0                   0.0  ...                 0.0   \n",
       "7013                   0.0                   0.0  ...                 0.0   \n",
       "7014                   0.0                   0.0  ...                 0.0   \n",
       "7015                   0.0                   0.0  ...                 0.0   \n",
       "7016                   0.0                   0.0  ...                 0.0   \n",
       "\n",
       "      drive_4wd  drive_fwd  drive_rwd  drive_nan  size_compact  \\\n",
       "0           1.0        0.0        0.0        0.0           0.0   \n",
       "1           1.0        0.0        0.0        0.0           0.0   \n",
       "2           1.0        0.0        0.0        0.0           0.0   \n",
       "3           1.0        0.0        0.0        0.0           0.0   \n",
       "4           1.0        0.0        0.0        0.0           0.0   \n",
       "...         ...        ...        ...        ...           ...   \n",
       "7012        0.0        0.0        1.0        0.0           0.0   \n",
       "7013        0.0        0.0        1.0        0.0           0.0   \n",
       "7014        0.0        0.0        0.0        1.0           0.0   \n",
       "7015        1.0        0.0        0.0        0.0           0.0   \n",
       "7016        1.0        0.0        0.0        0.0           0.0   \n",
       "\n",
       "      size_full-size  size_mid-size  size_sub-compact  size_nan  \n",
       "0                1.0            0.0               0.0       0.0  \n",
       "1                1.0            0.0               0.0       0.0  \n",
       "2                1.0            0.0               0.0       0.0  \n",
       "3                1.0            0.0               0.0       0.0  \n",
       "4                0.0            0.0               0.0       1.0  \n",
       "...              ...            ...               ...       ...  \n",
       "7012             1.0            0.0               0.0       0.0  \n",
       "7013             1.0            0.0               0.0       0.0  \n",
       "7014             1.0            0.0               0.0       0.0  \n",
       "7015             1.0            0.0               0.0       0.0  \n",
       "7016             1.0            0.0               0.0       0.0  \n",
       "\n",
       "[7017 rows x 23 columns]"
      ]
     },
     "metadata": {},
     "output_type": "display_data"
    }
   ],
   "source": [
    "data_onehot = pd.DataFrame(data_onehot, index=data.index, columns=column_names)\n",
    "display(data_onehot)"
   ]
  },
  {
   "cell_type": "code",
   "execution_count": 31,
   "metadata": {},
   "outputs": [
    {
     "name": "stdout",
     "output_type": "stream",
     "text": [
      "(7017, 30)\n"
     ]
    }
   ],
   "source": [
    "data_new = pd.concat([data_onehot, data], axis=1)\n",
    "data_new = data_new.drop(columns=columns_to_change)\n",
    "print(data_new.shape)"
   ]
  },
  {
   "cell_type": "markdown",
   "metadata": {},
   "source": [
    "Символ ~ (тильда) означает, что мы выбираем все строки датасета data, где не выполняется условие data['weather'].isna(), то есть где нет пропусков в столбце 'weather'."
   ]
  },
  {
   "cell_type": "code",
   "execution_count": 35,
   "metadata": {},
   "outputs": [
    {
     "data": {
      "text/plain": [
       "False    6837\n",
       "True      180\n",
       "Name: weather, dtype: int64"
      ]
     },
     "metadata": {},
     "output_type": "display_data"
    },
    {
     "data": {
      "text/html": [
       "<div>\n",
       "<style scoped>\n",
       "    .dataframe tbody tr th:only-of-type {\n",
       "        vertical-align: middle;\n",
       "    }\n",
       "\n",
       "    .dataframe tbody tr th {\n",
       "        vertical-align: top;\n",
       "    }\n",
       "\n",
       "    .dataframe thead th {\n",
       "        text-align: right;\n",
       "    }\n",
       "</style>\n",
       "<table border=\"1\" class=\"dataframe\">\n",
       "  <thead>\n",
       "    <tr style=\"text-align: right;\">\n",
       "      <th></th>\n",
       "      <th>price</th>\n",
       "      <th>year</th>\n",
       "      <th>condition</th>\n",
       "      <th>cylinders</th>\n",
       "      <th>odometer</th>\n",
       "      <th>title_status</th>\n",
       "      <th>transmission</th>\n",
       "      <th>drive</th>\n",
       "      <th>size</th>\n",
       "      <th>lat</th>\n",
       "      <th>long</th>\n",
       "      <th>weather</th>\n",
       "    </tr>\n",
       "  </thead>\n",
       "  <tbody>\n",
       "    <tr>\n",
       "      <th>0</th>\n",
       "      <td>43900</td>\n",
       "      <td>2016</td>\n",
       "      <td>4</td>\n",
       "      <td>6</td>\n",
       "      <td>43500</td>\n",
       "      <td>clean</td>\n",
       "      <td>automatic</td>\n",
       "      <td>4wd</td>\n",
       "      <td>full-size</td>\n",
       "      <td>36.471500</td>\n",
       "      <td>-82.483400</td>\n",
       "      <td>59.0</td>\n",
       "    </tr>\n",
       "    <tr>\n",
       "      <th>1</th>\n",
       "      <td>15490</td>\n",
       "      <td>2009</td>\n",
       "      <td>2</td>\n",
       "      <td>8</td>\n",
       "      <td>98131</td>\n",
       "      <td>clean</td>\n",
       "      <td>automatic</td>\n",
       "      <td>4wd</td>\n",
       "      <td>full-size</td>\n",
       "      <td>40.468826</td>\n",
       "      <td>-74.281734</td>\n",
       "      <td>52.0</td>\n",
       "    </tr>\n",
       "    <tr>\n",
       "      <th>2</th>\n",
       "      <td>2495</td>\n",
       "      <td>2002</td>\n",
       "      <td>2</td>\n",
       "      <td>8</td>\n",
       "      <td>201803</td>\n",
       "      <td>clean</td>\n",
       "      <td>automatic</td>\n",
       "      <td>4wd</td>\n",
       "      <td>full-size</td>\n",
       "      <td>42.477134</td>\n",
       "      <td>-82.949564</td>\n",
       "      <td>45.0</td>\n",
       "    </tr>\n",
       "    <tr>\n",
       "      <th>3</th>\n",
       "      <td>1300</td>\n",
       "      <td>2000</td>\n",
       "      <td>1</td>\n",
       "      <td>8</td>\n",
       "      <td>170305</td>\n",
       "      <td>rebuilt</td>\n",
       "      <td>automatic</td>\n",
       "      <td>4wd</td>\n",
       "      <td>full-size</td>\n",
       "      <td>40.764373</td>\n",
       "      <td>-82.349503</td>\n",
       "      <td>49.0</td>\n",
       "    </tr>\n",
       "    <tr>\n",
       "      <th>5</th>\n",
       "      <td>6995</td>\n",
       "      <td>2003</td>\n",
       "      <td>3</td>\n",
       "      <td>8</td>\n",
       "      <td>167662</td>\n",
       "      <td>clean</td>\n",
       "      <td>automatic</td>\n",
       "      <td>4wd</td>\n",
       "      <td>full-size</td>\n",
       "      <td>45.518031</td>\n",
       "      <td>-122.578752</td>\n",
       "      <td>50.0</td>\n",
       "    </tr>\n",
       "    <tr>\n",
       "      <th>...</th>\n",
       "      <td>...</td>\n",
       "      <td>...</td>\n",
       "      <td>...</td>\n",
       "      <td>...</td>\n",
       "      <td>...</td>\n",
       "      <td>...</td>\n",
       "      <td>...</td>\n",
       "      <td>...</td>\n",
       "      <td>...</td>\n",
       "      <td>...</td>\n",
       "      <td>...</td>\n",
       "      <td>...</td>\n",
       "    </tr>\n",
       "    <tr>\n",
       "      <th>7012</th>\n",
       "      <td>22500</td>\n",
       "      <td>2015</td>\n",
       "      <td>3</td>\n",
       "      <td>6</td>\n",
       "      <td>23500</td>\n",
       "      <td>clean</td>\n",
       "      <td>automatic</td>\n",
       "      <td>rwd</td>\n",
       "      <td>full-size</td>\n",
       "      <td>32.680700</td>\n",
       "      <td>-117.169800</td>\n",
       "      <td>59.0</td>\n",
       "    </tr>\n",
       "    <tr>\n",
       "      <th>7013</th>\n",
       "      <td>5975</td>\n",
       "      <td>2005</td>\n",
       "      <td>2</td>\n",
       "      <td>8</td>\n",
       "      <td>0</td>\n",
       "      <td>clean</td>\n",
       "      <td>automatic</td>\n",
       "      <td>rwd</td>\n",
       "      <td>full-size</td>\n",
       "      <td>38.213303</td>\n",
       "      <td>-85.785762</td>\n",
       "      <td>50.0</td>\n",
       "    </tr>\n",
       "    <tr>\n",
       "      <th>7014</th>\n",
       "      <td>9999</td>\n",
       "      <td>2006</td>\n",
       "      <td>3</td>\n",
       "      <td>8</td>\n",
       "      <td>161514</td>\n",
       "      <td>clean</td>\n",
       "      <td>automatic</td>\n",
       "      <td>NaN</td>\n",
       "      <td>full-size</td>\n",
       "      <td>37.609783</td>\n",
       "      <td>-120.995406</td>\n",
       "      <td>59.0</td>\n",
       "    </tr>\n",
       "    <tr>\n",
       "      <th>7015</th>\n",
       "      <td>10900</td>\n",
       "      <td>2011</td>\n",
       "      <td>2</td>\n",
       "      <td>8</td>\n",
       "      <td>164000</td>\n",
       "      <td>clean</td>\n",
       "      <td>automatic</td>\n",
       "      <td>4wd</td>\n",
       "      <td>full-size</td>\n",
       "      <td>43.140600</td>\n",
       "      <td>-93.385000</td>\n",
       "      <td>47.0</td>\n",
       "    </tr>\n",
       "    <tr>\n",
       "      <th>7016</th>\n",
       "      <td>18000</td>\n",
       "      <td>2010</td>\n",
       "      <td>2</td>\n",
       "      <td>8</td>\n",
       "      <td>104000</td>\n",
       "      <td>clean</td>\n",
       "      <td>automatic</td>\n",
       "      <td>4wd</td>\n",
       "      <td>full-size</td>\n",
       "      <td>37.987200</td>\n",
       "      <td>-84.178900</td>\n",
       "      <td>50.0</td>\n",
       "    </tr>\n",
       "  </tbody>\n",
       "</table>\n",
       "<p>6837 rows × 12 columns</p>\n",
       "</div>"
      ],
      "text/plain": [
       "      price  year  condition  cylinders  odometer title_status transmission  \\\n",
       "0     43900  2016          4          6     43500        clean    automatic   \n",
       "1     15490  2009          2          8     98131        clean    automatic   \n",
       "2      2495  2002          2          8    201803        clean    automatic   \n",
       "3      1300  2000          1          8    170305      rebuilt    automatic   \n",
       "5      6995  2003          3          8    167662        clean    automatic   \n",
       "...     ...   ...        ...        ...       ...          ...          ...   \n",
       "7012  22500  2015          3          6     23500        clean    automatic   \n",
       "7013   5975  2005          2          8         0        clean    automatic   \n",
       "7014   9999  2006          3          8    161514        clean    automatic   \n",
       "7015  10900  2011          2          8    164000        clean    automatic   \n",
       "7016  18000  2010          2          8    104000        clean    automatic   \n",
       "\n",
       "     drive       size        lat        long  weather  \n",
       "0      4wd  full-size  36.471500  -82.483400     59.0  \n",
       "1      4wd  full-size  40.468826  -74.281734     52.0  \n",
       "2      4wd  full-size  42.477134  -82.949564     45.0  \n",
       "3      4wd  full-size  40.764373  -82.349503     49.0  \n",
       "5      4wd  full-size  45.518031 -122.578752     50.0  \n",
       "...    ...        ...        ...         ...      ...  \n",
       "7012   rwd  full-size  32.680700 -117.169800     59.0  \n",
       "7013   rwd  full-size  38.213303  -85.785762     50.0  \n",
       "7014   NaN  full-size  37.609783 -120.995406     59.0  \n",
       "7015   4wd  full-size  43.140600  -93.385000     47.0  \n",
       "7016   4wd  full-size  37.987200  -84.178900     50.0  \n",
       "\n",
       "[6837 rows x 12 columns]"
      ]
     },
     "metadata": {},
     "output_type": "display_data"
    }
   ],
   "source": [
    "display(data['weather'].isna().value_counts())\n",
    "\n",
    "display(data[~data['weather'].isna()])"
   ]
  },
  {
   "cell_type": "code",
   "execution_count": 38,
   "metadata": {},
   "outputs": [
    {
     "data": {
      "text/plain": [
       "False    0.777113\n",
       "True     0.222887\n",
       "Name: size, dtype: float64"
      ]
     },
     "metadata": {},
     "output_type": "display_data"
    },
    {
     "data": {
      "text/html": [
       "<div>\n",
       "<style scoped>\n",
       "    .dataframe tbody tr th:only-of-type {\n",
       "        vertical-align: middle;\n",
       "    }\n",
       "\n",
       "    .dataframe tbody tr th {\n",
       "        vertical-align: top;\n",
       "    }\n",
       "\n",
       "    .dataframe thead th {\n",
       "        text-align: right;\n",
       "    }\n",
       "</style>\n",
       "<table border=\"1\" class=\"dataframe\">\n",
       "  <thead>\n",
       "    <tr style=\"text-align: right;\">\n",
       "      <th></th>\n",
       "      <th>price</th>\n",
       "      <th>year</th>\n",
       "      <th>condition</th>\n",
       "      <th>cylinders</th>\n",
       "      <th>odometer</th>\n",
       "      <th>title_status</th>\n",
       "      <th>transmission</th>\n",
       "      <th>drive</th>\n",
       "      <th>size</th>\n",
       "      <th>lat</th>\n",
       "      <th>long</th>\n",
       "      <th>weather</th>\n",
       "    </tr>\n",
       "  </thead>\n",
       "  <tbody>\n",
       "    <tr>\n",
       "      <th>0</th>\n",
       "      <td>43900</td>\n",
       "      <td>2016</td>\n",
       "      <td>4</td>\n",
       "      <td>6</td>\n",
       "      <td>43500</td>\n",
       "      <td>clean</td>\n",
       "      <td>automatic</td>\n",
       "      <td>4wd</td>\n",
       "      <td>full-size</td>\n",
       "      <td>36.471500</td>\n",
       "      <td>-82.483400</td>\n",
       "      <td>59.0</td>\n",
       "    </tr>\n",
       "    <tr>\n",
       "      <th>1</th>\n",
       "      <td>15490</td>\n",
       "      <td>2009</td>\n",
       "      <td>2</td>\n",
       "      <td>8</td>\n",
       "      <td>98131</td>\n",
       "      <td>clean</td>\n",
       "      <td>automatic</td>\n",
       "      <td>4wd</td>\n",
       "      <td>full-size</td>\n",
       "      <td>40.468826</td>\n",
       "      <td>-74.281734</td>\n",
       "      <td>52.0</td>\n",
       "    </tr>\n",
       "    <tr>\n",
       "      <th>2</th>\n",
       "      <td>2495</td>\n",
       "      <td>2002</td>\n",
       "      <td>2</td>\n",
       "      <td>8</td>\n",
       "      <td>201803</td>\n",
       "      <td>clean</td>\n",
       "      <td>automatic</td>\n",
       "      <td>4wd</td>\n",
       "      <td>full-size</td>\n",
       "      <td>42.477134</td>\n",
       "      <td>-82.949564</td>\n",
       "      <td>45.0</td>\n",
       "    </tr>\n",
       "    <tr>\n",
       "      <th>3</th>\n",
       "      <td>1300</td>\n",
       "      <td>2000</td>\n",
       "      <td>1</td>\n",
       "      <td>8</td>\n",
       "      <td>170305</td>\n",
       "      <td>rebuilt</td>\n",
       "      <td>automatic</td>\n",
       "      <td>4wd</td>\n",
       "      <td>full-size</td>\n",
       "      <td>40.764373</td>\n",
       "      <td>-82.349503</td>\n",
       "      <td>49.0</td>\n",
       "    </tr>\n",
       "    <tr>\n",
       "      <th>5</th>\n",
       "      <td>6995</td>\n",
       "      <td>2003</td>\n",
       "      <td>3</td>\n",
       "      <td>8</td>\n",
       "      <td>167662</td>\n",
       "      <td>clean</td>\n",
       "      <td>automatic</td>\n",
       "      <td>4wd</td>\n",
       "      <td>full-size</td>\n",
       "      <td>45.518031</td>\n",
       "      <td>-122.578752</td>\n",
       "      <td>50.0</td>\n",
       "    </tr>\n",
       "    <tr>\n",
       "      <th>...</th>\n",
       "      <td>...</td>\n",
       "      <td>...</td>\n",
       "      <td>...</td>\n",
       "      <td>...</td>\n",
       "      <td>...</td>\n",
       "      <td>...</td>\n",
       "      <td>...</td>\n",
       "      <td>...</td>\n",
       "      <td>...</td>\n",
       "      <td>...</td>\n",
       "      <td>...</td>\n",
       "      <td>...</td>\n",
       "    </tr>\n",
       "    <tr>\n",
       "      <th>7012</th>\n",
       "      <td>22500</td>\n",
       "      <td>2015</td>\n",
       "      <td>3</td>\n",
       "      <td>6</td>\n",
       "      <td>23500</td>\n",
       "      <td>clean</td>\n",
       "      <td>automatic</td>\n",
       "      <td>rwd</td>\n",
       "      <td>full-size</td>\n",
       "      <td>32.680700</td>\n",
       "      <td>-117.169800</td>\n",
       "      <td>59.0</td>\n",
       "    </tr>\n",
       "    <tr>\n",
       "      <th>7013</th>\n",
       "      <td>5975</td>\n",
       "      <td>2005</td>\n",
       "      <td>2</td>\n",
       "      <td>8</td>\n",
       "      <td>0</td>\n",
       "      <td>clean</td>\n",
       "      <td>automatic</td>\n",
       "      <td>rwd</td>\n",
       "      <td>full-size</td>\n",
       "      <td>38.213303</td>\n",
       "      <td>-85.785762</td>\n",
       "      <td>50.0</td>\n",
       "    </tr>\n",
       "    <tr>\n",
       "      <th>7014</th>\n",
       "      <td>9999</td>\n",
       "      <td>2006</td>\n",
       "      <td>3</td>\n",
       "      <td>8</td>\n",
       "      <td>161514</td>\n",
       "      <td>clean</td>\n",
       "      <td>automatic</td>\n",
       "      <td>NaN</td>\n",
       "      <td>full-size</td>\n",
       "      <td>37.609783</td>\n",
       "      <td>-120.995406</td>\n",
       "      <td>59.0</td>\n",
       "    </tr>\n",
       "    <tr>\n",
       "      <th>7015</th>\n",
       "      <td>10900</td>\n",
       "      <td>2011</td>\n",
       "      <td>2</td>\n",
       "      <td>8</td>\n",
       "      <td>164000</td>\n",
       "      <td>clean</td>\n",
       "      <td>automatic</td>\n",
       "      <td>4wd</td>\n",
       "      <td>full-size</td>\n",
       "      <td>43.140600</td>\n",
       "      <td>-93.385000</td>\n",
       "      <td>47.0</td>\n",
       "    </tr>\n",
       "    <tr>\n",
       "      <th>7016</th>\n",
       "      <td>18000</td>\n",
       "      <td>2010</td>\n",
       "      <td>2</td>\n",
       "      <td>8</td>\n",
       "      <td>104000</td>\n",
       "      <td>clean</td>\n",
       "      <td>automatic</td>\n",
       "      <td>4wd</td>\n",
       "      <td>full-size</td>\n",
       "      <td>37.987200</td>\n",
       "      <td>-84.178900</td>\n",
       "      <td>50.0</td>\n",
       "    </tr>\n",
       "  </tbody>\n",
       "</table>\n",
       "<p>5453 rows × 12 columns</p>\n",
       "</div>"
      ],
      "text/plain": [
       "      price  year  condition  cylinders  odometer title_status transmission  \\\n",
       "0     43900  2016          4          6     43500        clean    automatic   \n",
       "1     15490  2009          2          8     98131        clean    automatic   \n",
       "2      2495  2002          2          8    201803        clean    automatic   \n",
       "3      1300  2000          1          8    170305      rebuilt    automatic   \n",
       "5      6995  2003          3          8    167662        clean    automatic   \n",
       "...     ...   ...        ...        ...       ...          ...          ...   \n",
       "7012  22500  2015          3          6     23500        clean    automatic   \n",
       "7013   5975  2005          2          8         0        clean    automatic   \n",
       "7014   9999  2006          3          8    161514        clean    automatic   \n",
       "7015  10900  2011          2          8    164000        clean    automatic   \n",
       "7016  18000  2010          2          8    104000        clean    automatic   \n",
       "\n",
       "     drive       size        lat        long  weather  \n",
       "0      4wd  full-size  36.471500  -82.483400     59.0  \n",
       "1      4wd  full-size  40.468826  -74.281734     52.0  \n",
       "2      4wd  full-size  42.477134  -82.949564     45.0  \n",
       "3      4wd  full-size  40.764373  -82.349503     49.0  \n",
       "5      4wd  full-size  45.518031 -122.578752     50.0  \n",
       "...    ...        ...        ...         ...      ...  \n",
       "7012   rwd  full-size  32.680700 -117.169800     59.0  \n",
       "7013   rwd  full-size  38.213303  -85.785762     50.0  \n",
       "7014   NaN  full-size  37.609783 -120.995406     59.0  \n",
       "7015   4wd  full-size  43.140600  -93.385000     47.0  \n",
       "7016   4wd  full-size  37.987200  -84.178900     50.0  \n",
       "\n",
       "[5453 rows x 12 columns]"
      ]
     },
     "metadata": {},
     "output_type": "display_data"
    },
    {
     "name": "stdout",
     "output_type": "stream",
     "text": [
      "0.78\n"
     ]
    }
   ],
   "source": [
    "display(data['size'].isna().value_counts(normalize=True))\n",
    "\n",
    "display(data[~data['size'].isna()])\n",
    "\n",
    "print(np.round(len(data[~data['size'].isna()])/len(data),2))"
   ]
  },
  {
   "cell_type": "code",
   "execution_count": 51,
   "metadata": {},
   "outputs": [],
   "source": [
    "data = pd.read_excel('data/data_ford_price.xlsx') \n",
    "y = data['price']\n",
    "X = data.drop(columns='price')\n"
   ]
  },
  {
   "cell_type": "code",
   "execution_count": 52,
   "metadata": {},
   "outputs": [],
   "source": [
    "X = X.dropna()\n",
    "y = y.iloc[X.index]"
   ]
  },
  {
   "cell_type": "code",
   "execution_count": 53,
   "metadata": {},
   "outputs": [
    {
     "name": "stdout",
     "output_type": "stream",
     "text": [
      "5202\n",
      "5202\n"
     ]
    }
   ],
   "source": [
    "print(X.shape[0])\n",
    "print(y.shape[0])"
   ]
  },
  {
   "cell_type": "code",
   "execution_count": 54,
   "metadata": {},
   "outputs": [],
   "source": [
    "X_train, X_test, y_train, y_test = train_test_split(X, y, random_state=30, test_size=0.2)\n",
    "columns_to_change = ['cylinders', 'title_status', 'transmission', 'drive', 'size']"
   ]
  },
  {
   "cell_type": "code",
   "execution_count": 58,
   "metadata": {},
   "outputs": [
    {
     "name": "stdout",
     "output_type": "stream",
     "text": [
      "['cylinders_3' 'cylinders_4' 'cylinders_5' 'cylinders_6' 'cylinders_8'\n",
      " 'cylinders_10' 'title_status_clean' 'title_status_lien'\n",
      " 'title_status_missing' 'title_status_rebuilt']\n"
     ]
    }
   ],
   "source": [
    "one_hot_encoder = OneHotEncoder()\n",
    "X_train_onehot = one_hot_encoder.fit_transform(X_train[columns_to_change]).toarray()\n",
    "X_test_onehot = one_hot_encoder.transform(X_test[columns_to_change]).toarray()\n",
    "\n",
    "columns = one_hot_encoder.get_feature_names_out(columns_to_change)\n",
    "print(columns[:10])"
   ]
  },
  {
   "cell_type": "code",
   "execution_count": 59,
   "metadata": {},
   "outputs": [],
   "source": [
    "X_train_onehot_df = pd.DataFrame(X_train_onehot, columns=columns)\n",
    "X_test_onehot_df = pd.DataFrame(X_test_onehot, columns=columns)"
   ]
  },
  {
   "cell_type": "markdown",
   "metadata": {},
   "source": [
    "Таблица X_train содержит рандомные индексы, так как мы разделили выборку на train и test. Если просто соединить X_train и X_train_onehot_df, то получится таблица, полная пропусков по причине несовпадения индексов."
   ]
  },
  {
   "cell_type": "code",
   "execution_count": 72,
   "metadata": {},
   "outputs": [],
   "source": [
    "X_train = X_train.reset_index().drop(['index'], axis=1)\n",
    "X_test = X_test.reset_index().drop(['index'], axis=1)\n",
    "\n",
    "y_train = y_train.reset_index().drop(['index'], axis=1)\n",
    "y_test = y_test.reset_index().drop(['index'], axis=1)\n"
   ]
  },
  {
   "cell_type": "code",
   "execution_count": 73,
   "metadata": {},
   "outputs": [],
   "source": [
    "X_train_new = pd.concat([X_train, X_train_onehot_df], axis=1)\n",
    "X_test_new = pd.concat([X_test, X_test_onehot_df], axis=1)\n",
    "\n",
    "X_train_new = X_train_new.drop(columns=columns_to_change)\n",
    "X_test_new = X_test_new.drop(columns=columns_to_change)"
   ]
  },
  {
   "cell_type": "code",
   "execution_count": 74,
   "metadata": {},
   "outputs": [
    {
     "data": {
      "text/html": [
       "<div>\n",
       "<style scoped>\n",
       "    .dataframe tbody tr th:only-of-type {\n",
       "        vertical-align: middle;\n",
       "    }\n",
       "\n",
       "    .dataframe tbody tr th {\n",
       "        vertical-align: top;\n",
       "    }\n",
       "\n",
       "    .dataframe thead th {\n",
       "        text-align: right;\n",
       "    }\n",
       "</style>\n",
       "<table border=\"1\" class=\"dataframe\">\n",
       "  <thead>\n",
       "    <tr style=\"text-align: right;\">\n",
       "      <th></th>\n",
       "      <th>year</th>\n",
       "      <th>condition</th>\n",
       "      <th>odometer</th>\n",
       "      <th>lat</th>\n",
       "      <th>long</th>\n",
       "      <th>weather</th>\n",
       "      <th>cylinders_3</th>\n",
       "      <th>cylinders_4</th>\n",
       "      <th>cylinders_5</th>\n",
       "      <th>cylinders_6</th>\n",
       "      <th>...</th>\n",
       "      <th>transmission_automatic</th>\n",
       "      <th>transmission_manual</th>\n",
       "      <th>transmission_other</th>\n",
       "      <th>drive_4wd</th>\n",
       "      <th>drive_fwd</th>\n",
       "      <th>drive_rwd</th>\n",
       "      <th>size_compact</th>\n",
       "      <th>size_full-size</th>\n",
       "      <th>size_mid-size</th>\n",
       "      <th>size_sub-compact</th>\n",
       "    </tr>\n",
       "  </thead>\n",
       "  <tbody>\n",
       "  </tbody>\n",
       "</table>\n",
       "<p>0 rows × 27 columns</p>\n",
       "</div>"
      ],
      "text/plain": [
       "Empty DataFrame\n",
       "Columns: [year, condition, odometer, lat, long, weather, cylinders_3, cylinders_4, cylinders_5, cylinders_6, cylinders_8, cylinders_10, title_status_clean, title_status_lien, title_status_missing, title_status_rebuilt, title_status_salvage, transmission_automatic, transmission_manual, transmission_other, drive_4wd, drive_fwd, drive_rwd, size_compact, size_full-size, size_mid-size, size_sub-compact]\n",
       "Index: []\n",
       "\n",
       "[0 rows x 27 columns]"
      ]
     },
     "metadata": {},
     "output_type": "display_data"
    }
   ],
   "source": [
    "display(X_train_new[X_train_new['weather'].isna()])"
   ]
  },
  {
   "cell_type": "code",
   "execution_count": 75,
   "metadata": {},
   "outputs": [],
   "source": [
    "lr_model = linear_model.LinearRegression()\n",
    "\n",
    "lr_model.fit(X_train_new, y_train)\n",
    "\n",
    "y_train_predict = lr_model.predict(X_train_new)\n",
    "y_test_predict = lr_model.predict(X_test_new)"
   ]
  },
  {
   "cell_type": "code",
   "execution_count": 76,
   "metadata": {},
   "outputs": [
    {
     "name": "stdout",
     "output_type": "stream",
     "text": [
      "Teain R^2: 0.647\n",
      "Teain R^2: 0.693\n"
     ]
    }
   ],
   "source": [
    "print(\"Teain R^2: {:.3f}\".format(r2_score(y_train, y_train_predict)))\n",
    "print(\"Teain R^2: {:.3f}\".format(r2_score(y_test, y_test_predict)))"
   ]
  },
  {
   "cell_type": "markdown",
   "metadata": {},
   "source": [
    "# Предобработка: заполнение пропусков"
   ]
  },
  {
   "cell_type": "markdown",
   "metadata": {},
   "source": [
    "function, which code the data"
   ]
  },
  {
   "cell_type": "code",
   "execution_count": 88,
   "metadata": {},
   "outputs": [],
   "source": [
    "def encode_cat_features(columns_to_change, X_train, X_test, y_train):\n",
    "  one_hot_encoder = OneHotEncoder()\n",
    "  X_train_onehot = one_hot_encoder.fit_transform(X_train[columns_to_change]).toarray()\n",
    "  X_test_onehot = one_hot_encoder.transform(X_test[columns_to_change]).toarray()\n",
    "  \n",
    "  columns = one_hot_encoder.get_feature_names_out(columns_to_change)\n",
    "  \n",
    "  X_train_onehot_df = pd.DataFrame(X_train_onehot, columns=columns)\n",
    "  X_test_onehot_df = pd.DataFrame(X_test_onehot, columns=columns)\n",
    "\n",
    "  X_train = X_train.reset_index().drop(['index'], axis = 1)\n",
    "  X_test = X_test.reset_index().drop(['index'], axis = 1)\n",
    "  y_train = y_train.reset_index().drop(['index'], axis = 1)\n",
    "\n",
    "  X_train_new = pd.concat([X_train, X_train_onehot_df], axis=1)\n",
    "  X_test_new = pd.concat([X_test, X_test_onehot_df], axis=1)\n",
    "  \n",
    "  X_train_new = X_train_new.drop(columns=columns_to_change)\n",
    "  X_test_new = X_test_new.drop(columns=columns_to_change)\n",
    "  \n",
    "\n",
    "\n",
    "  return X_train_new, X_test_new"
   ]
  },
  {
   "cell_type": "markdown",
   "metadata": {},
   "source": [
    "→ Теперь давайте попробуем заполнить пропуски константными значениями и обучить модель заново. Плюс такого подхода состоит в том, что мы предотвращаем потерю данных, которая происходит при удалении строк или столбцов. Основной минус — в снижении разброса (разнообразия) признаков."
   ]
  },
  {
   "cell_type": "code",
   "execution_count": 128,
   "metadata": {},
   "outputs": [],
   "source": [
    "data = pd.read_excel('data/data_ford_price.xlsx') \n",
    "\n",
    "y = data['price']\n",
    "x = data.drop(columns='price')\n",
    "\n",
    "X_train, X_test, y_train, y_test = train_test_split(x, y, test_size=0.2, random_state=30)"
   ]
  },
  {
   "cell_type": "code",
   "execution_count": 129,
   "metadata": {},
   "outputs": [],
   "source": [
    "X_train['weather'] = X_train['weather'].fillna(np.round(np.mean(X_train['weather']),0))\n",
    "X_test['weather'] = X_test['weather'].fillna(np.round(np.mean(X_test['weather']),0))"
   ]
  },
  {
   "cell_type": "markdown",
   "metadata": {},
   "source": [
    "Для простоты воспользуемся заполнением наиболее частым значением категориальных признаков. Для этого сначала определим их в наших признаках, использовав комбинацию методов value_counts() и head():"
   ]
  },
  {
   "cell_type": "code",
   "execution_count": 130,
   "metadata": {},
   "outputs": [
    {
     "name": "stdout",
     "output_type": "stream",
     "text": [
      "4wd    0.738406\n",
      "rwd    0.248344\n",
      "fwd    0.013250\n",
      "Name: drive, dtype: float64\n"
     ]
    }
   ],
   "source": [
    "print(X_train['drive'].value_counts(True))"
   ]
  },
  {
   "cell_type": "code",
   "execution_count": 131,
   "metadata": {},
   "outputs": [
    {
     "name": "stdout",
     "output_type": "stream",
     "text": [
      "full-size      0.841164\n",
      "mid-size       0.155627\n",
      "compact        0.002980\n",
      "sub-compact    0.000229\n",
      "Name: size, dtype: float64\n"
     ]
    }
   ],
   "source": [
    "print(X_train['size'].value_counts(True))"
   ]
  },
  {
   "cell_type": "code",
   "execution_count": 132,
   "metadata": {},
   "outputs": [],
   "source": [
    "X_train['drive'] = X_train['drive'].fillna('4wd')\n",
    "X_train['size'] = X_train['size'].fillna('full-size')\n",
    "\n",
    "X_test['drive'] = X_test['drive'].fillna('4wd')\n",
    "X_test['size'] = X_test['size'].fillna('full-size')"
   ]
  },
  {
   "cell_type": "code",
   "execution_count": 133,
   "metadata": {},
   "outputs": [],
   "source": [
    "X_train_new, X_test_new = encode_cat_features(columns_to_change, X_train, X_test, y_train)"
   ]
  },
  {
   "cell_type": "code",
   "execution_count": 134,
   "metadata": {},
   "outputs": [
    {
     "name": "stdout",
     "output_type": "stream",
     "text": [
      "Teain R^2: 0.649\n",
      "Teain R^2: 0.465\n"
     ]
    }
   ],
   "source": [
    "lr_model = linear_model.LinearRegression()\n",
    "\n",
    "lr_model.fit(X_train_new, y_train)\n",
    "\n",
    "y_train_predict = lr_model.predict(X_train_new)\n",
    "y_test_predict = lr_model.predict(X_test_new)\n",
    "\n",
    "print(\"Teain R^2: {:.3f}\".format(r2_score(y_train, y_train_predict)))\n",
    "print(\"Teain R^2: {:.3f}\".format(r2_score(y_test, y_test_predict)))"
   ]
  },
  {
   "cell_type": "markdown",
   "metadata": {},
   "source": [
    "# Предсказание пропусков с помощью ML"
   ]
  },
  {
   "cell_type": "markdown",
   "metadata": {},
   "source": [
    "Приведённые методы обработки отсутствующих значений не учитывают корреляционную связь признака, содержащего пропуски, с остальными. Признаки, не имеющие NaN, можно использовать для прогнозирования пропущенных значений. Строится модель регрессии или классификации в зависимости от характера (категорийного или непрерывного) признака, имеющего пропущенное значение."
   ]
  },
  {
   "cell_type": "code",
   "execution_count": 135,
   "metadata": {},
   "outputs": [
    {
     "data": {
      "text/html": [
       "<div>\n",
       "<style scoped>\n",
       "    .dataframe tbody tr th:only-of-type {\n",
       "        vertical-align: middle;\n",
       "    }\n",
       "\n",
       "    .dataframe tbody tr th {\n",
       "        vertical-align: top;\n",
       "    }\n",
       "\n",
       "    .dataframe thead th {\n",
       "        text-align: right;\n",
       "    }\n",
       "</style>\n",
       "<table border=\"1\" class=\"dataframe\">\n",
       "  <thead>\n",
       "    <tr style=\"text-align: right;\">\n",
       "      <th></th>\n",
       "      <th>year</th>\n",
       "      <th>condition</th>\n",
       "      <th>cylinders</th>\n",
       "      <th>odometer</th>\n",
       "      <th>title_status</th>\n",
       "      <th>transmission</th>\n",
       "      <th>drive</th>\n",
       "      <th>size</th>\n",
       "      <th>lat</th>\n",
       "      <th>long</th>\n",
       "      <th>weather</th>\n",
       "    </tr>\n",
       "  </thead>\n",
       "  <tbody>\n",
       "    <tr>\n",
       "      <th>4</th>\n",
       "      <td>2010</td>\n",
       "      <td>3</td>\n",
       "      <td>8</td>\n",
       "      <td>166062</td>\n",
       "      <td>clean</td>\n",
       "      <td>automatic</td>\n",
       "      <td>4wd</td>\n",
       "      <td>NaN</td>\n",
       "      <td>49.210949</td>\n",
       "      <td>-123.114720</td>\n",
       "      <td>NaN</td>\n",
       "    </tr>\n",
       "    <tr>\n",
       "      <th>18</th>\n",
       "      <td>2015</td>\n",
       "      <td>3</td>\n",
       "      <td>6</td>\n",
       "      <td>73300</td>\n",
       "      <td>clean</td>\n",
       "      <td>automatic</td>\n",
       "      <td>4wd</td>\n",
       "      <td>full-size</td>\n",
       "      <td>49.184885</td>\n",
       "      <td>-122.801111</td>\n",
       "      <td>NaN</td>\n",
       "    </tr>\n",
       "    <tr>\n",
       "      <th>21</th>\n",
       "      <td>2015</td>\n",
       "      <td>3</td>\n",
       "      <td>6</td>\n",
       "      <td>88500</td>\n",
       "      <td>clean</td>\n",
       "      <td>automatic</td>\n",
       "      <td>4wd</td>\n",
       "      <td>full-size</td>\n",
       "      <td>50.039078</td>\n",
       "      <td>-125.271885</td>\n",
       "      <td>NaN</td>\n",
       "    </tr>\n",
       "    <tr>\n",
       "      <th>53</th>\n",
       "      <td>2018</td>\n",
       "      <td>4</td>\n",
       "      <td>8</td>\n",
       "      <td>10500</td>\n",
       "      <td>clean</td>\n",
       "      <td>automatic</td>\n",
       "      <td>4wd</td>\n",
       "      <td>NaN</td>\n",
       "      <td>49.172179</td>\n",
       "      <td>-123.076057</td>\n",
       "      <td>NaN</td>\n",
       "    </tr>\n",
       "    <tr>\n",
       "      <th>116</th>\n",
       "      <td>2015</td>\n",
       "      <td>4</td>\n",
       "      <td>8</td>\n",
       "      <td>26903</td>\n",
       "      <td>clean</td>\n",
       "      <td>automatic</td>\n",
       "      <td>4wd</td>\n",
       "      <td>NaN</td>\n",
       "      <td>50.045346</td>\n",
       "      <td>-125.269028</td>\n",
       "      <td>NaN</td>\n",
       "    </tr>\n",
       "    <tr>\n",
       "      <th>...</th>\n",
       "      <td>...</td>\n",
       "      <td>...</td>\n",
       "      <td>...</td>\n",
       "      <td>...</td>\n",
       "      <td>...</td>\n",
       "      <td>...</td>\n",
       "      <td>...</td>\n",
       "      <td>...</td>\n",
       "      <td>...</td>\n",
       "      <td>...</td>\n",
       "      <td>...</td>\n",
       "    </tr>\n",
       "    <tr>\n",
       "      <th>6865</th>\n",
       "      <td>2014</td>\n",
       "      <td>3</td>\n",
       "      <td>6</td>\n",
       "      <td>86250</td>\n",
       "      <td>clean</td>\n",
       "      <td>automatic</td>\n",
       "      <td>4wd</td>\n",
       "      <td>full-size</td>\n",
       "      <td>49.184885</td>\n",
       "      <td>-122.801111</td>\n",
       "      <td>NaN</td>\n",
       "    </tr>\n",
       "    <tr>\n",
       "      <th>6921</th>\n",
       "      <td>2018</td>\n",
       "      <td>4</td>\n",
       "      <td>6</td>\n",
       "      <td>1073</td>\n",
       "      <td>clean</td>\n",
       "      <td>automatic</td>\n",
       "      <td>4wd</td>\n",
       "      <td>NaN</td>\n",
       "      <td>49.204598</td>\n",
       "      <td>-123.139205</td>\n",
       "      <td>NaN</td>\n",
       "    </tr>\n",
       "    <tr>\n",
       "      <th>6937</th>\n",
       "      <td>2006</td>\n",
       "      <td>3</td>\n",
       "      <td>8</td>\n",
       "      <td>131000</td>\n",
       "      <td>clean</td>\n",
       "      <td>automatic</td>\n",
       "      <td>4wd</td>\n",
       "      <td>NaN</td>\n",
       "      <td>-2.508807</td>\n",
       "      <td>-105.886335</td>\n",
       "      <td>NaN</td>\n",
       "    </tr>\n",
       "    <tr>\n",
       "      <th>6963</th>\n",
       "      <td>2012</td>\n",
       "      <td>4</td>\n",
       "      <td>8</td>\n",
       "      <td>157887</td>\n",
       "      <td>clean</td>\n",
       "      <td>automatic</td>\n",
       "      <td>4wd</td>\n",
       "      <td>full-size</td>\n",
       "      <td>49.737705</td>\n",
       "      <td>-125.000103</td>\n",
       "      <td>NaN</td>\n",
       "    </tr>\n",
       "    <tr>\n",
       "      <th>6973</th>\n",
       "      <td>2016</td>\n",
       "      <td>4</td>\n",
       "      <td>6</td>\n",
       "      <td>67000</td>\n",
       "      <td>clean</td>\n",
       "      <td>automatic</td>\n",
       "      <td>4wd</td>\n",
       "      <td>full-size</td>\n",
       "      <td>49.217779</td>\n",
       "      <td>-122.642126</td>\n",
       "      <td>NaN</td>\n",
       "    </tr>\n",
       "  </tbody>\n",
       "</table>\n",
       "<p>180 rows × 11 columns</p>\n",
       "</div>"
      ],
      "text/plain": [
       "      year  condition  cylinders  odometer title_status transmission drive  \\\n",
       "4     2010          3          8    166062        clean    automatic   4wd   \n",
       "18    2015          3          6     73300        clean    automatic   4wd   \n",
       "21    2015          3          6     88500        clean    automatic   4wd   \n",
       "53    2018          4          8     10500        clean    automatic   4wd   \n",
       "116   2015          4          8     26903        clean    automatic   4wd   \n",
       "...    ...        ...        ...       ...          ...          ...   ...   \n",
       "6865  2014          3          6     86250        clean    automatic   4wd   \n",
       "6921  2018          4          6      1073        clean    automatic   4wd   \n",
       "6937  2006          3          8    131000        clean    automatic   4wd   \n",
       "6963  2012          4          8    157887        clean    automatic   4wd   \n",
       "6973  2016          4          6     67000        clean    automatic   4wd   \n",
       "\n",
       "           size        lat        long  weather  \n",
       "4           NaN  49.210949 -123.114720      NaN  \n",
       "18    full-size  49.184885 -122.801111      NaN  \n",
       "21    full-size  50.039078 -125.271885      NaN  \n",
       "53          NaN  49.172179 -123.076057      NaN  \n",
       "116         NaN  50.045346 -125.269028      NaN  \n",
       "...         ...        ...         ...      ...  \n",
       "6865  full-size  49.184885 -122.801111      NaN  \n",
       "6921        NaN  49.204598 -123.139205      NaN  \n",
       "6937        NaN  -2.508807 -105.886335      NaN  \n",
       "6963  full-size  49.737705 -125.000103      NaN  \n",
       "6973  full-size  49.217779 -122.642126      NaN  \n",
       "\n",
       "[180 rows x 11 columns]"
      ]
     },
     "metadata": {},
     "output_type": "display_data"
    },
    {
     "data": {
      "text/plain": [
       "array([ 40.91435555,  40.7637233 ,  39.74866152,  41.2755305 ,\n",
       "        40.31791932,  41.10796547,  41.15337846,  39.94866488,\n",
       "        41.10796547,  40.7217165 ,  40.18904454,  91.62094167,\n",
       "        41.12549856,  41.33052316,  39.66827354,  40.91435555,\n",
       "        40.77287826,  40.84208674,  41.10796547,  41.02118034,\n",
       "        40.31791932,  41.30309209,  40.77645269,  40.75842615,\n",
       "        40.61605044,  40.79031628,  40.7701239 ,  39.78723017,\n",
       "        41.27231621,  39.77492057,  40.7637233 ,  40.7701239 ,\n",
       "        41.10796547,  39.68313064,  40.12277414,  39.7873657 ,\n",
       "        41.07798631,  41.06812063,  40.7637233 ,  40.90194049,\n",
       "        41.10796547,  70.85737739,  30.44339508,  40.76125291,\n",
       "        39.77492057,  41.12549856,  39.74864816,  40.72219488,\n",
       "        40.97162064,  40.7448585 ,  39.71065847,  39.78779447,\n",
       "        39.77492057,  40.15945849,  41.12549856,  40.7902779 ,\n",
       "        39.65555168,  41.10796547,  40.76125291,  40.15619215,\n",
       "        40.79031628,  41.10796547,  40.7902779 ,  40.72219488,\n",
       "        40.7637233 ,  40.78397466,  40.72219488,  40.82820161,\n",
       "        41.06812063,  41.10796547,  39.52458406,  45.60763742,\n",
       "        40.31791932,  39.78744811,  39.78786444,  40.72219488,\n",
       "        40.31791932,  39.60969403,  40.78397466,  40.18904454,\n",
       "        40.87125735,  40.79031628,  39.9047601 ,  39.77492057,\n",
       "        41.10796547,  39.8626169 ,  41.11087181,  39.68991004,\n",
       "        41.10796547,  40.80997176,  40.72219488,  39.65555168,\n",
       "        36.16180154,  70.85737739,  41.10796547,  40.7448585 ,\n",
       "        40.76978569,  40.77645269,  40.90194049,  39.94866488,\n",
       "        39.68511582,  40.12280065,  40.7701239 ,  41.09538224,\n",
       "        40.72219488,  82.17558365,  40.95065381,  40.72219488,\n",
       "        41.18861809,  41.46847454,  40.74856324,  40.72219488,\n",
       "        40.79252885,  39.68313064,  41.23198903,  40.78397466,\n",
       "        41.09538224,  39.96479283,  40.7701239 ,  40.72219488,\n",
       "        41.09538224,  45.38415775,  40.79031628,  40.51155664,\n",
       "        39.03360193,  40.38809523,  40.76125291,  40.7902779 ,\n",
       "        81.99632124,  39.58885753,  39.68991004,  40.15619215,\n",
       "        40.97801461,  40.6191532 ,  40.9699132 ,  39.85098055,\n",
       "        39.8626169 ,  40.76125291,   0.98734546,  41.10796547,\n",
       "        40.7703828 ,  41.27231621,  39.96043333,  41.12549856,\n",
       "        39.7878622 ,  39.68991004,  40.77287826,  39.8626169 ,\n",
       "        40.74856324,  40.34473029, 108.10354991,  40.15619215,\n",
       "        39.78747467,  41.10941864,  45.54060388,  40.12276743,\n",
       "        38.52890696,  39.74858135,  51.95799897,  39.85098055,\n",
       "        40.70952531,  41.10796547,  41.06812063,  41.10796547,\n",
       "        40.08541523,  40.12280736,  39.68991004,  41.30117068,\n",
       "        41.10796547,  38.4145639 ,  39.68313064,  41.09646831,\n",
       "        40.29179572,  40.72219488,  41.15337846,  40.77775715,\n",
       "        41.11087181, 108.10354991,  40.61605044,  41.03761704])"
      ]
     },
     "metadata": {},
     "output_type": "display_data"
    },
    {
     "data": {
      "text/plain": [
       "(180,)"
      ]
     },
     "metadata": {},
     "output_type": "display_data"
    }
   ],
   "source": [
    "data = x.copy()\n",
    "test_data = data[data['weather'].isnull()]\n",
    "\n",
    "display(test_data)\n",
    "\n",
    "data.dropna(inplace=True)\n",
    "\n",
    "y_train = data['weather']\n",
    "X_train = data.drop(['size','weather','drive'], axis=1)\n",
    "X_test = test_data.drop(['size','weather','drive'], axis=1)\n",
    "\n",
    "categorial_cols = ['cylinders', 'title_status', 'transmission']\n",
    "\n",
    "X_train_new, X_test_new = encode_cat_features(categorial_cols, X_train, X_test, y_train)\n",
    "\n",
    "lr_model = linear_model.LinearRegression()\n",
    "lr_model.fit(X_train_new, y_train)\n",
    "\n",
    "y_test_predict_weather = lr_model.predict(X_test_new)\n",
    "\n",
    "display(y_test_predict_weather)\n",
    "display(y_test_predict_weather.shape)"
   ]
  },
  {
   "cell_type": "markdown",
   "metadata": {},
   "source": [
    "\n",
    "Задание 4.5 (на самопроверку)\n",
    "\n",
    "Вставьте найденную замену на место пропусков в столбце weather. Используйте тот же метод для заполнения пропусков в size. Обратите внимание на то, какой тип модели нужен (классификация или регрессия) в зависимости от типа признака.\n",
    "\n",
    "Попробуйте выполнить задание самостоятельно. При затруднениях вы можете посмотреть решение в ноутбуке в начале юнита.\n"
   ]
  },
  {
   "cell_type": "code",
   "execution_count": 136,
   "metadata": {},
   "outputs": [
    {
     "name": "stdout",
     "output_type": "stream",
     "text": [
      "7017\n"
     ]
    },
    {
     "data": {
      "text/plain": [
       "Int64Index([   4,   18,   21,   53,  116,  162,  180,  191,  260,  261,\n",
       "            ...\n",
       "            6589, 6698, 6719, 6824, 6845, 6865, 6921, 6937, 6963, 6973],\n",
       "           dtype='int64', length=180)"
      ]
     },
     "metadata": {},
     "output_type": "display_data"
    },
    {
     "data": {
      "text/plain": [
       "Int64Index([   4,   18,   21,   53,  116,  162,  180,  191,  260,  261,\n",
       "            ...\n",
       "            6589, 6698, 6719, 6824, 6845, 6865, 6921, 6937, 6963, 6973],\n",
       "           dtype='int64', length=180)"
      ]
     },
     "metadata": {},
     "output_type": "display_data"
    }
   ],
   "source": [
    "print(len(x))\n",
    "display(test_data.index)\n",
    "display(test_data.index[:len(x)])"
   ]
  },
  {
   "cell_type": "code",
   "execution_count": 137,
   "metadata": {},
   "outputs": [
    {
     "name": "stderr",
     "output_type": "stream",
     "text": [
      "C:\\Users\\kot\\AppData\\Local\\Temp\\ipykernel_43344\\1819083306.py:2: SettingWithCopyWarning: \n",
      "A value is trying to be set on a copy of a slice from a DataFrame\n",
      "\n",
      "See the caveats in the documentation: https://pandas.pydata.org/pandas-docs/stable/user_guide/indexing.html#returning-a-view-versus-a-copy\n",
      "  x['weather'].loc[val] = y_test_predict_weather[i]\n"
     ]
    }
   ],
   "source": [
    "for i, val in enumerate(test_data.index):\n",
    "    x['weather'].loc[val] = y_test_predict_weather[i]\n",
    "        "
   ]
  },
  {
   "cell_type": "code",
   "execution_count": 138,
   "metadata": {},
   "outputs": [
    {
     "name": "stdout",
     "output_type": "stream",
     "text": [
      "<class 'pandas.core.frame.DataFrame'>\n",
      "RangeIndex: 7017 entries, 0 to 7016\n",
      "Data columns (total 11 columns):\n",
      " #   Column        Non-Null Count  Dtype  \n",
      "---  ------        --------------  -----  \n",
      " 0   year          7017 non-null   int64  \n",
      " 1   condition     7017 non-null   int64  \n",
      " 2   cylinders     7017 non-null   int64  \n",
      " 3   odometer      7017 non-null   int64  \n",
      " 4   title_status  7017 non-null   object \n",
      " 5   transmission  7017 non-null   object \n",
      " 6   drive         6626 non-null   object \n",
      " 7   size          5453 non-null   object \n",
      " 8   lat           7017 non-null   float64\n",
      " 9   long          7017 non-null   float64\n",
      " 10  weather       7017 non-null   float64\n",
      "dtypes: float64(3), int64(4), object(4)\n",
      "memory usage: 603.1+ KB\n"
     ]
    }
   ],
   "source": [
    "x.info()"
   ]
  },
  {
   "cell_type": "code",
   "execution_count": 139,
   "metadata": {},
   "outputs": [
    {
     "data": {
      "text/plain": [
       "<AxesSubplot: >"
      ]
     },
     "execution_count": 139,
     "metadata": {},
     "output_type": "execute_result"
    },
    {
     "data": {
      "image/png": "[encoded data removed]",
      "text/plain": [
       "<Figure size 800x550 with 1 Axes>"
      ]
     },
     "metadata": {},
     "output_type": "display_data"
    }
   ],
   "source": [
    "x['size'].hist()"
   ]
  },
  {
   "cell_type": "markdown",
   "metadata": {},
   "source": [
    "Данный признак является категориальным. Следовательно, понадобится классификатор для заполения пропусков в нем."
   ]
  },
  {
   "cell_type": "code",
   "execution_count": 140,
   "metadata": {},
   "outputs": [
    {
     "data": {
      "text/html": [
       "<div>\n",
       "<style scoped>\n",
       "    .dataframe tbody tr th:only-of-type {\n",
       "        vertical-align: middle;\n",
       "    }\n",
       "\n",
       "    .dataframe tbody tr th {\n",
       "        vertical-align: top;\n",
       "    }\n",
       "\n",
       "    .dataframe thead th {\n",
       "        text-align: right;\n",
       "    }\n",
       "</style>\n",
       "<table border=\"1\" class=\"dataframe\">\n",
       "  <thead>\n",
       "    <tr style=\"text-align: right;\">\n",
       "      <th></th>\n",
       "      <th>year</th>\n",
       "      <th>condition</th>\n",
       "      <th>cylinders</th>\n",
       "      <th>odometer</th>\n",
       "      <th>title_status</th>\n",
       "      <th>transmission</th>\n",
       "      <th>drive</th>\n",
       "      <th>size</th>\n",
       "      <th>lat</th>\n",
       "      <th>long</th>\n",
       "      <th>weather</th>\n",
       "    </tr>\n",
       "  </thead>\n",
       "  <tbody>\n",
       "    <tr>\n",
       "      <th>4</th>\n",
       "      <td>2010</td>\n",
       "      <td>3</td>\n",
       "      <td>8</td>\n",
       "      <td>166062</td>\n",
       "      <td>clean</td>\n",
       "      <td>automatic</td>\n",
       "      <td>4wd</td>\n",
       "      <td>NaN</td>\n",
       "      <td>49.210949</td>\n",
       "      <td>-123.114720</td>\n",
       "      <td>40.914356</td>\n",
       "    </tr>\n",
       "    <tr>\n",
       "      <th>8</th>\n",
       "      <td>2011</td>\n",
       "      <td>2</td>\n",
       "      <td>6</td>\n",
       "      <td>77000</td>\n",
       "      <td>clean</td>\n",
       "      <td>automatic</td>\n",
       "      <td>rwd</td>\n",
       "      <td>NaN</td>\n",
       "      <td>33.698900</td>\n",
       "      <td>-84.745400</td>\n",
       "      <td>59.000000</td>\n",
       "    </tr>\n",
       "    <tr>\n",
       "      <th>12</th>\n",
       "      <td>2001</td>\n",
       "      <td>1</td>\n",
       "      <td>8</td>\n",
       "      <td>275000</td>\n",
       "      <td>clean</td>\n",
       "      <td>automatic</td>\n",
       "      <td>4wd</td>\n",
       "      <td>NaN</td>\n",
       "      <td>44.549400</td>\n",
       "      <td>-90.611200</td>\n",
       "      <td>45.000000</td>\n",
       "    </tr>\n",
       "    <tr>\n",
       "      <th>25</th>\n",
       "      <td>2016</td>\n",
       "      <td>3</td>\n",
       "      <td>8</td>\n",
       "      <td>25814</td>\n",
       "      <td>clean</td>\n",
       "      <td>automatic</td>\n",
       "      <td>4wd</td>\n",
       "      <td>NaN</td>\n",
       "      <td>43.852883</td>\n",
       "      <td>-88.855927</td>\n",
       "      <td>45.000000</td>\n",
       "    </tr>\n",
       "    <tr>\n",
       "      <th>33</th>\n",
       "      <td>2005</td>\n",
       "      <td>2</td>\n",
       "      <td>8</td>\n",
       "      <td>148000</td>\n",
       "      <td>clean</td>\n",
       "      <td>automatic</td>\n",
       "      <td>4wd</td>\n",
       "      <td>NaN</td>\n",
       "      <td>61.153500</td>\n",
       "      <td>-149.828900</td>\n",
       "      <td>29.000000</td>\n",
       "    </tr>\n",
       "    <tr>\n",
       "      <th>...</th>\n",
       "      <td>...</td>\n",
       "      <td>...</td>\n",
       "      <td>...</td>\n",
       "      <td>...</td>\n",
       "      <td>...</td>\n",
       "      <td>...</td>\n",
       "      <td>...</td>\n",
       "      <td>...</td>\n",
       "      <td>...</td>\n",
       "      <td>...</td>\n",
       "      <td>...</td>\n",
       "    </tr>\n",
       "    <tr>\n",
       "      <th>6983</th>\n",
       "      <td>2004</td>\n",
       "      <td>1</td>\n",
       "      <td>8</td>\n",
       "      <td>179945</td>\n",
       "      <td>clean</td>\n",
       "      <td>automatic</td>\n",
       "      <td>rwd</td>\n",
       "      <td>NaN</td>\n",
       "      <td>40.010899</td>\n",
       "      <td>-74.131575</td>\n",
       "      <td>52.000000</td>\n",
       "    </tr>\n",
       "    <tr>\n",
       "      <th>6987</th>\n",
       "      <td>2014</td>\n",
       "      <td>3</td>\n",
       "      <td>6</td>\n",
       "      <td>91383</td>\n",
       "      <td>clean</td>\n",
       "      <td>automatic</td>\n",
       "      <td>4wd</td>\n",
       "      <td>NaN</td>\n",
       "      <td>43.223605</td>\n",
       "      <td>-76.802231</td>\n",
       "      <td>53.000000</td>\n",
       "    </tr>\n",
       "    <tr>\n",
       "      <th>6991</th>\n",
       "      <td>2010</td>\n",
       "      <td>2</td>\n",
       "      <td>8</td>\n",
       "      <td>101215</td>\n",
       "      <td>clean</td>\n",
       "      <td>automatic</td>\n",
       "      <td>rwd</td>\n",
       "      <td>NaN</td>\n",
       "      <td>43.098946</td>\n",
       "      <td>-76.097853</td>\n",
       "      <td>53.000000</td>\n",
       "    </tr>\n",
       "    <tr>\n",
       "      <th>7007</th>\n",
       "      <td>2014</td>\n",
       "      <td>3</td>\n",
       "      <td>8</td>\n",
       "      <td>40000</td>\n",
       "      <td>clean</td>\n",
       "      <td>automatic</td>\n",
       "      <td>4wd</td>\n",
       "      <td>NaN</td>\n",
       "      <td>36.562900</td>\n",
       "      <td>-82.653200</td>\n",
       "      <td>59.000000</td>\n",
       "    </tr>\n",
       "    <tr>\n",
       "      <th>7011</th>\n",
       "      <td>2016</td>\n",
       "      <td>4</td>\n",
       "      <td>6</td>\n",
       "      <td>66000</td>\n",
       "      <td>clean</td>\n",
       "      <td>automatic</td>\n",
       "      <td>4wd</td>\n",
       "      <td>NaN</td>\n",
       "      <td>37.132840</td>\n",
       "      <td>-95.785580</td>\n",
       "      <td>51.000000</td>\n",
       "    </tr>\n",
       "  </tbody>\n",
       "</table>\n",
       "<p>1564 rows × 11 columns</p>\n",
       "</div>"
      ],
      "text/plain": [
       "      year  condition  cylinders  odometer title_status transmission drive  \\\n",
       "4     2010          3          8    166062        clean    automatic   4wd   \n",
       "8     2011          2          6     77000        clean    automatic   rwd   \n",
       "12    2001          1          8    275000        clean    automatic   4wd   \n",
       "25    2016          3          8     25814        clean    automatic   4wd   \n",
       "33    2005          2          8    148000        clean    automatic   4wd   \n",
       "...    ...        ...        ...       ...          ...          ...   ...   \n",
       "6983  2004          1          8    179945        clean    automatic   rwd   \n",
       "6987  2014          3          6     91383        clean    automatic   4wd   \n",
       "6991  2010          2          8    101215        clean    automatic   rwd   \n",
       "7007  2014          3          8     40000        clean    automatic   4wd   \n",
       "7011  2016          4          6     66000        clean    automatic   4wd   \n",
       "\n",
       "     size        lat        long    weather  \n",
       "4     NaN  49.210949 -123.114720  40.914356  \n",
       "8     NaN  33.698900  -84.745400  59.000000  \n",
       "12    NaN  44.549400  -90.611200  45.000000  \n",
       "25    NaN  43.852883  -88.855927  45.000000  \n",
       "33    NaN  61.153500 -149.828900  29.000000  \n",
       "...   ...        ...         ...        ...  \n",
       "6983  NaN  40.010899  -74.131575  52.000000  \n",
       "6987  NaN  43.223605  -76.802231  53.000000  \n",
       "6991  NaN  43.098946  -76.097853  53.000000  \n",
       "7007  NaN  36.562900  -82.653200  59.000000  \n",
       "7011  NaN  37.132840  -95.785580  51.000000  \n",
       "\n",
       "[1564 rows x 11 columns]"
      ]
     },
     "metadata": {},
     "output_type": "display_data"
    }
   ],
   "source": [
    "data = x.copy()\n",
    "test_data = data[data['size'].isnull()]\n",
    "\n",
    "display(test_data)\n",
    "\n",
    "data.dropna(inplace=True)\n",
    "\n",
    "y_train = data['size']\n",
    "X_train = data.drop(['size','drive'], axis=1)\n",
    "X_test = test_data.drop(['size','drive'], axis=1)\n",
    "\n",
    "X_train_new, X_test_new = encode_cat_features(categorial_cols, X_train, X_test, y_train)\n"
   ]
  },
  {
   "cell_type": "code",
   "execution_count": 142,
   "metadata": {},
   "outputs": [
    {
     "name": "stderr",
     "output_type": "stream",
     "text": [
      "c:\\Users\\kot\\OneDrive\\Documents\\GitHub\\SkillFactory-DTS\\venv\\lib\\site-packages\\sklearn\\linear_model\\_logistic.py:458: ConvergenceWarning: lbfgs failed to converge (status=1):\n",
      "STOP: TOTAL NO. of ITERATIONS REACHED LIMIT.\n",
      "\n",
      "Increase the number of iterations (max_iter) or scale the data as shown in:\n",
      "    https://scikit-learn.org/stable/modules/preprocessing.html\n",
      "Please also refer to the documentation for alternative solver options:\n",
      "    https://scikit-learn.org/stable/modules/linear_model.html#logistic-regression\n",
      "  n_iter_i = _check_optimize_result(\n"
     ]
    },
    {
     "data": {
      "text/plain": [
       "array(['full-size', 'full-size', 'full-size', ..., 'full-size',\n",
       "       'full-size', 'full-size'], dtype=object)"
      ]
     },
     "metadata": {},
     "output_type": "display_data"
    },
    {
     "data": {
      "text/plain": [
       "(1564,)"
      ]
     },
     "metadata": {},
     "output_type": "display_data"
    }
   ],
   "source": [
    "lr_model = linear_model.LogisticRegression()\n",
    "lr_model.fit(X_train_new, y_train)\n",
    "\n",
    "y_test_predict_size = lr_model.predict(X_test_new)\n",
    "\n",
    "display(y_test_predict_size)\n",
    "display(y_test_predict_size.shape)"
   ]
  },
  {
   "cell_type": "code",
   "execution_count": 143,
   "metadata": {},
   "outputs": [
    {
     "name": "stderr",
     "output_type": "stream",
     "text": [
      "C:\\Users\\kot\\AppData\\Local\\Temp\\ipykernel_43344\\1630766309.py:2: SettingWithCopyWarning: \n",
      "A value is trying to be set on a copy of a slice from a DataFrame\n",
      "\n",
      "See the caveats in the documentation: https://pandas.pydata.org/pandas-docs/stable/user_guide/indexing.html#returning-a-view-versus-a-copy\n",
      "  x['size'].loc[val] = y_test_predict_size[i]\n"
     ]
    }
   ],
   "source": [
    "for i, val in enumerate(test_data.index):\n",
    "    x['size'].loc[val] = y_test_predict_size[i]"
   ]
  },
  {
   "cell_type": "code",
   "execution_count": 276,
   "metadata": {},
   "outputs": [
    {
     "data": {
      "text/html": [
       "<div>\n",
       "<style scoped>\n",
       "    .dataframe tbody tr th:only-of-type {\n",
       "        vertical-align: middle;\n",
       "    }\n",
       "\n",
       "    .dataframe tbody tr th {\n",
       "        vertical-align: top;\n",
       "    }\n",
       "\n",
       "    .dataframe thead th {\n",
       "        text-align: right;\n",
       "    }\n",
       "</style>\n",
       "<table border=\"1\" class=\"dataframe\">\n",
       "  <thead>\n",
       "    <tr style=\"text-align: right;\">\n",
       "      <th></th>\n",
       "      <th>year</th>\n",
       "      <th>cylinders</th>\n",
       "      <th>odometer</th>\n",
       "      <th>lat</th>\n",
       "      <th>long</th>\n",
       "      <th>weather</th>\n",
       "    </tr>\n",
       "  </thead>\n",
       "  <tbody>\n",
       "    <tr>\n",
       "      <th>0</th>\n",
       "      <td>2016</td>\n",
       "      <td>6</td>\n",
       "      <td>43500</td>\n",
       "      <td>36.471500</td>\n",
       "      <td>-82.483400</td>\n",
       "      <td>59.0</td>\n",
       "    </tr>\n",
       "    <tr>\n",
       "      <th>1</th>\n",
       "      <td>2009</td>\n",
       "      <td>8</td>\n",
       "      <td>98131</td>\n",
       "      <td>40.468826</td>\n",
       "      <td>-74.281734</td>\n",
       "      <td>52.0</td>\n",
       "    </tr>\n",
       "    <tr>\n",
       "      <th>2</th>\n",
       "      <td>2002</td>\n",
       "      <td>8</td>\n",
       "      <td>201803</td>\n",
       "      <td>42.477134</td>\n",
       "      <td>-82.949564</td>\n",
       "      <td>45.0</td>\n",
       "    </tr>\n",
       "    <tr>\n",
       "      <th>3</th>\n",
       "      <td>2000</td>\n",
       "      <td>8</td>\n",
       "      <td>170305</td>\n",
       "      <td>40.764373</td>\n",
       "      <td>-82.349503</td>\n",
       "      <td>49.0</td>\n",
       "    </tr>\n",
       "    <tr>\n",
       "      <th>5</th>\n",
       "      <td>2003</td>\n",
       "      <td>8</td>\n",
       "      <td>167662</td>\n",
       "      <td>45.518031</td>\n",
       "      <td>-122.578752</td>\n",
       "      <td>50.0</td>\n",
       "    </tr>\n",
       "  </tbody>\n",
       "</table>\n",
       "</div>"
      ],
      "text/plain": [
       "   year  cylinders  odometer        lat        long  weather\n",
       "0  2016          6     43500  36.471500  -82.483400     59.0\n",
       "1  2009          8     98131  40.468826  -74.281734     52.0\n",
       "2  2002          8    201803  42.477134  -82.949564     45.0\n",
       "3  2000          8    170305  40.764373  -82.349503     49.0\n",
       "5  2003          8    167662  45.518031 -122.578752     50.0"
      ]
     },
     "execution_count": 276,
     "metadata": {},
     "output_type": "execute_result"
    }
   ],
   "source": [
    "data = pd.read_excel('data/data_ford_price.xlsx') \n",
    "\n",
    "data = data[['price', 'year', 'cylinders', 'odometer' ,'lat', 'long', 'weather']]\n",
    "data.dropna(inplace = True)\n",
    "\n",
    "y = data['price']\n",
    "x = data.drop(columns='price')\n",
    "\n",
    "x.head()"
   ]
  },
  {
   "cell_type": "code",
   "execution_count": 277,
   "metadata": {},
   "outputs": [
    {
     "name": "stdout",
     "output_type": "stream",
     "text": [
      "MAE: 4682.957\n"
     ]
    }
   ],
   "source": [
    "X_train, X_test, y_train, y_test = train_test_split(x, y, test_size=0.3, random_state=40)\n",
    "\n",
    "model = linear_model.LinearRegression()\n",
    "model.fit(X_train, y_train)\n",
    "y_predicted = model.predict(X_test)\n",
    "\n",
    "mae = mean_absolute_error(y_test, y_predicted)\n",
    "\n",
    "print('MAE: %.3f' % mae)"
   ]
  },
  {
   "cell_type": "markdown",
   "metadata": {},
   "source": [
    "Настало время обработки выбросов.\n",
    "\n",
    "1\n",
    "Первый алгоритм, который мы применим, — Isolation Forest, или iForest. Это алгоритм обнаружения аномалий на основе дерева.\n",
    "\n",
    "Данный метод стремится изолировать аномалии, которые немногочисленны и различаются по пространству признаков.\n",
    "\n",
    "Библиотека scikit-learn предоставляет реализацию Isolation Forest в классе IsolationForest.\n",
    "\n",
    "Одним из основных гиперпараметров модели является contamination («загрязнение»), который используется для оценки количества выбросов в наборе данных. Его значение находится в диапазоне от 0.0 до 0.5 и по умолчанию равно 0.1."
   ]
  },
  {
   "cell_type": "code",
   "execution_count": 292,
   "metadata": {},
   "outputs": [
    {
     "name": "stderr",
     "output_type": "stream",
     "text": [
      "c:\\Users\\kot\\OneDrive\\Documents\\GitHub\\SkillFactory-DTS\\venv\\lib\\site-packages\\sklearn\\base.py:420: UserWarning: X does not have valid feature names, but IsolationForest was fitted with feature names\n",
      "  warnings.warn(\n"
     ]
    },
    {
     "name": "stdout",
     "output_type": "stream",
     "text": [
      "(4306, 6) (4306,)\n",
      "MAE: 4447.823\n"
     ]
    }
   ],
   "source": [
    "from  sklearn.ensemble import IsolationForest\n",
    "\n",
    "X_train, X_test, y_train, y_test = train_test_split(x, y, test_size=0.3, random_state=40)\n",
    "\n",
    "# ищем выбросы в обучающей выборке\n",
    "iso = IsolationForest(contamination=0.1)\n",
    "y_predicted = iso.fit_predict(X_train)\n",
    "\n",
    "# выберем все строки, которые не являются выбросами\n",
    "mask = y_predicted != -1\n",
    "X_train_iso, y_train_iso = X_train[mask], y_train[mask]\n",
    "\n",
    "print(X_train_iso.shape, y_train_iso.shape)\n",
    "\n",
    "model = linear_model.LinearRegression()\n",
    "model.fit(X_train_iso, y_train_iso)\n",
    "y_predicted = model.predict(X_test)\n",
    "\n",
    "mae = mean_absolute_error(y_test, y_predicted)\n",
    "\n",
    "print('MAE: %.3f' % mae)"
   ]
  },
  {
   "cell_type": "markdown",
   "metadata": {},
   "source": [
    "2\n",
    "Следующий метод — Local Outlier Factor, или LOF. Это метод, который пытается использовать идею ближайших соседей для обнаружения выбросов.\n",
    "\n",
    "Каждому примеру присваивается оценка того, насколько он изолирован от его локальных соседей. Примеры, которые наиболее отдалены от соседей, скорее всего, будут являться выбросами.\n",
    "\n",
    "Библиотека scikit-learn обеспечивает реализацию этого подхода в классе LocalOutlierFactor."
   ]
  },
  {
   "cell_type": "code",
   "execution_count": 293,
   "metadata": {},
   "outputs": [
    {
     "name": "stdout",
     "output_type": "stream",
     "text": [
      "(4306, 6) (4306,)\n",
      "MAE: 4447.823\n"
     ]
    }
   ],
   "source": [
    "from sklearn.neighbors import LocalOutlierFactor\n",
    "\n",
    "X_train, X_test, y_train, y_test = train_test_split(x, y, test_size=0.3, random_state=40)\n",
    "\n",
    "\n",
    "lof = LocalOutlierFactor()\n",
    "y_predicted = lof.fit_predict(X_train)\n",
    "\n",
    "X_train_lof, y_train_lof = X_train[mask], y_train[mask]\n",
    "print(X_train_iso.shape, y_train_iso.shape)\n",
    "\n",
    "model = linear_model.LinearRegression()\n",
    "model.fit(X_train_lof, y_train_lof)\n",
    "y_predicted = model.predict(X_test)\n",
    "\n",
    "mae = mean_absolute_error(y_test, y_predicted)\n",
    "\n",
    "print('MAE: %.3f' % mae)\n"
   ]
  },
  {
   "cell_type": "markdown",
   "metadata": {},
   "source": [
    "Напоследок рассмотрим Minimum Covariance Determinant, или MCD.\n",
    "\n",
    "Если входные переменные имеют гауссово распределение, то для обнаружения выбросов можно использовать простые статистические методы.\n",
    "\n",
    "Например, если набор данных имеет две входные переменные и обе они являются гауссовыми, то пространство признаков образует многомерную гауссовскую зависимость, и знание этого распределения можно использовать для определения значений, далёких от распределения.\n",
    "\n",
    "Этот подход можно обобщить, определив гиперсферу (эллипсоид), которая покрывает нормальные данные, а данные, выходящие за пределы этой формы, считаются выбросами. Эффективная реализация этого метода для многомерных данных известна как детерминант минимальной ковариации (MCD)."
   ]
  },
  {
   "cell_type": "code",
   "execution_count": 294,
   "metadata": {},
   "outputs": [
    {
     "name": "stdout",
     "output_type": "stream",
     "text": [
      "(4737, 6) (4737,)\n",
      "MAE: 4391.986\n"
     ]
    }
   ],
   "source": [
    "from sklearn.covariance import EllipticEnvelope\n",
    "\n",
    "X_train, X_test, y_train, y_test = train_test_split(x, y, test_size=0.3, random_state=40)\n",
    "\n",
    "ee = EllipticEnvelope(contamination=0.01)\n",
    "y_predicted = ee.fit_predict(X_train)\n",
    "\n",
    "mask = y_predicted != -1\n",
    "X_train_ee, y_train_ee = X_train[mask], y_train[mask]\n",
    " \n",
    "print(X_train_ee.shape, y_train_ee.shape)\n",
    " \n",
    "model = linear_model.LinearRegression()\n",
    "model.fit(X_train_ee, y_train_ee)\n",
    "y_predicted = model.predict(X_test)\n",
    "\n",
    "mae = mean_absolute_error(y_test, y_predicted)\n",
    "\n",
    "print('MAE: %.3f' % mae)"
   ]
  },
  {
   "cell_type": "markdown",
   "metadata": {},
   "source": [
    "###  5. Масштабирование признаков"
   ]
  },
  {
   "cell_type": "markdown",
   "metadata": {},
   "source": [
    "Давайте посмотрим, как StandardScaler, MinMaxScaler и RobustScaler справятся с нашими данными. Для наглядности будем использовать три столбца."
   ]
  },
  {
   "cell_type": "code",
   "execution_count": 301,
   "metadata": {},
   "outputs": [
    {
     "data": {
      "text/html": [
       "<div>\n",
       "<style scoped>\n",
       "    .dataframe tbody tr th:only-of-type {\n",
       "        vertical-align: middle;\n",
       "    }\n",
       "\n",
       "    .dataframe tbody tr th {\n",
       "        vertical-align: top;\n",
       "    }\n",
       "\n",
       "    .dataframe thead th {\n",
       "        text-align: right;\n",
       "    }\n",
       "</style>\n",
       "<table border=\"1\" class=\"dataframe\">\n",
       "  <thead>\n",
       "    <tr style=\"text-align: right;\">\n",
       "      <th></th>\n",
       "      <th>price</th>\n",
       "      <th>year</th>\n",
       "      <th>weather</th>\n",
       "    </tr>\n",
       "  </thead>\n",
       "  <tbody>\n",
       "    <tr>\n",
       "      <th>0</th>\n",
       "      <td>2.558728</td>\n",
       "      <td>2016</td>\n",
       "      <td>0.862068</td>\n",
       "    </tr>\n",
       "    <tr>\n",
       "      <th>1</th>\n",
       "      <td>0.067373</td>\n",
       "      <td>2009</td>\n",
       "      <td>-0.017965</td>\n",
       "    </tr>\n",
       "    <tr>\n",
       "      <th>2</th>\n",
       "      <td>-1.072197</td>\n",
       "      <td>2002</td>\n",
       "      <td>-0.897998</td>\n",
       "    </tr>\n",
       "    <tr>\n",
       "      <th>3</th>\n",
       "      <td>-1.176990</td>\n",
       "      <td>2000</td>\n",
       "      <td>-0.395122</td>\n",
       "    </tr>\n",
       "    <tr>\n",
       "      <th>5</th>\n",
       "      <td>-0.677579</td>\n",
       "      <td>2003</td>\n",
       "      <td>-0.269403</td>\n",
       "    </tr>\n",
       "    <tr>\n",
       "      <th>...</th>\n",
       "      <td>...</td>\n",
       "      <td>...</td>\n",
       "      <td>...</td>\n",
       "    </tr>\n",
       "    <tr>\n",
       "      <th>7012</th>\n",
       "      <td>0.682100</td>\n",
       "      <td>2015</td>\n",
       "      <td>0.862068</td>\n",
       "    </tr>\n",
       "    <tr>\n",
       "      <th>7013</th>\n",
       "      <td>-0.767025</td>\n",
       "      <td>2005</td>\n",
       "      <td>-0.269403</td>\n",
       "    </tr>\n",
       "    <tr>\n",
       "      <th>7014</th>\n",
       "      <td>-0.414149</td>\n",
       "      <td>2006</td>\n",
       "      <td>0.862068</td>\n",
       "    </tr>\n",
       "    <tr>\n",
       "      <th>7015</th>\n",
       "      <td>-0.335138</td>\n",
       "      <td>2011</td>\n",
       "      <td>-0.646560</td>\n",
       "    </tr>\n",
       "    <tr>\n",
       "      <th>7016</th>\n",
       "      <td>0.287482</td>\n",
       "      <td>2010</td>\n",
       "      <td>-0.269403</td>\n",
       "    </tr>\n",
       "  </tbody>\n",
       "</table>\n",
       "<p>6837 rows × 3 columns</p>\n",
       "</div>"
      ],
      "text/plain": [
       "         price  year   weather\n",
       "0     2.558728  2016  0.862068\n",
       "1     0.067373  2009 -0.017965\n",
       "2    -1.072197  2002 -0.897998\n",
       "3    -1.176990  2000 -0.395122\n",
       "5    -0.677579  2003 -0.269403\n",
       "...        ...   ...       ...\n",
       "7012  0.682100  2015  0.862068\n",
       "7013 -0.767025  2005 -0.269403\n",
       "7014 -0.414149  2006  0.862068\n",
       "7015 -0.335138  2011 -0.646560\n",
       "7016  0.287482  2010 -0.269403\n",
       "\n",
       "[6837 rows x 3 columns]"
      ]
     },
     "metadata": {},
     "output_type": "display_data"
    }
   ],
   "source": [
    "from sklearn.preprocessing import StandardScaler\n",
    "\n",
    "data = pd.read_excel('data/data_ford_price.xlsx') \n",
    "\n",
    "data = data[['price', 'year', 'weather']]\n",
    "data.dropna(inplace = True)\n",
    "\n",
    "data_scaled = data.copy()\n",
    "col_names = ['price', 'weather']\n",
    "x = data_scaled[col_names]\n",
    "\n",
    "scaler = StandardScaler()\n",
    "data_scaled[col_names] = scaler.fit_transform(x.values)\n",
    "\n",
    "display(data_scaled)\n",
    "\n"
   ]
  },
  {
   "cell_type": "code",
   "execution_count": 304,
   "metadata": {},
   "outputs": [
    {
     "name": "stdout",
     "output_type": "stream",
     "text": [
      "MAE: 3.041\n"
     ]
    }
   ],
   "source": [
    "y = data_scaled['year']\n",
    "x = data_scaled.drop(columns='year')\n",
    "\n",
    "X_train, X_test, y_train, y_test = train_test_split(x, y, test_size=0.3, random_state=40)\n",
    "\n",
    "model = linear_model.LinearRegression()\n",
    "model.fit(X_train, y_train)\n",
    "y_predicted = model.predict(X_test)\n",
    " \n",
    "mae = mean_absolute_error(y_test, y_predicted)\n",
    "print('MAE: %.3f' % mae)"
   ]
  },
  {
   "cell_type": "markdown",
   "metadata": {},
   "source": [
    " Задание 5.2\n",
    "1 point possible (graded)\n",
    "Отмасштабируйте признак price с помощью RobustScaler.\n",
    "\n",
    "В качестве ответа запишите результат выполнения кода data['price'][1]. Ответ округлите до двух знаков после точки-разделителя."
   ]
  },
  {
   "cell_type": "code",
   "execution_count": 307,
   "metadata": {},
   "outputs": [
    {
     "data": {
      "text/plain": [
       "0.1894603976017671"
      ]
     },
     "metadata": {},
     "output_type": "display_data"
    }
   ],
   "source": [
    "from sklearn.preprocessing import RobustScaler\n",
    "\n",
    "scaler = RobustScaler()\n",
    "data_scaled['price'] = scaler.fit_transform(x.values)\n",
    "\n",
    "display(data_scaled['price'][1])"
   ]
  },
  {
   "cell_type": "markdown",
   "metadata": {},
   "source": [
    "### 6. Трансформации распределений признаков"
   ]
  },
  {
   "cell_type": "code",
   "execution_count": 321,
   "metadata": {},
   "outputs": [
    {
     "data": {
      "image/png": "[encoded data removed]",
      "text/plain": [
       "<Figure size 800x550 with 1 Axes>"
      ]
     },
     "metadata": {},
     "output_type": "display_data"
    }
   ],
   "source": [
    "data = pd.read_excel('data/data_ford_price.xlsx') \n",
    "\n",
    "plt.hist(data.year)\n",
    "plt.title('Распределение признака year');"
   ]
  },
  {
   "cell_type": "code",
   "execution_count": 322,
   "metadata": {},
   "outputs": [
    {
     "data": {
      "text/html": [
       "<div>\n",
       "<style scoped>\n",
       "    .dataframe tbody tr th:only-of-type {\n",
       "        vertical-align: middle;\n",
       "    }\n",
       "\n",
       "    .dataframe tbody tr th {\n",
       "        vertical-align: top;\n",
       "    }\n",
       "\n",
       "    .dataframe thead th {\n",
       "        text-align: right;\n",
       "    }\n",
       "</style>\n",
       "<table border=\"1\" class=\"dataframe\">\n",
       "  <thead>\n",
       "    <tr style=\"text-align: right;\">\n",
       "      <th></th>\n",
       "      <th>year</th>\n",
       "    </tr>\n",
       "  </thead>\n",
       "  <tbody>\n",
       "    <tr>\n",
       "      <th>0</th>\n",
       "      <td>2016</td>\n",
       "    </tr>\n",
       "    <tr>\n",
       "      <th>1</th>\n",
       "      <td>2009</td>\n",
       "    </tr>\n",
       "    <tr>\n",
       "      <th>2</th>\n",
       "      <td>2002</td>\n",
       "    </tr>\n",
       "    <tr>\n",
       "      <th>3</th>\n",
       "      <td>2000</td>\n",
       "    </tr>\n",
       "    <tr>\n",
       "      <th>4</th>\n",
       "      <td>2010</td>\n",
       "    </tr>\n",
       "    <tr>\n",
       "      <th>...</th>\n",
       "      <td>...</td>\n",
       "    </tr>\n",
       "    <tr>\n",
       "      <th>7012</th>\n",
       "      <td>2015</td>\n",
       "    </tr>\n",
       "    <tr>\n",
       "      <th>7013</th>\n",
       "      <td>2005</td>\n",
       "    </tr>\n",
       "    <tr>\n",
       "      <th>7014</th>\n",
       "      <td>2006</td>\n",
       "    </tr>\n",
       "    <tr>\n",
       "      <th>7015</th>\n",
       "      <td>2011</td>\n",
       "    </tr>\n",
       "    <tr>\n",
       "      <th>7016</th>\n",
       "      <td>2010</td>\n",
       "    </tr>\n",
       "  </tbody>\n",
       "</table>\n",
       "<p>7017 rows × 1 columns</p>\n",
       "</div>"
      ],
      "text/plain": [
       "      year\n",
       "0     2016\n",
       "1     2009\n",
       "2     2002\n",
       "3     2000\n",
       "4     2010\n",
       "...    ...\n",
       "7012  2015\n",
       "7013  2005\n",
       "7014  2006\n",
       "7015  2011\n",
       "7016  2010\n",
       "\n",
       "[7017 rows x 1 columns]"
      ]
     },
     "metadata": {},
     "output_type": "display_data"
    },
    {
     "data": {
      "image/png": "[encoded data removed]",
      "text/plain": [
       "<Figure size 800x550 with 1 Axes>"
      ]
     },
     "metadata": {},
     "output_type": "display_data"
    }
   ],
   "source": [
    "from sklearn.preprocessing import QuantileTransformer\n",
    "# Данный трансформер принимает на вход 2D-массив, поэтому нам надо изменить формат данных (поскольку мы подаём на вход только один столбец)\n",
    "\n",
    "#data_for_transform = data['year'].values.reshape((len(data), 1))\n",
    "data_for_transform = data[['year']]\n",
    "display(data_for_transform)\n",
    "\n",
    "quantile = QuantileTransformer(output_distribution='normal')\n",
    "data_transformed = quantile.fit_transform(data_for_transform)\n",
    "\n",
    "\n",
    "plt.hist(data_transformed, bins=25)\n",
    "plt.title('Распределение признака year');"
   ]
  },
  {
   "cell_type": "markdown",
   "metadata": {},
   "source": [
    " Задание 6.1\n",
    "1 point possible (graded)\n",
    "Преобразуйте распределение признаков condition и cylinders в равномерное. Какое значение признака condition получится у нулевого объекта? Ответ округлите до второго знака после точки-разделителя."
   ]
  },
  {
   "cell_type": "code",
   "execution_count": 328,
   "metadata": {},
   "outputs": [
    {
     "data": {
      "text/plain": [
       "0.9639639639639639"
      ]
     },
     "metadata": {},
     "output_type": "display_data"
    },
    {
     "data": {
      "image/png": "[encoded data removed]",
      "text/plain": [
       "<Figure size 800x550 with 1 Axes>"
      ]
     },
     "metadata": {},
     "output_type": "display_data"
    }
   ],
   "source": [
    "\n",
    "data_for_transform = data[['condition', 'cylinders']]\n",
    "\n",
    "quantile = QuantileTransformer(output_distribution='uniform')\n",
    "data_transformed = quantile.fit_transform(data_for_transform)\n",
    "\n",
    "display(data_transformed[0][0],)\n",
    "\n",
    "plt.hist(data_transformed, bins=25)\n",
    "plt.title('Распределение признака year');"
   ]
  },
  {
   "cell_type": "code",
   "execution_count": 329,
   "metadata": {},
   "outputs": [
    {
     "data": {
      "image/png": "[encoded data removed]",
      "text/plain": [
       "<Figure size 800x550 with 1 Axes>"
      ]
     },
     "metadata": {},
     "output_type": "display_data"
    }
   ],
   "source": [
    "plt.hist(data.price)\n",
    "plt.title('Распределение признака price');"
   ]
  },
  {
   "cell_type": "code",
   "execution_count": 330,
   "metadata": {},
   "outputs": [
    {
     "data": {
      "image/png": "[encoded data removed]",
      "text/plain": [
       "<Figure size 800x550 with 1 Axes>"
      ]
     },
     "metadata": {},
     "output_type": "display_data"
    }
   ],
   "source": [
    "log_price = np.log(data['price'])\n",
    "plt.hist(log_price)\n",
    "plt.title('Распределение признака log price');"
   ]
  },
  {
   "cell_type": "code",
   "execution_count": 335,
   "metadata": {},
   "outputs": [
    {
     "data": {
      "text/html": [
       "<div>\n",
       "<style scoped>\n",
       "    .dataframe tbody tr th:only-of-type {\n",
       "        vertical-align: middle;\n",
       "    }\n",
       "\n",
       "    .dataframe tbody tr th {\n",
       "        vertical-align: top;\n",
       "    }\n",
       "\n",
       "    .dataframe thead th {\n",
       "        text-align: right;\n",
       "    }\n",
       "</style>\n",
       "<table border=\"1\" class=\"dataframe\">\n",
       "  <thead>\n",
       "    <tr style=\"text-align: right;\">\n",
       "      <th></th>\n",
       "      <th>price</th>\n",
       "      <th>transformed_price</th>\n",
       "    </tr>\n",
       "  </thead>\n",
       "  <tbody>\n",
       "    <tr>\n",
       "      <th>0</th>\n",
       "      <td>43900</td>\n",
       "      <td>10.689670</td>\n",
       "    </tr>\n",
       "    <tr>\n",
       "      <th>1</th>\n",
       "      <td>15490</td>\n",
       "      <td>9.647950</td>\n",
       "    </tr>\n",
       "    <tr>\n",
       "      <th>2</th>\n",
       "      <td>2495</td>\n",
       "      <td>7.822044</td>\n",
       "    </tr>\n",
       "    <tr>\n",
       "      <th>3</th>\n",
       "      <td>1300</td>\n",
       "      <td>7.170120</td>\n",
       "    </tr>\n",
       "    <tr>\n",
       "      <th>4</th>\n",
       "      <td>13865</td>\n",
       "      <td>9.537123</td>\n",
       "    </tr>\n",
       "    <tr>\n",
       "      <th>...</th>\n",
       "      <td>...</td>\n",
       "      <td>...</td>\n",
       "    </tr>\n",
       "    <tr>\n",
       "      <th>7012</th>\n",
       "      <td>22500</td>\n",
       "      <td>10.021271</td>\n",
       "    </tr>\n",
       "    <tr>\n",
       "      <th>7013</th>\n",
       "      <td>5975</td>\n",
       "      <td>8.695339</td>\n",
       "    </tr>\n",
       "    <tr>\n",
       "      <th>7014</th>\n",
       "      <td>9999</td>\n",
       "      <td>9.210240</td>\n",
       "    </tr>\n",
       "    <tr>\n",
       "      <th>7015</th>\n",
       "      <td>10900</td>\n",
       "      <td>9.296518</td>\n",
       "    </tr>\n",
       "    <tr>\n",
       "      <th>7016</th>\n",
       "      <td>18000</td>\n",
       "      <td>9.798127</td>\n",
       "    </tr>\n",
       "  </tbody>\n",
       "</table>\n",
       "<p>7017 rows × 2 columns</p>\n",
       "</div>"
      ],
      "text/plain": [
       "      price  transformed_price\n",
       "0     43900          10.689670\n",
       "1     15490           9.647950\n",
       "2      2495           7.822044\n",
       "3      1300           7.170120\n",
       "4     13865           9.537123\n",
       "...     ...                ...\n",
       "7012  22500          10.021271\n",
       "7013   5975           8.695339\n",
       "7014   9999           9.210240\n",
       "7015  10900           9.296518\n",
       "7016  18000           9.798127\n",
       "\n",
       "[7017 rows x 2 columns]"
      ]
     },
     "metadata": {},
     "output_type": "display_data"
    },
    {
     "data": {
      "text/html": [
       "<div>\n",
       "<style scoped>\n",
       "    .dataframe tbody tr th:only-of-type {\n",
       "        vertical-align: middle;\n",
       "    }\n",
       "\n",
       "    .dataframe tbody tr th {\n",
       "        vertical-align: top;\n",
       "    }\n",
       "\n",
       "    .dataframe thead th {\n",
       "        text-align: right;\n",
       "    }\n",
       "</style>\n",
       "<table border=\"1\" class=\"dataframe\">\n",
       "  <thead>\n",
       "    <tr style=\"text-align: right;\">\n",
       "      <th></th>\n",
       "      <th>price</th>\n",
       "      <th>transformed_price</th>\n",
       "    </tr>\n",
       "  </thead>\n",
       "  <tbody>\n",
       "    <tr>\n",
       "      <th>count</th>\n",
       "      <td>7017.000000</td>\n",
       "      <td>7017.000000</td>\n",
       "    </tr>\n",
       "    <tr>\n",
       "      <th>mean</th>\n",
       "      <td>15121.549523</td>\n",
       "      <td>9.204510</td>\n",
       "    </tr>\n",
       "    <tr>\n",
       "      <th>std</th>\n",
       "      <td>11765.423119</td>\n",
       "      <td>1.275868</td>\n",
       "    </tr>\n",
       "    <tr>\n",
       "      <th>min</th>\n",
       "      <td>1.000000</td>\n",
       "      <td>0.000000</td>\n",
       "    </tr>\n",
       "    <tr>\n",
       "      <th>25%</th>\n",
       "      <td>5995.000000</td>\n",
       "      <td>8.698681</td>\n",
       "    </tr>\n",
       "    <tr>\n",
       "      <th>50%</th>\n",
       "      <td>12750.000000</td>\n",
       "      <td>9.453287</td>\n",
       "    </tr>\n",
       "    <tr>\n",
       "      <th>75%</th>\n",
       "      <td>21995.000000</td>\n",
       "      <td>9.998570</td>\n",
       "    </tr>\n",
       "    <tr>\n",
       "      <th>max</th>\n",
       "      <td>299500.000000</td>\n",
       "      <td>12.609870</td>\n",
       "    </tr>\n",
       "  </tbody>\n",
       "</table>\n",
       "</div>"
      ],
      "text/plain": [
       "               price  transformed_price\n",
       "count    7017.000000        7017.000000\n",
       "mean    15121.549523           9.204510\n",
       "std     11765.423119           1.275868\n",
       "min         1.000000           0.000000\n",
       "25%      5995.000000           8.698681\n",
       "50%     12750.000000           9.453287\n",
       "75%     21995.000000           9.998570\n",
       "max    299500.000000          12.609870"
      ]
     },
     "metadata": {},
     "output_type": "display_data"
    }
   ],
   "source": [
    "price_data = pd.concat([data['price'], log_price.rename('transformed_price')], axis=1)\n",
    "display(price_data)\n",
    "display(price_data.describe())\n"
   ]
  },
  {
   "cell_type": "markdown",
   "metadata": {},
   "source": [
    " Задание 6.3\n",
    "1 point possible (graded)\n",
    "Какое значение признака transformed_price имеет последний объект? Ответ округлите до одного знака после точки-разделителя."
   ]
  },
  {
   "cell_type": "code",
   "execution_count": 340,
   "metadata": {},
   "outputs": [
    {
     "name": "stdout",
     "output_type": "stream",
     "text": [
      "7016    9.798127\n",
      "Name: price, dtype: float64\n"
     ]
    }
   ],
   "source": [
    "print(log_price[-1::])"
   ]
  },
  {
   "cell_type": "markdown",
   "metadata": {},
   "source": [
    "ower Transformer Scaler\n",
    "\n",
    "Как и другие скейлеры, с которыми вы уже познакомились, Power Transformer также изменяет распределение переменной, то есть делает его более гауссовым (нормальным).\n",
    "\n",
    "Однако чтобы использовать все изученные раннее методы трансформации и скейлинга, необходимо сначала понять исходное распределение признака, а затем уже делать выбор. Power Transformer фактически автоматизирует принятие этого решения, вводя параметр, называемый lambda. Он принимает решение об обобщённом степенном преобразовании, находя наилучшее значение\n",
    "\n",
    " и используя один из следующих параметрических методов:\n",
    "\n",
    "        Преобразование Бокса-Кокса, которое работает для положительных значений признака.\n",
    "        Преобразование Йео-Джонсона, которое учитывает при расчётах нулевые и отрицательные значения обрабатываемых переменных.\n",
    "\n",
    "В нашем случае мы будем использовать преобразование Бокса-Кокса, так как все значения положительны."
   ]
  },
  {
   "cell_type": "code",
   "execution_count": 350,
   "metadata": {},
   "outputs": [
    {
     "name": "stderr",
     "output_type": "stream",
     "text": [
      "c:\\Users\\kot\\OneDrive\\Documents\\GitHub\\SkillFactory-DTS\\venv\\lib\\site-packages\\numpy\\core\\_methods.py:236: RuntimeWarning: overflow encountered in multiply\n",
      "  x = um.multiply(x, x, out=x)\n",
      "c:\\Users\\kot\\OneDrive\\Documents\\GitHub\\SkillFactory-DTS\\venv\\lib\\site-packages\\numpy\\core\\_methods.py:247: RuntimeWarning: overflow encountered in reduce\n",
      "  ret = umr_sum(x, axis, dtype, out, keepdims=keepdims, where=where)\n"
     ]
    }
   ],
   "source": [
    "from sklearn.preprocessing import PowerTransformer\n",
    "\n",
    "box_cox = PowerTransformer(method='box-cox')\n",
    "\n",
    "data_box_cox = box_cox.fit_transform(data[['price','year']].values)\n",
    "data_box_cox = pd.DataFrame(data_box_cox, columns = ['transformed_price', 'transformed_year'])\n",
    "\n"
   ]
  },
  {
   "cell_type": "code",
   "execution_count": 351,
   "metadata": {},
   "outputs": [
    {
     "data": {
      "image/png": "[encoded data removed]",
      "text/plain": [
       "<Figure size 800x800 with 4 Axes>"
      ]
     },
     "metadata": {},
     "output_type": "display_data"
    }
   ],
   "source": [
    "fig, axs = plt.subplots(2, 2, figsize=(8, 8), sharey=True)\n",
    "axs[0][0].hist(data['price'])\n",
    "axs[1][0].hist(data['year'])\n",
    "axs[0][1].hist(data_box_cox['transformed_price'])\n",
    "axs[1][1].hist(data_box_cox['transformed_year'])\n",
    "\n",
    "axs[0][0].set(title='price')\n",
    "axs[0][1].set(title='box cox price')\n",
    "\n",
    "axs[1][0].set(title='year')\n",
    "axs[1][1].set(title='box cox year')\n",
    "\n",
    "fig.suptitle('Сравнение распределений до трансформации и после')\n",
    "\n",
    "plt.show()"
   ]
  }
 ],
 "metadata": {
  "kernelspec": {
   "display_name": "Python 3.9.10 ('venv': venv)",
   "language": "python",
   "name": "python3"
  },
  "language_info": {
   "codemirror_mode": {
    "name": "ipython",
    "version": 3
   },
   "file_extension": ".py",
   "mimetype": "text/x-python",
   "name": "python",
   "nbconvert_exporter": "python",
   "pygments_lexer": "ipython3",
   "version": "3.9.10"
  },
  "orig_nbformat": 4,
  "vscode": {
   "interpreter": {
    "hash": "2741c0f151fcc1c598163fda889615f6748bf0880bdd6dd6aac269f3c712776d"
   }
  }
 },
 "nbformat": 4,
 "nbformat_minor": 2
}
